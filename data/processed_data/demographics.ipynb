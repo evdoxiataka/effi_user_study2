{
 "cells": [
  {
   "cell_type": "code",
   "execution_count": null,
   "id": "3dd8d985-1e70-4547-83d7-27cf062584a8",
   "metadata": {},
   "outputs": [],
   "source": [
    "import numpy as np\n",
    "import pandas as pd\n",
    "\n",
    "########################SET folder to project directory path#####################\n",
    "folder= \"\"\n",
    "\n",
    "import warnings\n",
    "from pandas.errors import SettingWithCopyWarning\n",
    "warnings.simplefilter(action=\"ignore\", category=SettingWithCopyWarning)"
   ]
  },
  {
   "cell_type": "code",
   "execution_count": null,
   "id": "98bb3df5-40e9-4158-bcec-47867aa9980d",
   "metadata": {},
   "outputs": [],
   "source": [
    "prolific_export = pd.read_excel(folder+\"data\\\\collected_data\\\\prolific_export_demographics.xlsx\")\n",
    "## GET data of only approved participants\n",
    "prolific_export = prolific_export[prolific_export['ACTION']=='Approved']\n",
    "\n",
    "## GET prolific id of approved participants\n",
    "participants = prolific_export['Participant id'].tolist()\n",
    "len(participants)"
   ]
  },
  {
   "cell_type": "markdown",
   "id": "6edd4b53-0636-4e85-9305-655f4e9f4f7f",
   "metadata": {},
   "source": [
    "# Descriptive stats for the participants"
   ]
  },
  {
   "cell_type": "markdown",
   "id": "30f4c954-30e1-4e73-bb22-d8902b65be77",
   "metadata": {},
   "source": [
    "## Age"
   ]
  },
  {
   "cell_type": "code",
   "execution_count": null,
   "id": "1a479915-dff4-4a18-b2b6-9f5519f30a53",
   "metadata": {},
   "outputs": [],
   "source": [
    "part_with_age = prolific_export[prolific_export[\"Age\"]!='DATA_EXPIRED']\n",
    "part_with_age[\"Age\"] = part_with_age[\"Age\"].astype(int)\n",
    "part_with_age.reset_index(drop = True, inplace = True)\n",
    "\n",
    "participant_age= part_with_age.groupby(by = [\"Participant id\",\"Age\"])\n",
    "\n",
    "participant_age_count = participant_age.size()\n",
    "\n",
    "data = []\n",
    "\n",
    "for i in range(0,len(participant_age_count.index)):\n",
    "    \n",
    "    data.append(\n",
    "    {\n",
    "        \"Participant\" : participant_age_count.index[i][0],\n",
    "        \"Age\" : participant_age_count.index[i][1],\n",
    "        \"Count\": participant_age_count.values[i]\n",
    "    }\n",
    "    )\n",
    "participant_age_df = pd.DataFrame(data)\n",
    "participant_age_df[\"Age\"] = participant_age_df[\"Age\"].astype(int)\n",
    "\n",
    "participant_age_df['Age'].loc[participant_age_df['Age'] <= 25] = 1\n",
    "participant_age_df['Age'].loc[(participant_age_df['Age'] >25) & (participant_age_df['Age'] <=40)] = 2\n",
    "participant_age_df['Age'].loc[(participant_age_df['Age'] >40) & (participant_age_df['Age'] <= 60)] = 3\n",
    "participant_age_df['Age'].loc[(participant_age_df['Age'] >60)] = 4\n",
    "\n",
    "\n",
    "participant_age_df.replace({'Age' : { 1 :'Young Adults(<25)', 2 : 'Adults(26-40)',3:\"Middle-Aged Adults(41-60)\",4:\"Older Adults(60+)\"}},inplace=True)\n",
    "participant_age_df.head()"
   ]
  },
  {
   "cell_type": "code",
   "execution_count": null,
   "id": "0ef223e4-a500-4aea-bc4a-1dde59777a56",
   "metadata": {},
   "outputs": [],
   "source": [
    "data = []\n",
    "\n",
    "for age in participant_age_df[\"Age\"].unique():\n",
    "    \n",
    "    data.append(\n",
    "    {\n",
    "        \"Age Group\" : age,\n",
    "        \"Total_Count\" : round(participant_age_df[participant_age_df[\"Age\"] == age].Count.sum(),2),\n",
    "#         \"Mean\": round(participant_age_df[participant_age_df[\"Age\"] == age].Count.mean(),2),\n",
    "#         \"Std\": round(participant_age_df[participant_age_df[\"Age\"] == age].Count.std(),2)\n",
    "    }\n",
    "    )    \n",
    "    \n",
    "each_participant_age_df = pd.DataFrame(data)\n",
    "\n",
    "each_participant_age_df.sort_values(by='Total_Count', ascending=False, inplace = True)\n",
    "each_participant_age_df.fillna(\"NA\", inplace = True)\n",
    "each_participant_age_df.reset_index(drop = True, inplace = True)\n",
    "\n",
    "display(each_participant_age_df)\n",
    "\n",
    "all_ages = list(part_with_age[\"Age\"].value_counts().index)\n",
    "\n",
    "print(\"Mean age of all participants: \", np.mean(all_ages))\n",
    "print(\"Std of age of all participants: \", round(np.std(all_ages),2))\n",
    "# each_participant_age_df.to_csv(\"Each_participant_age.csv\")"
   ]
  },
  {
   "cell_type": "markdown",
   "id": "649c6d31-c829-4a4e-b54d-ac4f647a0844",
   "metadata": {},
   "source": [
    "## Other Columns"
   ]
  },
  {
   "cell_type": "code",
   "execution_count": null,
   "id": "cec1aef1-f872-41ee-a867-75d5c50e2e03",
   "metadata": {},
   "outputs": [],
   "source": [
    "prolific_export.columns"
   ]
  },
  {
   "cell_type": "code",
   "execution_count": null,
   "id": "2abc4951-6126-4cb7-a088-ac1225e10428",
   "metadata": {},
   "outputs": [],
   "source": [
    "for column in part_with_age.columns[12:] :\n",
    "    display(column)    \n",
    "    current_df = prolific_export[column].value_counts().rename_axis('Groups').reset_index(name='counts')\n",
    "    display(current_df)"
   ]
  },
  {
   "cell_type": "code",
   "execution_count": null,
   "id": "2aa2bc19-3f4d-4d3d-a536-9c6fcbaa3a8f",
   "metadata": {},
   "outputs": [],
   "source": []
  }
 ],
 "metadata": {
  "kernelspec": {
   "display_name": "Python 3 (ipykernel)",
   "language": "python",
   "name": "python3"
  },
  "language_info": {
   "codemirror_mode": {
    "name": "ipython",
    "version": 3
   },
   "file_extension": ".py",
   "mimetype": "text/x-python",
   "name": "python",
   "nbconvert_exporter": "python",
   "pygments_lexer": "ipython3",
   "version": "3.11.4"
  }
 },
 "nbformat": 4,
 "nbformat_minor": 5
}
