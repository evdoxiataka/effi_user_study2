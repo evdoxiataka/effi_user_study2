{
 "cells": [
  {
   "cell_type": "code",
   "execution_count": null,
   "id": "281c7fc2-1423-41ac-a77e-7a0a8ce33f8f",
   "metadata": {},
   "outputs": [],
   "source": [
    "########################SET folder to path of code directory in the project folder#####################\n",
    "## SET PATH to code directory in the project folder\n",
    "code_path = \"\"\n",
    "import sys  \n",
    "sys.path.insert(1, code_path)\n",
    "\n",
    "########################SET folder to project directory path#####################\n",
    "folder= \"\"\n",
    "\n",
    "from utils.data_loading import get_questionnaires_responses\n",
    "from utils.data_loading import get_feedback\n",
    "from utils.data_loading import get_training"
   ]
  },
  {
   "cell_type": "markdown",
   "id": "dff23562-76a8-4c58-84e9-fd3a28de86e8",
   "metadata": {},
   "source": [
    "# Load data of all participants"
   ]
  },
  {
   "cell_type": "code",
   "execution_count": null,
   "id": "6d5bc65d-d6a5-4463-bb64-089ca26e45a6",
   "metadata": {},
   "outputs": [],
   "source": [
    "pre_dict = get_questionnaires_responses(folder+\"data\\\\collected_data\\\\LOGS\",\"_prequestionnaire.csv\") \n",
    "post_dict = get_questionnaires_responses(folder+\"data\\\\collected_data\\\\LOGS\",\"_postquestionnaire.csv\")\n",
    "interactions_dict = get_feedback(folder+\"data\\\\collected_data\\\\LOGS\\\\interactions\",\".csv\") \n",
    "training_dict = get_training(folder+\"data\\\\collected_data\\\\LOGS\",\"_training.csv\") \n",
    "\n",
    "##\n",
    "rejected_participants = []"
   ]
  },
  {
   "cell_type": "markdown",
   "id": "340fd9ce-a08b-4616-acde-17ebff350ccf",
   "metadata": {},
   "source": [
    "# Are there any participants for whom the preQuestionnaire data is missing?"
   ]
  },
  {
   "cell_type": "code",
   "execution_count": null,
   "id": "5d4196ba-e238-4341-b17d-0533d44cfc07",
   "metadata": {},
   "outputs": [],
   "source": [
    "for p_id in pre_dict:\n",
    "    if len(pre_dict[p_id])==0:\n",
    "        if p_id not in rejected_participants:\n",
    "            rejected_participants.append(p_id)\n",
    "        print(p_id)"
   ]
  },
  {
   "cell_type": "markdown",
   "id": "fe6b4536-2fde-45ed-af36-131cd87a4354",
   "metadata": {},
   "source": [
    "# Are there any participants for whom the postQuestionnaire data is missing?"
   ]
  },
  {
   "cell_type": "code",
   "execution_count": null,
   "id": "582fb259-3a2e-445e-aef4-15238d2c3c01",
   "metadata": {},
   "outputs": [],
   "source": [
    "for p_id in post_dict:\n",
    "    if len(post_dict[p_id])==0:\n",
    "        if p_id not in rejected_participants:\n",
    "            rejected_participants.append(p_id)\n",
    "        print(p_id)"
   ]
  },
  {
   "cell_type": "markdown",
   "id": "ce1fd3ad-b97a-4f47-b013-44a4e5fb26d4",
   "metadata": {},
   "source": [
    "# Are there any participants who failed the attention check question (question 2) in prequestionnaire?"
   ]
  },
  {
   "cell_type": "code",
   "execution_count": null,
   "id": "f6c70eb2-9944-4451-9d24-badb99bfadcb",
   "metadata": {},
   "outputs": [],
   "source": [
    "## Note: radio buttons selections range from 1-N, N:number radio buttons/checkboxes\n",
    "for user_id in pre_dict:\n",
    "    if 2 in pre_dict[user_id] and pre_dict[user_id][2]!=4: \n",
    "        print(user_id)"
   ]
  },
  {
   "cell_type": "markdown",
   "id": "30c3cf62-3d97-4eb1-b0e0-66196bbc7207",
   "metadata": {},
   "source": [
    "# Are there any participants who failed the attention check question (question 11) in postquestionnaire?"
   ]
  },
  {
   "cell_type": "code",
   "execution_count": null,
   "id": "9a49c1af-66e8-4862-ad5c-1095f588191d",
   "metadata": {},
   "outputs": [],
   "source": [
    "## Note: radio buttons selections range from 1-N, N:number radio buttons/checkboxes\n",
    "for user_id in post_dict:\n",
    "    if 11 in post_dict[user_id] and post_dict[user_id][11]!=4: \n",
    "        print(user_id)"
   ]
  },
  {
   "cell_type": "markdown",
   "id": "5bd6cf36-01cc-43f1-9371-f04e3e01ea7e",
   "metadata": {},
   "source": [
    "# How many feedback instances per participant in interaction logs (.csv files)"
   ]
  },
  {
   "cell_type": "code",
   "execution_count": null,
   "id": "d4e0f89d-3e1b-485c-9587-cf6f3d47df47",
   "metadata": {
    "scrolled": true
   },
   "outputs": [],
   "source": [
    "for p_id in interactions_dict:\n",
    "    print(p_id, len(interactions_dict[p_id]))"
   ]
  },
  {
   "cell_type": "markdown",
   "id": "a89f7307-10ed-4e29-8fe3-9457619846f4",
   "metadata": {},
   "source": [
    "# How many times the model was retrained per participant (_training.csv files)"
   ]
  },
  {
   "cell_type": "code",
   "execution_count": null,
   "id": "007dcc5a-39ef-4576-90df-5150e6697355",
   "metadata": {},
   "outputs": [],
   "source": [
    "for p_id in training_dict:\n",
    "    print(p_id, len(training_dict[p_id]))"
   ]
  },
  {
   "cell_type": "markdown",
   "id": "56721612-26c6-4851-9c29-e20c82a2c91f",
   "metadata": {},
   "source": [
    "# Participants who did not give feedback at all"
   ]
  },
  {
   "cell_type": "code",
   "execution_count": null,
   "id": "d877685f-c802-44b2-8eb1-7a70270fe4c3",
   "metadata": {},
   "outputs": [],
   "source": [
    "for p_id in interactions_dict:\n",
    "    if len(interactions_dict[p_id])==0:\n",
    "        if p_id not in rejected_participants:\n",
    "            rejected_participants.append(p_id)\n",
    "        print(p_id)"
   ]
  },
  {
   "cell_type": "markdown",
   "id": "cb173b0a-2ceb-4163-acaa-0d3862c6ab27",
   "metadata": {},
   "source": [
    "# Participants who gave <=2 feedback instances"
   ]
  },
  {
   "cell_type": "code",
   "execution_count": null,
   "id": "fd0e4a92-6184-4e67-9fe0-49b26194829c",
   "metadata": {},
   "outputs": [],
   "source": [
    "for p_id in interactions_dict:\n",
    "    if len(interactions_dict[p_id])!=0:\n",
    "        count_feedback = 0\n",
    "        count_all = 0\n",
    "        for app_id in interactions_dict[p_id]:\n",
    "            dat = interactions_dict[p_id][app_id]\n",
    "            count_all = count_all+1\n",
    "            if not (dat['label']=='checked' and dat['init_weights']==[]):\n",
    "                count_feedback = count_feedback +1\n",
    "        if count_feedback <=2:\n",
    "            if p_id not in rejected_participants:\n",
    "                rejected_participants.append(p_id)\n",
    "            print(p_id, count_all)"
   ]
  },
  {
   "cell_type": "code",
   "execution_count": null,
   "id": "28711bfb-1ff3-4950-8543-346f99d8e907",
   "metadata": {},
   "outputs": [],
   "source": [
    "rejected_participants"
   ]
  },
  {
   "cell_type": "markdown",
   "id": "19ab8d0f-32a1-456d-a74d-b5a33082f6ab",
   "metadata": {},
   "source": [
    "# Participants who gave only feedback consisting of checked instances with no weights changed"
   ]
  },
  {
   "cell_type": "code",
   "execution_count": null,
   "id": "6f101e2f-8b66-46aa-8f68-2136f9a359be",
   "metadata": {},
   "outputs": [],
   "source": [
    "for p_id in interactions_dict:\n",
    "    count_all = 0\n",
    "    count_checked = 0\n",
    "    for app_id in interactions_dict[p_id]:\n",
    "        dat = interactions_dict[p_id][app_id]\n",
    "        count_all = count_all+1\n",
    "        #print(dat['label'],dat['changed_weights'])\n",
    "        if 'label' in dat and dat['label']=='checked' and dat['changed_weights']==[]:\n",
    "            count_checked = count_checked +1\n",
    "    print(p_id, count_all, count_checked)\n",
    "    if count_all == count_checked:\n",
    "        print(\"only checked and no weights changed\",p_id, count_all, count_checked)"
   ]
  },
  {
   "cell_type": "code",
   "execution_count": null,
   "id": "3cb02b63-fb9c-4a13-873c-7c7bdaa1d278",
   "metadata": {},
   "outputs": [],
   "source": []
  }
 ],
 "metadata": {
  "kernelspec": {
   "display_name": "Python 3 (ipykernel)",
   "language": "python",
   "name": "python3"
  },
  "language_info": {
   "codemirror_mode": {
    "name": "ipython",
    "version": 3
   },
   "file_extension": ".py",
   "mimetype": "text/x-python",
   "name": "python",
   "nbconvert_exporter": "python",
   "pygments_lexer": "ipython3",
   "version": "3.11.4"
  }
 },
 "nbformat": 4,
 "nbformat_minor": 5
}
