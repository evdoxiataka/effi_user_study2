{
 "cells": [
  {
   "cell_type": "code",
   "execution_count": 1,
   "id": "d14098ad-e37d-4814-8407-26227871bff3",
   "metadata": {},
   "outputs": [
    {
     "name": "stderr",
     "output_type": "stream",
     "text": [
      "WARNING:root:No module named 'tensorflow': AdversarialDebiasing will be unavailable. To install, run:\n",
      "pip install 'aif360[AdversarialDebiasing]'\n",
      "WARNING:root:No module named 'tensorflow': AdversarialDebiasing will be unavailable. To install, run:\n",
      "pip install 'aif360[AdversarialDebiasing]'\n",
      "WARNING:root:No module named 'inFairness': SenSeI and SenSR will be unavailable. To install, run:\n",
      "pip install 'aif360[inFairness]'\n",
      "WARNING:root:No module named 'ot': ot_distance will be unavailable. To install, run:\n",
      "pip install 'aif360[OptimalTransport]'\n"
     ]
    }
   ],
   "source": [
    "import numpy as np\n",
    "import pandas as pd\n",
    "import ast\n",
    "\n",
    "########################SET folder to path of code directory in the project folder#####################\n",
    "## SET PATH to code directory in the project folder\n",
    "code_path = \"C:\\\\Users\\\\evdoxiataka\\\\codes\\\\effi_user_study_2\\\\code\\\\\"\n",
    "import sys  \n",
    "sys.path.insert(1, code_path)\n",
    "\n",
    "########################SET folder to project directory path#####################\n",
    "folder= \"C:\\\\Users\\\\evdoxiataka\\\\codes\\\\effi_user_study_2\\\\\"\n",
    "\n",
    "from utils.data_loading import get_feedback_df, get_training\n",
    "from utils.utils import attributes_names_mapping\n",
    "from utils.training import oneoff_training_evaluation, iml_training_evaluation\n",
    "\n",
    "import warnings\n",
    "from pandas.errors import SettingWithCopyWarning\n",
    "warnings.simplefilter(action=\"ignore\", category=SettingWithCopyWarning)\n",
    "\n",
    "sensitive_attrs = list(attributes_names_mapping.keys())\n",
    "fs = 0.5"
   ]
  },
  {
   "cell_type": "markdown",
   "id": "cd9e6f22-ac00-4846-ab65-d20f4ea04a0b",
   "metadata": {},
   "source": [
    "# Data Loading"
   ]
  },
  {
   "cell_type": "code",
   "execution_count": 2,
   "id": "52983ea3-7d48-4010-a8d7-df8252f4b5a2",
   "metadata": {},
   "outputs": [],
   "source": [
    "## LOAD TRAINING DATA\n",
    "training_dict = get_training(folder+\"data\\\\collected_data\\\\LOGS\\\\\",\"_training.csv\") "
   ]
  },
  {
   "cell_type": "code",
   "execution_count": 3,
   "id": "073dd0aa-3821-4112-9594-1e46e7dd0c67",
   "metadata": {
    "scrolled": true
   },
   "outputs": [
    {
     "name": "stdout",
     "output_type": "stream",
     "text": [
      "23\n",
      "1544\n",
      "1533\n"
     ]
    }
   ],
   "source": [
    "## load training, validation and test sets\n",
    "train_df_train = pd.read_csv(folder+'data\\\\processed_data\\\\train.csv', delimiter=',')\n",
    "train_df_train = train_df_train.loc[:, ~train_df_train.columns.isin(['Unnamed: 0'])]\n",
    "train_df_test = pd.read_csv(folder+'data\\\\processed_data\\\\validation.csv', delimiter=',')\n",
    "train_df_test = train_df_test.loc[:, ~train_df_test.columns.isin(['Unnamed: 0'])]\n",
    "test_df = pd.read_csv(folder+'data\\\\processed_data\\\\test.csv', delimiter=',') ## test data used to predict labels before shown to participants\n",
    "test_df = test_df.loc[:, ~test_df.columns.isin(['TARGET','Unnamed: 0'])]\n",
    "\n",
    "X_train_original = train_df_train.loc[:, ~train_df_train.columns.isin(['TARGET', 'SK_ID_CURR'])]\n",
    "y_train_original = train_df_train.loc[:, train_df_train.columns == 'TARGET']\n",
    "X_test_original = train_df_test.loc[:, ~train_df_test.columns.isin(['TARGET', 'SK_ID_CURR'])] ## dataset used for accuracy\n",
    "y_test_original = train_df_test.loc[:, train_df_test.columns == 'TARGET']\n",
    "\n",
    "## attributes used in training in correct order\n",
    "training_attr_in_order = X_train_original.columns.tolist()\n",
    "training_attr_descriptive_in_order = [attributes_names_mapping[attr[:-3]] if attr.endswith('_LE') else attributes_names_mapping[attr] for attr in training_attr_in_order]\n",
    "\n",
    "## load original test set to be used for fairness metrics\n",
    "train_df_test_bin = pd.read_csv(folder+'data\\\\processed_data\\\\validation_bin.csv', delimiter=',')\n",
    "train_df_test_bin = train_df_test_bin.loc[:, ~train_df_test_bin.columns.isin(['Unnamed: 0'])]\n",
    "\n",
    "## LOAD FEEDBACK\n",
    "prolific_export_filePath = folder+\"data\\\\collected_data\\\\prolific_export_demographics.xlsx\"\n",
    "interaction_logs_filePath = folder+\"data\\\\collected_data\\\\LOGS\\\\interactions\\\\\"\n",
    "feedback_df = get_feedback_df(prolific_export_filePath, interaction_logs_filePath)\n",
    "\n",
    "## discard feedback before revert button click\n",
    "rev_df = feedback_df[feedback_df[\"Function\"]==\"REVERTBUTTON_CLICKED\"]\n",
    "ok_rev_df = feedback_df[feedback_df[\"Function\"].isin([\"REVERTBUTTON_CLICKED\",\"OKBUTTON_CLICKED_DECIDE_MODAL_Applications_List\"]) ]\n",
    "rev_idx = rev_df.index.tolist()\n",
    "ok_rev_idx = ok_rev_df.index.tolist()\n",
    "ok_rev_idx_idx = [ok_rev_idx.index(i)-1 for i in rev_idx] \n",
    "ok_rev_del_idx = [ok_rev_idx[i] for i in ok_rev_idx_idx]\n",
    "feedback_df = feedback_df[feedback_df['Function']=='OKBUTTON_CLICKED_DECIDE_MODAL_Applications_List']\n",
    "print(len(feedback_df))\n",
    "feedback_df = feedback_df[~feedback_df.index.isin(ok_rev_del_idx)]\n",
    "print(len(feedback_df))\n",
    "##\n",
    "feedback_df.drop(columns = \"Lower bound\",inplace = True)\n",
    "feedback_df.drop(columns = \"Upper bound\",inplace = True)\n",
    "\n",
    "## GET NEW WEIGHTS AND NORMALIZE\n",
    "all_new_values = []\n",
    "pred_decision = []\n",
    "for i in feedback_df.index :\n",
    "    app_id = feedback_df['App ID'].loc[i]\n",
    "    p_id = feedback_df['ID'].loc[i]\n",
    "    value = ast.literal_eval(feedback_df['Value'].loc[i])\n",
    "    ch_values = {pair['attribute']:float(pair['value']) for pair in value['changed_weights']}\n",
    "    init_values = {pair['attribute']:float(pair['value']) for pair in ast.literal_eval(value['initial_weights'])}\n",
    "    # ##\n",
    "    # tr_idx = 0\n",
    "    # fd_p_id_app_id = feedback_df[feedback_df['ID']==p_id]\n",
    "    # fd_p_id_app_id = fd_p_id_app_id[fd_p_id_app_id['App ID']==app_id]\n",
    "    # if len(fd_p_id_app_id):\n",
    "    #     tr_idx = fd_p_id_app_id.index.tolist().index(i)\n",
    "    ## PREDICTED DECISION\n",
    "    if p_id in training_dict and str(app_id) in training_dict[p_id]:\n",
    "        # pred_decision.append('Accepted' if training_dict[p_id][str(app_id)][tr_idx]['predicted_decision'][str(app_id)] else 'Rejected')\n",
    "        pred_decision.append('Accepted' if training_dict[p_id][str(app_id)]['predicted_decision'][str(app_id)] else 'Rejected')\n",
    "    else:\n",
    "        pred_decision.append(None)\n",
    "    ##\n",
    "    new_value = []\n",
    "    if len(ch_values)==0:\n",
    "        all_new_values.append(new_value) \n",
    "    else:\n",
    "        for attr in training_attr_descriptive_in_order:\n",
    "            if attr in ch_values:\n",
    "                new_value.append(ch_values[attr])\n",
    "            else:\n",
    "                new_value.append(init_values[attr])\n",
    "        ## NORMALIZE    \n",
    "        normalizing_factor = sum(new_value)\n",
    "        new_value = [v/normalizing_factor for v in new_value]\n",
    "        # if sum(new_value) >1.0:\n",
    "        #     print(sum(new_value), max(new_value),min(new_value))\n",
    "        all_new_values.append(new_value)    \n",
    "feedback_df['Value'] = all_new_values\n",
    "feedback_df['PredictedDecision'] = pred_decision"
   ]
  },
  {
   "cell_type": "markdown",
   "id": "160e33ea-97f3-4da7-9f11-d2351fbc350b",
   "metadata": {
    "jp-MarkdownHeadingCollapsed": true
   },
   "source": [
    "### Global Model - Labels_Unfair ('unfair' only)\n",
    "The XGboost classifier is retrained. The feedback instances of all participants are added into the training set all at once.\n",
    "\n",
    "**Only the 'unfair'** labelled instances by participants are used. \n",
    "\n",
    "We set fs = 0.5."
   ]
  },
  {
   "cell_type": "code",
   "execution_count": null,
   "id": "e11a5a60-6427-4feb-b0a3-b194afc24ef4",
   "metadata": {
    "scrolled": true
   },
   "outputs": [],
   "source": [
    "oneoff_training_evaluation(X_train_original, y_train_original,\n",
    "                            X_test_original, y_test_original,\n",
    "                           train_df_test_bin, test_df,\n",
    "                            sensitive_attrs, fs, feedback_df,\n",
    "                           True, False,\n",
    "                           folder+'data\\\\results\\\\global\\\\Labels_Unfair\\\\','global_Labels_Unfair')"
   ]
  },
  {
   "cell_type": "markdown",
   "id": "d4b05e3c-d2ae-42ae-a5d9-1eadba152446",
   "metadata": {
    "jp-MarkdownHeadingCollapsed": true
   },
   "source": [
    "### Global Model - Labels_Unfair+Weights ('unfair')\n",
    "The XGboost classifier is retrained. The unfair feedback instances of all participants are added into the training set all at once. The attribute weights are set at the average suggested weights from all ('checkes' and 'unfair') feedback instances of participants.\n",
    "\n",
    "We set fs = 0.5."
   ]
  },
  {
   "cell_type": "code",
   "execution_count": null,
   "id": "da000f38-8e9a-4cd5-a227-00f192daf1d8",
   "metadata": {
    "scrolled": true
   },
   "outputs": [],
   "source": [
    "oneoff_training_evaluation(X_train_original, y_train_original,\n",
    "                            X_test_original, y_test_original,\n",
    "                           train_df_test_bin, test_df,\n",
    "                            sensitive_attrs, fs, feedback_df,\n",
    "                           True, True, folder+'data\\\\results\\\\global\\\\Labels_Unfair+Weights\\\\','global_Labels_Unfair+Weights')"
   ]
  },
  {
   "cell_type": "markdown",
   "id": "d756a48e-792e-463f-ba43-77dc69570e82",
   "metadata": {
    "jp-MarkdownHeadingCollapsed": true
   },
   "source": [
    "### Personalized - Labels_Unfair ('unfair')\n",
    "58 XGboost classifiers will be trained, one for each participant independently. The feedback instances of each participant will be added to the training set incrementally, one at a time, in increasing timestamps (the previous feedback instances of a participant remain in the training set as we add a new one). The XGboost classifier is retrained from scratch in every incremental step (iteration). \n",
    "\n",
    "**Only the 'unfair'** labelled instances by participants are used.\n",
    "\n",
    "We set fs = 0.5."
   ]
  },
  {
   "cell_type": "code",
   "execution_count": null,
   "id": "38948768-afcd-46d7-97cd-f27d638418ce",
   "metadata": {
    "scrolled": true
   },
   "outputs": [],
   "source": [
    "iml_training_evaluation(X_train_original, y_train_original,\n",
    "                        X_test_original, y_test_original,\n",
    "                        train_df_test_bin, test_df,\n",
    "                        sensitive_attrs, fs, feedback_df,\n",
    "                        True, False, \n",
    "                        folder+'data\\\\results\\\\personalized\\\\Labels_Unfair\\\\', 'personalized-Labels_Unfair')"
   ]
  },
  {
   "cell_type": "markdown",
   "id": "3e3025f5-2570-4fe5-bd37-2a3c14e3732a",
   "metadata": {},
   "source": [
    "### Personalized - Labels_Unfair-Weights ('unfair')\n",
    "58 XGboost classifiers will be trained, one for each participant independently. The feedback instances of each participant will be added to the training set incrementally, one at a time, in increasing timestamps (the previous feedback instances of a participant remain in the training set as we add a new one). The XGboost classifier is retrained from scratch in every incremental step (iteration). \n",
    "\n",
    "**All the 'unfair'** labelled instances are used integrated in the training set. When an instance is not labeled as unfair but weights are provided the model is retrained using the last training set and setting the weights according to participant's feeeback. Participants weights of each instance are used to set feature weights of the training.\n",
    "\n",
    "We set fs = 0.5."
   ]
  },
  {
   "cell_type": "code",
   "execution_count": 4,
   "id": "451ece0d-b852-4ad1-a54b-7b0d450e5d67",
   "metadata": {
    "scrolled": true
   },
   "outputs": [
    {
     "name": "stdout",
     "output_type": "stream",
     "text": [
      "participant 0\n",
      "participant 1\n",
      "participant 2\n",
      "participant 3\n",
      "participant 4\n",
      "participant 5\n",
      "participant 6\n",
      "participant 7\n",
      "participant 8\n",
      "participant 9\n",
      "participant 10\n",
      "participant 11\n",
      "participant 12\n",
      "participant 13\n",
      "participant 14\n",
      "participant 15\n",
      "participant 16\n",
      "participant 17\n",
      "participant 18\n",
      "participant 19\n",
      "participant 20\n",
      "participant 21\n",
      "participant 22\n",
      "participant 23\n",
      "participant 24\n",
      "participant 25\n",
      "participant 26\n",
      "participant 27\n",
      "participant 28\n",
      "participant 29\n",
      "participant 30\n",
      "participant 31\n",
      "participant 32\n",
      "participant 33\n",
      "participant 34\n",
      "participant 35\n",
      "participant 36\n",
      "participant 37\n",
      "participant 38\n",
      "participant 39\n",
      "participant 40\n",
      "participant 41\n",
      "participant 42\n",
      "participant 43\n",
      "participant 44\n",
      "participant 45\n",
      "participant 46\n",
      "participant 47\n",
      "participant 48\n",
      "participant 49\n",
      "participant 50\n",
      "participant 51\n",
      "participant 52\n",
      "participant 53\n",
      "participant 54\n",
      "participant 55\n",
      "participant 56\n",
      "participant 57\n",
      "participant 58\n",
      "participant 59\n",
      "participant 60\n",
      "participant 61\n",
      "participant 62\n",
      "participant 63\n",
      "participant 64\n",
      "participant 65\n"
     ]
    }
   ],
   "source": [
    "iml_training_evaluation(X_train_original, y_train_original,\n",
    "                        X_test_original, y_test_original,\n",
    "                        train_df_test_bin, test_df,\n",
    "                        sensitive_attrs, fs, feedback_df,\n",
    "                        True, True, \n",
    "                        folder+'data\\\\results\\\\personalized\\\\Labels_Unfair+Weights\\\\','personalized-Labels_Unfair+Weights')"
   ]
  },
  {
   "cell_type": "code",
   "execution_count": null,
   "id": "fe87a3b4-88e5-4eec-8690-8a7756a23013",
   "metadata": {},
   "outputs": [],
   "source": []
  },
  {
   "cell_type": "code",
   "execution_count": null,
   "id": "9fafccbc-6fae-4216-8bf0-b8e7e333337e",
   "metadata": {},
   "outputs": [],
   "source": []
  }
 ],
 "metadata": {
  "kernelspec": {
   "display_name": "Python 3 (ipykernel)",
   "language": "python",
   "name": "python3"
  },
  "language_info": {
   "codemirror_mode": {
    "name": "ipython",
    "version": 3
   },
   "file_extension": ".py",
   "mimetype": "text/x-python",
   "name": "python",
   "nbconvert_exporter": "python",
   "pygments_lexer": "ipython3",
   "version": "3.12.3"
  }
 },
 "nbformat": 4,
 "nbformat_minor": 5
}
