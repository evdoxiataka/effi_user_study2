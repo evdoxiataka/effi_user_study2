{
 "cells": [
  {
   "cell_type": "code",
   "execution_count": null,
   "id": "2555bbca-685e-4a7f-b65a-d1b9d300a83d",
   "metadata": {},
   "outputs": [],
   "source": [
    "import numpy as np\n",
    "import pandas as pd\n",
    "import json\n",
    "\n",
    "########################SET folder to path of code directory in the project folder#####################\n",
    "## SET PATH to code directory in the project folder\n",
    "code_path = \"\"\n",
    "import sys  \n",
    "sys.path.insert(1, code_path)\n",
    "\n",
    "########################SET folder to project directory path#####################\n",
    "folder= \"\"\n",
    "\n",
    "from utils.utils import *\n",
    "from utils.visualization import *\n",
    "\n",
    "import matplotlib\n",
    "import matplotlib.pyplot as plt\n",
    "\n",
    "import warnings\n",
    "from pandas.errors import SettingWithCopyWarning\n",
    "warnings.simplefilter(action=\"ignore\", category=SettingWithCopyWarning)\n",
    "\n",
    "sensitive_attrs = [\"CODE_GENDER\",\"NAME_FAMILY_STATUS\",\"AGE\"]\n",
    "all_attributes = list(attributes_names_mapping.keys())\n",
    "all_attributes.remove(\"CODE_GENDER\")\n",
    "all_attributes.remove(\"NAME_FAMILY_STATUS\")\n",
    "all_attributes.remove(\"AGE\")\n",
    "sensitive_attrs = sensitive_attrs+all_attributes\n",
    "fs = 0.5\n",
    "\n",
    "##\n",
    "colors = ['r','g','b','orange','purple', 'y','cyan','magenta','tab:blue']\n",
    "\n",
    "##\n",
    "group_fair = ['DemographicParityRatio','AverageOddsDifference']\n",
    "group_fair_codes = ['DPR','AOD']\n",
    "indiv_fair = ['consistency',\n",
    "'counterfactual_CODE_GENDER',\n",
    "'counterfactual_AGE',\n",
    "'counterfactual_NAME_FAMILY_STATUS']"
   ]
  },
  {
   "cell_type": "markdown",
   "id": "0ea14234-f4ca-405d-b39c-9ebc3be0b333",
   "metadata": {},
   "source": [
    "# Global Model"
   ]
  },
  {
   "cell_type": "markdown",
   "id": "e78a4b30-9d77-46a0-928e-641f5cd3d0aa",
   "metadata": {},
   "source": [
    "## Labels ('checked'+'unfair')"
   ]
  },
  {
   "cell_type": "code",
   "execution_count": null,
   "id": "62be925b-3788-4b86-b233-8d4b0592bd66",
   "metadata": {},
   "outputs": [],
   "source": [
    "df_group_oneoff_ap1 = pd.read_csv(folder+'data\\\\results\\\\global\\\\Labels\\\\group_fairness_global_Labels.csv', delimiter=',')\n",
    "df_indiv = pd.read_csv(folder+'data\\\\results\\\\global\\\\Labels\\\\individual_fairness_global_Labels.csv', delimiter=',')\n",
    "df_acc_oneoff_ap1 = pd.read_csv(folder+'data\\\\results\\\\global\\\\Labels\\\\accuracy_global_Labels.csv', delimiter=',')\n",
    "\n",
    "perc_change_df1 = get_percentage_change_oneoff(df_group_oneoff_ap1, group_fair, \n",
    "                                              df_indiv, indiv_fair, \n",
    "                                              df_acc_oneoff_ap1, \n",
    "                                              sensitive_attrs, fs)\n",
    "##\n",
    "perc_change_df1.to_csv(folder+\"data\\\\results\\\\global\\\\Labels\\\\perc_change_global_Labels.csv\", index=False)\n",
    "# perc_change_df"
   ]
  },
  {
   "cell_type": "markdown",
   "id": "abd3cee4-13eb-4d2d-ad96-3b6f54e3ca2b",
   "metadata": {},
   "source": [
    "## Labels ('unfair') "
   ]
  },
  {
   "cell_type": "code",
   "execution_count": null,
   "id": "3a45d1a6-95dc-4f2f-9d39-f43513d8533f",
   "metadata": {},
   "outputs": [],
   "source": [
    "df_group_oneoff_ap2 = pd.read_csv(folder+'data\\\\results\\\\global\\\\Labels_Unfair\\\\group_fairness_global_Labels_Unfair.csv', delimiter=',')\n",
    "df_indiv = pd.read_csv(folder+'data\\\\results\\\\global\\\\Labels_Unfair\\\\individual_fairness_global_Labels_Unfair.csv', delimiter=',')\n",
    "df_acc_oneoff_ap2 = pd.read_csv(folder+'data\\\\results\\\\global\\\\Labels_Unfair\\\\accuracy_global_Labels_Unfair.csv', delimiter=',')\n",
    "\n",
    "perc_change_df2 = get_percentage_change_oneoff(df_group_oneoff_ap2, group_fair, \n",
    "                                              df_indiv, indiv_fair, \n",
    "                                              df_acc_oneoff_ap2, \n",
    "                                              sensitive_attrs, fs)\n",
    "##\n",
    "perc_change_df2.to_csv(folder+\"data\\\\results\\\\global\\\\Labels_Unfair\\\\perc_change_global_Labels_Unfair.csv\", index=False)\n",
    "# perc_change_df2"
   ]
  },
  {
   "cell_type": "markdown",
   "id": "9ab401bd-f2f9-4654-8972-4f876ee35df9",
   "metadata": {},
   "source": [
    "## Labels+Weights ('checked'+'unfair')"
   ]
  },
  {
   "cell_type": "code",
   "execution_count": null,
   "id": "582e1c18-e78a-4575-977e-c3d316fa966c",
   "metadata": {},
   "outputs": [],
   "source": [
    "df_group_oneoff_ap3 = pd.read_csv(folder+'data\\\\results\\\\global\\\\Labels+Weights\\\\group_fairness_global_Labels+Weights.csv', delimiter=',')\n",
    "df_indiv = pd.read_csv(folder+'data\\\\results\\\\global\\\\Labels+Weights\\\\individual_fairness_global_Labels+Weights.csv', delimiter=',')\n",
    "df_acc_oneoff_ap3 = pd.read_csv(folder+'data\\\\results\\\\global\\\\Labels+Weights\\\\accuracy_global_Labels+Weights.csv', delimiter=',')\n",
    "\n",
    "perc_change_df3 = get_percentage_change_oneoff(df_group_oneoff_ap3, group_fair, \n",
    "                                              df_indiv, indiv_fair, \n",
    "                                              df_acc_oneoff_ap3, \n",
    "                                              sensitive_attrs, fs)\n",
    "##\n",
    "perc_change_df3.to_csv(folder+\"data\\\\results\\\\global\\\\Labels+Weights\\\\perc_change_global_Labels+Weights.csv\", index=False)\n",
    "# perc_change_df"
   ]
  },
  {
   "cell_type": "markdown",
   "id": "4783fd69-4d7f-475c-8b8c-dad2e285cb36",
   "metadata": {},
   "source": [
    "## Comparison to Taka et al. 2023"
   ]
  },
  {
   "cell_type": "code",
   "execution_count": null,
   "id": "3b28869f-6c8c-4745-8348-fba34451fdba",
   "metadata": {},
   "outputs": [],
   "source": [
    "labels_this = [-1.54,-2.18,-4.74,17.15,14.54,6.61]\n",
    "labels_taka = [0.06,-3.57,0.23,-2.08,10.26,1.64]\n",
    "labels_unfair_this = [-2,4.69,-7.5,16.75,-4.53,13.27]\n",
    "labels_unfair_taka = [1.57,5.5,0.2,-9.56,-15.52,-4.67]\n",
    "labels_weights_this = [-2.5,19.17,-6.51,6.39,-31.19,-19.21]\n",
    "labels_weights_taka = [0.06,-3.9,-5.77,-1.03,14.2,5.31]\n",
    "import pandas\n",
    "import matplotlib\n",
    "import matplotlib.pyplot as plt\n",
    "from pandas.plotting import parallel_coordinates\n",
    "\n",
    "matplotlib.rcParams.update({'font.size': 22})\n",
    "fig, axes = plt.subplots(1, 1, figsize=(20, 6), layout=\"constrained\")\n",
    "fig.suptitle('IML (this paper) vs. non-IML (Taka et. al. 2023) feedback: \\n Comparison of Global models')\n",
    "# Make the plot\n",
    "axes.plot([0,1,2,3,4,5],labels_this, color='blue',label='Labels')\n",
    "axes.plot([0,1,2,3,4,5],labels_taka, color='orange',label='Labels Taka et. al.')\n",
    "axes.plot([0,1,2,3,4,5],labels_unfair_this, color='blue',linestyle='dashed',label='Labels_Unfair')\n",
    "axes.plot([0,1,2,3,4,5],labels_unfair_taka, color='orange',linestyle='dashed',label='Labels_Unfair Taka et. al.')\n",
    "axes.plot([0,1,2,3,4,5],labels_weights_this, color='blue',linestyle='dashdot',label='Labels+Weights')\n",
    "axes.plot([0,1,2,3,4,5],labels_weights_taka, color='orange',linestyle='dashdot',label='Labels+Weights Taka et. al.')\n",
    "axes.plot([0,1,2,3,4,5],[0,0,0,0,0,0], color='black',lw=3)\n",
    "# axes.set_ylim(-48,30)\n",
    "axes.set_ylabel('Perc. Ch. % \\n From Baseline')\n",
    "axes.xaxis.set_ticklabels(['','Gender \\n DPR (↑)', 'Marit. Status \\n DPR (↑)','Age \\n DPR (↑)','Gender \\n AOD (↓)', 'Marit. Status \\n AOD (↓)','Age \\n AOD (↓)'])\n",
    "# axes.legend()\n",
    "axes.legend(bbox_to_anchor=(1., 1.05))\n",
    "# axes.get_legend().remove()\n",
    "##\n",
    "file_name = 'global_comparisontoTaka.jpg'\n",
    "fig.savefig(folder+\"data\\\\results\\\\global\\\\\"+file_name, dpi=300)\n",
    "plt.show()"
   ]
  },
  {
   "cell_type": "markdown",
   "id": "2c34c635-e79a-4b38-a5d0-642a97b0135a",
   "metadata": {},
   "source": [
    "# Personalized Models"
   ]
  },
  {
   "cell_type": "markdown",
   "id": "6c2fe5d6-9fb4-4f8d-b1ed-f32edec1e91c",
   "metadata": {},
   "source": [
    "## Labels ('checked'+'unfair')"
   ]
  },
  {
   "cell_type": "code",
   "execution_count": null,
   "id": "a4a0f91c-36cb-4c89-803e-fb37cc1b7c26",
   "metadata": {},
   "outputs": [],
   "source": [
    "df_group = pd.read_csv(folder+'data\\\\results\\\\personalized\\\\Labels\\\\group_fairness_personalized-labels_with_cma.csv', delimiter=',')\n",
    "df_indiv = pd.read_csv(folder+'data\\\\results\\\\personalized\\\\Labels\\\\individual_fairness_personalized-labels_with_cma.csv', delimiter=',')\n",
    "df_acc = pd.read_csv(folder+'data\\\\results\\\\personalized\\\\Labels\\\\accuracy_personalized-labels_with_cma.csv', delimiter=',')\n",
    "\n",
    "perc_change_df,cma_perc_change_df_l = get_percentage_change_IML(df_group, \n",
    "                                                                group_fair, \n",
    "                                                                df_indiv, \n",
    "                                                                indiv_fair, \n",
    "                                                                sensitive_attrs, \n",
    "                                                                fs)\n",
    "perc_change_df.to_csv(folder+\"data\\\\results\\\\personalized\\\\Labels\\\\perc_change_personalized-labels_raw.csv\", index=False)\n",
    "cma_perc_change_df_l.to_csv(folder+\"data\\\\results\\\\personalized\\\\Labels\\\\perc_change_personalized-labels_cma.csv\", index=False)\n",
    "\n",
    "p_ids = perc_change_df['participant_id'].tolist()"
   ]
  },
  {
   "cell_type": "markdown",
   "id": "ee0ea9b4-a5a9-400c-b5e4-04d5eae3bace",
   "metadata": {
    "jp-MarkdownHeadingCollapsed": true
   },
   "source": [
    "### Cluster participants based on perc. change of group fairness measured at last iteration of CMA"
   ]
  },
  {
   "cell_type": "code",
   "execution_count": null,
   "id": "d08a8aa4-6644-4a01-a885-b5e38e7db462",
   "metadata": {},
   "outputs": [],
   "source": [
    "## df to array - keep only group fairness for gender - age - marital status\n",
    "clustered_data = []\n",
    "for i in cma_perc_change_df_l.index:\n",
    "    clustered_data.append(cma_perc_change_df_l.loc[i].tolist()[0:6])\n",
    "metric = 'mean'"
   ]
  },
  {
   "cell_type": "code",
   "execution_count": null,
   "id": "f4305aee-53f2-46c7-a81f-4a0dbef99ce0",
   "metadata": {},
   "outputs": [],
   "source": [
    "## Search for optimal number of clusters\n",
    "# candidate values for our number of cluster\n",
    "parameters = [2, 3, 4, 5, 6, 7, 8, 9, 10, 15, 20, 25, 30, 35, 40, 45]\n",
    "silhouette_scores, best_score, best_grid = k_means_optimize_parameter(clustered_data, parameters, metric)\n",
    "plot_silhouette_scores(silhouette_scores, parameters)"
   ]
  },
  {
   "cell_type": "code",
   "execution_count": null,
   "id": "ad9d64da-0025-40ba-812f-0266bbf033de",
   "metadata": {
    "scrolled": true
   },
   "outputs": [],
   "source": [
    "nc = 2\n",
    "cluster_ids, cluster_centroids, array_of_vectors_pca = k_means_pca(clustered_data, nc, metric, n_components=2)\n",
    "plot_clusters(array_of_vectors_pca, cluster_ids, colors)\n",
    "##\n",
    "cluster_p_id_dict = {}\n",
    "for i, cl_id in enumerate(cluster_ids):\n",
    "    color = 'cluster_'+str(cl_id)\n",
    "    if color not in cluster_p_id_dict:\n",
    "        cluster_p_id_dict[color] = []\n",
    "    cluster_p_id_dict[color].append((i, p_ids[i]))\n",
    "cluster_p_id_dict"
   ]
  },
  {
   "cell_type": "code",
   "execution_count": null,
   "id": "dafbcf67-7f72-4f6d-9824-a77e292a01bc",
   "metadata": {
    "scrolled": true
   },
   "outputs": [],
   "source": [
    "clustered_data_df = cma_perc_change_df_l.copy(deep=True)\n",
    "# clustered_data_df.drop(columns=['consistency_10','theil_index'],inplace=True)\n",
    "clustered_data_df['cluster_id'] = cluster_ids\n",
    "# for i,centroid in enumerate(cluster_centroids):\n",
    "#     centroid = centroid.tolist()\n",
    "#     centroid.append('centroid')\n",
    "#     centroid.append(i)\n",
    "#     clustered_data_df.loc[len(clustered_data_df)-1+i] = centroid\n",
    "# clustered_data_df.to_csv(folder+\"data\\\\results\\\\personalized\\\\Labels\\\\clustering\\\\perc_change_personalized-labels_clustering_cma_group.csv\", index=False)\n",
    "# # clustered_data_df.to_csv(\"perc_change_personalized-Labels_Unfair_clustering_cma_group+indiv.csv\", index=False)"
   ]
  },
  {
   "cell_type": "code",
   "execution_count": null,
   "id": "b673740f-a865-4c8d-8aa3-617c0c6945ac",
   "metadata": {},
   "outputs": [],
   "source": [
    "for cl in cluster_p_id_dict:\n",
    "    print(cl,len(cluster_p_id_dict[cl]))"
   ]
  },
  {
   "cell_type": "markdown",
   "id": "665e258c-5ea1-4eb4-a6fd-7f108ce2d257",
   "metadata": {},
   "source": [
    "#### Line plots per cluster"
   ]
  },
  {
   "cell_type": "code",
   "execution_count": null,
   "id": "ff3eb5c1-f757-40c0-8679-9d32bb20a816",
   "metadata": {
    "scrolled": true
   },
   "outputs": [],
   "source": [
    "for cl in cluster_p_id_dict:\n",
    "    title = 'personalized-Labels_Clustering_CMA_Group_{}'.format(cl)\n",
    "    filename = 'lineGraphs_personalized-Labels_Clustering_CMA_Group_{}'.format(cl)\n",
    "    image_type = '.jpeg'    \n",
    "    cl_participants = [p_id[1] for p_id in cluster_p_id_dict[cl]]\n",
    "    cl_participants.append(np.nan)\n",
    "    print(cl, cl_participants)\n",
    "    joint_plot_all_participants(title, \n",
    "                                folder+\"data\\\\results\\\\personalized\\\\Labels\\\\clustering\\\\\", filename, image_type, \n",
    "                                [\"CODE_GENDER\",\"NAME_FAMILY_STATUS\",\"AGE\"], \n",
    "                                group_fair, group_fair_codes,\n",
    "                                fs, \n",
    "                                df_group.loc[df_group['participant_id'].isin(cl_participants)], \n",
    "                                df_acc.loc[df_acc['participant_id'].isin(cl_participants)], \n",
    "                                colors, True, True)"
   ]
  },
  {
   "cell_type": "markdown",
   "id": "cfbe9aef-71b6-4801-8c1f-9aefb5d9d3f1",
   "metadata": {},
   "source": [
    "#### Perc. change bar graphs per cluster"
   ]
  },
  {
   "cell_type": "code",
   "execution_count": null,
   "id": "c5e0c7d9-e1b0-4176-92ba-7ec781139532",
   "metadata": {
    "scrolled": true
   },
   "outputs": [],
   "source": [
    "## plot all fairness metrics\n",
    "perc_ch_df = cma_perc_change_df_l\n",
    "cluster_df = clustered_data_df\n",
    "title = 'personalized-Labels Cluster {}'\n",
    "file_name = 'percChange_Graphs_personalized-Labels_Clustering_CMA_Group_cl{}.jpg'\n",
    "##\n",
    "attrs  = ['CODE_GENDER','NAME_FAMILY_STATUS','AGE']\n",
    "attrs_codes = ['Gender','Marit. Stat.','Age']\n",
    "group_f = ['DemographicParityRatio','AverageOddsDifference']\n",
    "group_fair_cod = ['DPR (↑)','AOD (↓)']\n",
    "\n",
    "perc_change_plots_per_cluster(perc_ch_df, \n",
    "                              cluster_df, \n",
    "                              title, \n",
    "                              file_name, \n",
    "                              folder+\"data\\\\results\\\\personalized\\\\Labels\\\\clustering\\\\\", \n",
    "                              attrs, attrs_codes, \n",
    "                              group_f, group_fair_cod)"
   ]
  },
  {
   "cell_type": "markdown",
   "id": "93c8313a-6809-4e3f-9b1a-16944a397409",
   "metadata": {},
   "source": [
    "#### Parallel Coordinate Graph per Cluster"
   ]
  },
  {
   "cell_type": "code",
   "execution_count": null,
   "id": "1e6a9b40-413d-41a3-bf5c-4f63f5e7a037",
   "metadata": {},
   "outputs": [],
   "source": [
    "cma_subset = cma_perc_change_df_l[['CODE_GENDER_DemographicParityRatio',\n",
    "                                   'NAME_FAMILY_STATUS_DemographicParityRatio',\n",
    "                                   'AGE_DemographicParityRatio',\n",
    "                                   'CODE_GENDER_AverageOddsDifference',\n",
    "                                   'NAME_FAMILY_STATUS_AverageOddsDifference',\n",
    "                                   'AGE_AverageOddsDifference']]\n",
    "cma_subset['class'] = ['cluster '+str(cid) for cid in cluster_ids]"
   ]
  },
  {
   "cell_type": "code",
   "execution_count": null,
   "id": "19a63e2e-01cc-459f-ab63-e6378ab4ae7b",
   "metadata": {},
   "outputs": [],
   "source": [
    "cma_subset.columns"
   ]
  },
  {
   "cell_type": "code",
   "execution_count": null,
   "id": "f26cd8b0-5d45-4ce7-9c86-6974a7d7dc6a",
   "metadata": {},
   "outputs": [],
   "source": [
    "import pandas\n",
    "import matplotlib.pyplot as plt\n",
    "from pandas.plotting import parallel_coordinates\n",
    "\n",
    "matplotlib.rcParams.update({'font.size': 12})\n",
    "fig, axes = plt.subplots(1, 1, figsize=(9, 5), layout=\"constrained\")\n",
    "fig.suptitle('personalized-Labels')\n",
    "# Make the plot\n",
    "ax = parallel_coordinates(cma_subset, 'class', color=['tab:orange','tab:green','tab:blue'],ax=axes, lw=0.5)\n",
    "ax.plot([0,1,2,3,4,5],[0,0,0,0,0,0], color='black',lw=3)\n",
    "axes.set_ylabel('Perc. Ch. %')\n",
    "axes.xaxis.set_ticklabels(['Gender \\n DPR (↑)', \n",
    "                           'Marit. Status \\n DPR (↑)',\n",
    "                           'Age \\n DPR (↑)',\n",
    "                           'Gender \\n AOD (↓)', \n",
    "                           'Marit. Status \\n AOD (↓)',\n",
    "                           'Age \\n AOD (↓)'])\n",
    "axes.legend(loc='upper left') \n",
    "##\n",
    "file_name = 'parallelCoordGraph_personalized-Labels_Clustering_CMA.jpg'\n",
    "fig.savefig(folder+\"data\\\\results\\\\personalized\\\\Labels\\\\clustering\\\\\"+file_name, dpi=300)\n",
    "plt.show()"
   ]
  },
  {
   "cell_type": "markdown",
   "id": "ce89358d-ca7a-4193-84b2-a900b6941534",
   "metadata": {},
   "source": [
    "### Perc. change plot of all participants"
   ]
  },
  {
   "cell_type": "code",
   "execution_count": null,
   "id": "cb864b86-1f64-4820-8a4a-fa73bdb770ab",
   "metadata": {},
   "outputs": [],
   "source": [
    "## plot perc. change plot for all fairness metrics\n",
    "perc_ch_df = cma_perc_change_df_l\n",
    "title = 'personalized-Labels'\n",
    "file_name = 'percChange_Graphs_personalized-Labels.jpg'\n",
    "attrs  = ['CODE_GENDER','NAME_FAMILY_STATUS','AGE']\n",
    "attrs_codes = ['Gender','Marit. Stat.','Age']\n",
    "group_f = ['DemographicParityRatio','AverageOddsDifference']\n",
    "group_fair_cod = ['DPR (↑)','AOD (↓)']\n",
    "\n",
    "perc_change_plots(perc_ch_df, \n",
    "                  title, \n",
    "                  file_name, \n",
    "                  folder+\"data\\\\results\\\\personalized\\\\Labels\\\\figures\\\\\", \n",
    "                  attrs, attrs_codes, \n",
    "                  group_f, group_fair_cod)"
   ]
  },
  {
   "cell_type": "markdown",
   "id": "b249dbfe-8885-4c7e-a955-f3c1603cefc3",
   "metadata": {},
   "source": [
    "### Line (Raw and CMA) plots"
   ]
  },
  {
   "cell_type": "markdown",
   "id": "bddc6b7b-710d-46bb-a1b7-ee0685e29cc6",
   "metadata": {},
   "source": [
    "#### Joint plots for all participants"
   ]
  },
  {
   "cell_type": "code",
   "execution_count": null,
   "id": "6d82e35f-dcb2-4511-9a03-1d6b4cd4e7fc",
   "metadata": {
    "scrolled": true,
    "tags": []
   },
   "outputs": [],
   "source": [
    "title = 'personalized-Labels_all'\n",
    "image_type = '.jpeg'\n",
    "filename = 'all_participants'\n",
    "joint_plot_all_participants(title, \n",
    "                            folder+\"data\\\\results\\\\personalized\\\\Labels\\\\figures\\\\\", \n",
    "                            filename, \n",
    "                            image_type, \n",
    "                            ['CODE_GENDER','NAME_FAMILY_STATUS','AGE'], \n",
    "                            group_fair, group_fair_codes, \n",
    "                            fs, \n",
    "                            df_group, df_acc, \n",
    "                            colors, True, True)"
   ]
  },
  {
   "cell_type": "markdown",
   "id": "6022afa6-e4a7-4cb9-aa76-2d8f7ed602ab",
   "metadata": {},
   "source": [
    "#### Plots per participant"
   ]
  },
  {
   "cell_type": "code",
   "execution_count": null,
   "id": "263532d1-fd4d-4c38-a091-4223e91335d0",
   "metadata": {
    "scrolled": true
   },
   "outputs": [],
   "source": [
    "title = 'personalized-Labels_{}'\n",
    "image_type = '.jpeg'\n",
    "plots_per_participant(title, \n",
    "                      folder+\"data\\\\results\\\\personalized\\\\Labels\\\\figures\\\\\", \n",
    "                      image_type, \n",
    "                      ['CODE_GENDER','NAME_FAMILY_STATUS','AGE'], \n",
    "                      group_fair, group_fair_codes,\n",
    "                      fs, \n",
    "                      df_group, df_acc, \n",
    "                      colors, True)"
   ]
  },
  {
   "cell_type": "markdown",
   "id": "644a8b49-9cd3-4ea5-9e53-c0c7491ea25b",
   "metadata": {},
   "source": [
    "#### Parallel Coordinate"
   ]
  },
  {
   "cell_type": "code",
   "execution_count": null,
   "id": "57c7a078-3b07-45cc-b48b-5ac97297dbef",
   "metadata": {},
   "outputs": [],
   "source": [
    "import pandas\n",
    "import matplotlib.pyplot as plt\n",
    "from pandas.plotting import parallel_coordinates\n",
    "\n",
    "cma_subset = cma_perc_change_df_l[['CODE_GENDER_DemographicParityRatio','NAME_FAMILY_STATUS_DemographicParityRatio','AGE_DemographicParityRatio','CODE_GENDER_AverageOddsDifference','NAME_FAMILY_STATUS_AverageOddsDifference','AGE_AverageOddsDifference']]\n",
    "cma_subset['class'] = [0]*len(cma_perc_change_df_l)\n",
    "\n",
    "matplotlib.rcParams.update({'font.size': 22})\n",
    "fig, axes = plt.subplots(1, 1, figsize=(12, 5), layout=\"constrained\")\n",
    "fig.suptitle('personalized-Labels')\n",
    "# Make the plot\n",
    "ax = parallel_coordinates(cma_subset, 'class', color=['tab:blue'],ax=axes,lw=1)\n",
    "ax.plot([0,1,2,3,4,5],[0,0,0,0,0,0], color='black',lw=3)\n",
    "axes.set_ylim(-48,30)\n",
    "axes.set_ylabel('Perc. Ch. % \\n From Baseline')\n",
    "axes.xaxis.set_ticklabels(['Gender \\n DPR (↑)', 'Marit. Status \\n DPR (↑)','Age \\n DPR (↑)','Gender \\n AOD (↓)', 'Marit. Status \\n AOD (↓)','Age \\n AOD (↓)'])\n",
    "axes.get_legend().remove()\n",
    "##\n",
    "file_name = 'parallelCoordGraph_personalized-Labels_CMA.jpg'\n",
    "fig.savefig(folder+\"data\\\\results\\\\personalized\\\\Labels\\\\figures\\\\\"+file_name, dpi=300)\n",
    "plt.show()"
   ]
  },
  {
   "cell_type": "code",
   "execution_count": null,
   "id": "1a82a0d8-0b12-4585-9756-4d5c66785d60",
   "metadata": {
    "scrolled": true
   },
   "outputs": [],
   "source": [
    "import pandas\n",
    "import matplotlib.pyplot as plt\n",
    "from pandas.plotting import parallel_coordinates\n",
    "\n",
    "cma_subset = cma_perc_change_df_l[['CODE_GENDER_DemographicParityRatio',\n",
    "                                 'NAME_FAMILY_STATUS_DemographicParityRatio',\n",
    "                                 'AGE_DemographicParityRatio',\n",
    "                                 'CODE_GENDER_AverageOddsDifference',\n",
    "                                 'NAME_FAMILY_STATUS_AverageOddsDifference',\n",
    "                                 'AGE_AverageOddsDifference']]\n",
    "# cma_subset['class'] =[0 if cma_subset.loc[idx]['NAME_FAMILY_STATUS_AverageOddsDifference']>0 else 1 for idx in cma_subset.index]\n",
    "cma_subset['class'] =[0 if cma_subset.loc[idx]['AGE_AverageOddsDifference']>0 else 1 for idx in cma_subset.index]\n",
    "# cma_subset['class'] =[0 if cma_subset.loc[idx]['NAME_FAMILY_STATUS_DemographicParityRatio']>0 else 1 for idx in cma_subset.index]\n",
    "\n",
    "matplotlib.rcParams.update({'font.size': 22})\n",
    "fig, axes = plt.subplots(1, 1, figsize=(12, 5), layout=\"constrained\")\n",
    "fig.suptitle('personalized-Labels')\n",
    "# Make the plot\n",
    "ax = parallel_coordinates(cma_subset, 'class', color=['tab:orange','tab:green'],ax=axes,lw=1)\n",
    "ax.plot([0,1,2,3,4,5],[0,0,0,0,0,0], color='black',lw=3)\n",
    "axes.set_ylabel('Perc. Ch. % \\n From Baseline')\n",
    "axes.xaxis.set_ticklabels(['Gender \\n DPR (↑)', 'Marit. Status \\n DPR (↑)','Age \\n DPR (↑)',\n",
    "                           'Gender \\n AOD (↓)', 'Marit. Status \\n AOD (↓)','Age \\n AOD (↓)'])\n",
    "axes.get_legend().remove()\n",
    "##\n",
    "file_name = 'parallelCoordGraph_personalized-Labels_CMA.jpg'\n",
    "fig.savefig(folder+\"data\\\\results\\\\personalized\\\\Labels\\\\figures\\\\\"+file_name, dpi=300)\n",
    "plt.show()"
   ]
  },
  {
   "cell_type": "code",
   "execution_count": null,
   "id": "93a1ad1c-d467-40db-9a2d-ec670ee64d72",
   "metadata": {},
   "outputs": [],
   "source": [
    "import seaborn as sns\n",
    "df_cma_subset = cma_subset.loc[:,~cma_subset.columns.isin(['class'])]\n",
    "df_cma_subset = df_cma_subset.rename(columns={'CODE_GENDER_DemographicParityRatio':'Gender \\n DPR (↑)',\n",
    "                              'NAME_FAMILY_STATUS_DemographicParityRatio':'Marit. Status \\n DPR (↑)',\n",
    "                              'AGE_DemographicParityRatio':'Age \\n DPR (↑)',\n",
    "                              'CODE_GENDER_AverageOddsDifference':'Gender \\n AOD (↓)',\n",
    "                              'NAME_FAMILY_STATUS_AverageOddsDifference':'Marit. Status \\n AOD (↓)',\n",
    "                              'AGE_AverageOddsDifference':'Age \\n AOD (↓)'})\n",
    "\n",
    "sns.pairplot(df_cma_subset,  corner=True)"
   ]
  },
  {
   "cell_type": "code",
   "execution_count": null,
   "id": "ae408c39-acc2-4af8-85cc-de74c5e4dbf2",
   "metadata": {},
   "outputs": [],
   "source": [
    "# fig, ax2 = plt.subplots(1, 1, figsize=(12, 12), layout=\"constrained\")\n",
    "# fig.suptitle('personalized-Labels')\n",
    "# pd.plotting.scatter_matrix(df_cma_subset, ax=ax2)"
   ]
  },
  {
   "cell_type": "markdown",
   "id": "84a3032a-f215-4fa3-beaf-8b75a6f2d7f0",
   "metadata": {},
   "source": [
    "## Labels ('unfair')"
   ]
  },
  {
   "cell_type": "code",
   "execution_count": null,
   "id": "02c104af-d7da-4bbc-aad7-7464abe07902",
   "metadata": {},
   "outputs": [],
   "source": [
    "df_group = pd.read_csv(folder+'data\\\\results\\\\personalized\\\\Labels_Unfair\\\\group_fairness_personalized-labels_unfair_with_cma.csv', delimiter=',')\n",
    "df_indiv = pd.read_csv(folder+'data\\\\results\\\\personalized\\\\Labels_Unfair\\\\individual_fairness_personalized-labels_unfair_with_cma.csv', delimiter=',')\n",
    "df_acc = pd.read_csv(folder+'data\\\\results\\\\personalized\\\\Labels_Unfair\\\\accuracy_personalized-labels_unfair_with_cma.csv', delimiter=',')\n",
    "\n",
    "# perc_change_df, cma_perc_change_df_lu = get_percentage_change_IML(df_group, group_fair,  \n",
    "#                                                                sensitive_attrs, fs)\n",
    "perc_change_df,cma_perc_change_df_lu = get_percentage_change_IML(df_group, \n",
    "                                                                 group_fair, \n",
    "                                                                 df_indiv, \n",
    "                                                                 indiv_fair, \n",
    "                                                                 sensitive_attrs, \n",
    "                                                                 fs)\n",
    "# perc_change_df.to_csv(folder+\"data\\\\results\\\\personalized\\\\Labels_Unfair\\\\perc_change_personalized-Labels_Unfair_raw.csv\", index=False)\n",
    "# cma_perc_change_df_lu.to_csv(folder+\"data\\\\results\\\\personalized\\\\Labels_Unfair\\\\perc_change_personalized-Labels_Unfair_cma.csv\", index=False)\n",
    "\n",
    "p_ids = perc_change_df['participant_id'].tolist()"
   ]
  },
  {
   "cell_type": "markdown",
   "id": "a1492a59-6f30-462e-ab48-987a7c9594ef",
   "metadata": {
    "jp-MarkdownHeadingCollapsed": true
   },
   "source": [
    "### Cluster participants based on perc. change of group fairness measured at last iteration of CMA"
   ]
  },
  {
   "cell_type": "code",
   "execution_count": null,
   "id": "6c095068-fe41-4b63-919b-b9a8c19bf9d5",
   "metadata": {},
   "outputs": [],
   "source": [
    "## df to array - keep only group fairness for clustering\n",
    "clustered_data = []\n",
    "for i in cma_perc_change_df_lu.index:\n",
    "    clustered_data.append(cma_perc_change_df_lu.loc[i].tolist()[0:6])\n",
    "metric = 'mean'"
   ]
  },
  {
   "cell_type": "code",
   "execution_count": null,
   "id": "29ecdab4-c03a-4951-b082-b84ca4f6f0a9",
   "metadata": {},
   "outputs": [],
   "source": [
    "## Search for optimal number of clusters\n",
    "# candidate values for our number of cluster\n",
    "parameters = [2, 3, 4, 5, 6, 7, 8, 9, 10, 15, 20, 25, 30, 35, 40, 45]\n",
    "silhouette_scores, best_score, best_grid = k_means_optimize_parameter(clustered_data, parameters, metric)\n",
    "plot_silhouette_scores(silhouette_scores, parameters)"
   ]
  },
  {
   "cell_type": "code",
   "execution_count": null,
   "id": "7f679007-ae0e-4622-a7e6-c8002cb3e00b",
   "metadata": {},
   "outputs": [],
   "source": [
    "from sklearn import datasets\n",
    "from sklearn.cluster import KMeans\n",
    "import matplotlib.pyplot as plt\n",
    "from yellowbrick.cluster import SilhouetteVisualizer\n",
    "  \n",
    "fig, ax = plt.subplots(3, 2, figsize=(15,8))\n",
    "for i in [2, 3, 4, 5, 6, 7]:\n",
    "    '''\n",
    "    Create KMeans instance for different number of clusters\n",
    "    '''\n",
    "    km = KMeans(n_clusters=i, init='k-means++', random_state=13, n_init='auto')\n",
    "    q, mod = divmod(i, 2)\n",
    "    '''\n",
    "    Create SilhouetteVisualizer instance with KMeans instance\n",
    "    Fit the visualizer\n",
    "    '''\n",
    "    visualizer = SilhouetteVisualizer(km, colors='yellowbrick', ax=ax[q-1][mod])\n",
    "    visualizer.fit(np.array(clustered_data)) "
   ]
  },
  {
   "cell_type": "code",
   "execution_count": null,
   "id": "af36c0ac-99cf-44f4-a0d5-dda4e60f5749",
   "metadata": {},
   "outputs": [],
   "source": [
    "from sklearn.cluster import KMeans\n",
    "from sklearn.datasets import make_blobs\n",
    "\n",
    "from yellowbrick.cluster import KElbowVisualizer\n",
    "# Instantiate the clustering model and visualizer\n",
    "model = KMeans()\n",
    "visualizer = KElbowVisualizer(model, k=(2,15))\n",
    "\n",
    "visualizer.fit(np.array(clustered_data))        # Fit the data to the visualizer\n",
    "visualizer.show()        # Finalize and render the figure"
   ]
  },
  {
   "cell_type": "code",
   "execution_count": null,
   "id": "f0070540-1b86-476b-80eb-8c047ed136b2",
   "metadata": {
    "scrolled": true
   },
   "outputs": [],
   "source": [
    "nc = 2\n",
    "cluster_ids, cluster_centroids, array_of_vectors_pca = k_means_pca(clustered_data, nc, metric, n_components=2)\n",
    "colors = ['r','g','b','orange','purple', 'y','cyan','magenta','tab:blue']\n",
    "plot_clusters(array_of_vectors_pca, cluster_ids, colors)\n",
    "##\n",
    "cluster_p_id_dict = {}\n",
    "for i, cl_id in enumerate(cluster_ids):\n",
    "    color = 'cluster_'+str(cl_id)\n",
    "    if color not in cluster_p_id_dict:\n",
    "        cluster_p_id_dict[color] = []\n",
    "    cluster_p_id_dict[color].append((i, p_ids[i]))\n",
    "cluster_p_id_dict"
   ]
  },
  {
   "cell_type": "code",
   "execution_count": null,
   "id": "a4a0a5d5-8b90-4546-bd16-3bbed1e3df65",
   "metadata": {
    "scrolled": true
   },
   "outputs": [],
   "source": [
    "clustered_data_df = cma_perc_change_df_lu.copy(deep=True)\n",
    "# clustered_data_df.drop(columns=['consistency_10','theil_index'],inplace=True)\n",
    "clustered_data_df['cluster_id'] = cluster_ids\n",
    "# for i,centroid in enumerate(cluster_centroids):\n",
    "#     centroid = centroid.tolist()\n",
    "#     centroid.append('centroid')\n",
    "#     centroid.append(i)\n",
    "#     clustered_data_df.loc[58+i] = centroid\n",
    "# clustered_data_df.to_csv(folder+\"data\\\\results\\\\personalized\\\\Labels_Unfair\\\\clustering\\\\\"+\"perc_change_personalized-Labels_Unfair_clustering_cma_group.csv\", index=False)"
   ]
  },
  {
   "cell_type": "code",
   "execution_count": null,
   "id": "dd2299e4-f86d-431f-8e43-b77eebbaa72f",
   "metadata": {},
   "outputs": [],
   "source": [
    "for cl in cluster_p_id_dict:\n",
    "    print(cl,len(cluster_p_id_dict[cl]))"
   ]
  },
  {
   "cell_type": "markdown",
   "id": "5f4a286e-e65e-4aff-a09b-b8ba2daa5852",
   "metadata": {},
   "source": [
    "#### Line plots per cluster"
   ]
  },
  {
   "cell_type": "code",
   "execution_count": null,
   "id": "f0bec372-2f8f-4f4f-9dd5-f7b4d1703bf2",
   "metadata": {
    "scrolled": true
   },
   "outputs": [],
   "source": [
    "for cl in cluster_p_id_dict:\n",
    "    title = 'personalized-Labels_Unfair_Clustering_CMA_Group_{}'.format(cl)\n",
    "    filename = 'lineGraphs_personalized-Labels_Unfair_Clustering_CMA_Group_{}'.format(cl)\n",
    "    image_type = '.jpeg'\n",
    "    colors = ['r','g','b','orange','purple', 'y','cyan','magenta','tab:blue']\n",
    "    cl_participants = [p_id[1] for p_id in cluster_p_id_dict[cl]]\n",
    "    cl_participants.append(np.nan)\n",
    "    print(cl, cl_participants)\n",
    "    joint_plot_all_participants(title, \n",
    "                                folder+\"data\\\\results\\\\personalized\\\\Labels_Unfair\\\\clustering\\\\\", \n",
    "                                filename, \n",
    "                                image_type, \n",
    "                                ['CODE_GENDER','NAME_FAMILY_STATUS','AGE'], \n",
    "                                group_fair, group_fair_codes, \n",
    "                                fs, \n",
    "                                df_group.loc[df_group['participant_id'].isin(cl_participants)],  \n",
    "                                df_acc.loc[df_acc['participant_id'].isin(cl_participants)], \n",
    "                                colors, True, True)"
   ]
  },
  {
   "cell_type": "markdown",
   "id": "1172f19a-c64c-44be-bf0a-283a530de72b",
   "metadata": {},
   "source": [
    "#### Perc. change graphs per cluster"
   ]
  },
  {
   "cell_type": "code",
   "execution_count": null,
   "id": "2f0defcf-4e7c-45af-b4e4-3f9383b718d7",
   "metadata": {
    "scrolled": true
   },
   "outputs": [],
   "source": [
    "## plot all fairness metrics\n",
    "perc_ch_df = cma_perc_change_df_lu\n",
    "cluster_df = clustered_data_df\n",
    "title = 'personalized-Labels_Unfair Cluster {}'\n",
    "file_name = 'percChange_Graphs_personalized-Labels_Unfair_Clustering_CMA_Group_cl{}.jpg'\n",
    "##\n",
    "attrs  = ['CODE_GENDER','NAME_FAMILY_STATUS','AGE']\n",
    "attrs_codes = ['Gender','Marit. Stat.','Age']\n",
    "group_f = ['DemographicParityRatio', 'AverageOddsDifference']\n",
    "group_fair_cod = ['DPR (↑)','AOD (↓)']\n",
    "\n",
    "perc_change_plots_per_cluster(perc_ch_df, \n",
    "                              cluster_df, \n",
    "                              title, \n",
    "                              file_name, \n",
    "                              folder+\"data\\\\results\\\\personalized\\\\Labels_Unfair\\\\clustering\\\\\", \n",
    "                              attrs, attrs_codes, \n",
    "                              group_f, group_fair_cod)"
   ]
  },
  {
   "cell_type": "markdown",
   "id": "23a5133f-9683-4d95-a7ec-e20357341b95",
   "metadata": {},
   "source": [
    "#### Parallel Coordinate Graph"
   ]
  },
  {
   "cell_type": "code",
   "execution_count": null,
   "id": "6744c5b3-7526-4b93-8d71-dcfaebd14585",
   "metadata": {},
   "outputs": [],
   "source": [
    "cma_subset = cma_perc_change_df_lu[['CODE_GENDER_DemographicParityRatio',\n",
    "                                    'NAME_FAMILY_STATUS_DemographicParityRatio',\n",
    "                                    'AGE_DemographicParityRatio',\n",
    "                                    'CODE_GENDER_AverageOddsDifference',\n",
    "                                    'NAME_FAMILY_STATUS_AverageOddsDifference',\n",
    "                                    'AGE_AverageOddsDifference']]\n",
    "cma_subset['class'] = ['cluster '+str(cid) for cid in cluster_ids]"
   ]
  },
  {
   "cell_type": "code",
   "execution_count": null,
   "id": "06f80e5b-4966-4649-8f3d-a7e8393a32ff",
   "metadata": {},
   "outputs": [],
   "source": [
    "import pandas\n",
    "import matplotlib.pyplot as plt\n",
    "from pandas.plotting import parallel_coordinates\n",
    "\n",
    "fig, axes = plt.subplots(1, 1, figsize=(9, 5), layout=\"constrained\")\n",
    "fig.suptitle('personalized-Labels_Unfair')\n",
    "# Make the plot\n",
    "ax = parallel_coordinates(cma_subset, 'class', \n",
    "                          color=['tab:orange','tab:green','tab:blue','tab:red','tab:purple','tab:gray'],\n",
    "                          ax=axes,lw=0.5)\n",
    "ax.plot([0,1,2,3,4,5],[0,0,0,0,0,0], color='black',lw=3)\n",
    "axes.set_ylabel('Perc. Ch. %')\n",
    "axes.xaxis.set_ticklabels(['Gender \\n DPR (↑)', 'Marit. Status \\n DPR (↑)','Age \\n DPR (↑)','Gender \\n AOD (↓)', 'Marit. Status \\n AOD (↓)','Age \\n AOD (↓)'])\n",
    "axes.legend(loc='upper left') \n",
    "##\n",
    "file_name = 'parallelCoordGraph_personalized-Labels_Unfair_Clustering_CMA.jpg'\n",
    "fig.savefig(folder+\"data\\\\results\\\\personalized\\\\Labels_Unfair\\\\clustering\\\\\"+file_name, dpi=300)\n",
    "plt.show()"
   ]
  },
  {
   "cell_type": "markdown",
   "id": "b8f40dbc-6b25-4a80-ac2b-35771ae5f88a",
   "metadata": {},
   "source": [
    "### Perc. change plot of all participants"
   ]
  },
  {
   "cell_type": "code",
   "execution_count": null,
   "id": "9e0c30ee-e5a5-43f6-9493-6fbc0e858f81",
   "metadata": {},
   "outputs": [],
   "source": [
    "## plot perc. change plot for all fairness metrics\n",
    "perc_ch_df = cma_perc_change_df_lu\n",
    "title = 'personalized-Labels_Unfair'\n",
    "file_name = 'percChange_Graphs_personalized-Labels_Unfair.jpg'\n",
    "attrs  = ['CODE_GENDER','NAME_FAMILY_STATUS','AGE']\n",
    "attrs_codes = ['Gender','Marit. Stat.','Age']\n",
    "group_f = ['DemographicParityRatio','AverageOddsDifference']\n",
    "group_fair_cod = ['DPR (↑)','AOD (↓)']\n",
    "\n",
    "perc_change_plots(perc_ch_df, \n",
    "                  title, \n",
    "                  file_name, \n",
    "                  folder+\"data\\\\results\\\\personalized\\\\Labels_Unfair\\\\figures\\\\\", \n",
    "                  attrs, attrs_codes, \n",
    "                  group_f, group_fair_cod)"
   ]
  },
  {
   "cell_type": "markdown",
   "id": "7c947013-9919-4e57-9c73-80520c79e308",
   "metadata": {},
   "source": [
    "#### Parallel Coordinate"
   ]
  },
  {
   "cell_type": "code",
   "execution_count": null,
   "id": "25bb2544-e712-4203-b80e-e3e30047f17b",
   "metadata": {},
   "outputs": [],
   "source": [
    "import pandas\n",
    "import matplotlib.pyplot as plt\n",
    "from pandas.plotting import parallel_coordinates\n",
    "\n",
    "cma_subset = cma_perc_change_df_lu[['CODE_GENDER_DemographicParityRatio','NAME_FAMILY_STATUS_DemographicParityRatio','AGE_DemographicParityRatio','CODE_GENDER_AverageOddsDifference','NAME_FAMILY_STATUS_AverageOddsDifference','AGE_AverageOddsDifference']]\n",
    "cma_subset['class'] = [0]*len(cma_perc_change_df_lu)\n",
    "\n",
    "matplotlib.rcParams.update({'font.size': 22})\n",
    "fig, axes = plt.subplots(1, 1, figsize=(12, 5), layout=\"constrained\")\n",
    "fig.suptitle('personalized-Labels_Unfair')\n",
    "# Make the plot\n",
    "ax = parallel_coordinates(cma_subset, 'class', color=['tab:blue'],ax=axes,lw=1)\n",
    "ax.plot([0,1,2,3,4,5],[0,0,0,0,0,0], color='black',lw=3)\n",
    "axes.set_ylim(-48,30)\n",
    "axes.set_ylabel('Perc. Ch. % \\n From Baseline')\n",
    "axes.xaxis.set_ticklabels(['Gender \\n DPR (↑)', 'Marit. Status \\n DPR (↑)','Age \\n DPR (↑)','Gender \\n AOD (↓)', 'Marit. Status \\n AOD (↓)','Age \\n AOD (↓)'])\n",
    "axes.get_legend().remove()\n",
    "##\n",
    "file_name = 'parallelCoordGraph_personalized-Labels_Unfair_CMA.jpg'\n",
    "fig.savefig(folder+\"data\\\\results\\\\personalized\\\\Labels_Unfair\\\\figures\\\\\"+file_name, dpi=300)\n",
    "plt.show()"
   ]
  },
  {
   "cell_type": "code",
   "execution_count": null,
   "id": "7acbaa4d-7a52-4cdb-abac-87c510b23b76",
   "metadata": {
    "scrolled": true
   },
   "outputs": [],
   "source": [
    "import pandas\n",
    "import matplotlib.pyplot as plt\n",
    "from pandas.plotting import parallel_coordinates\n",
    "\n",
    "cma_subset = cma_perc_change_df_lu[['CODE_GENDER_DemographicParityRatio',\n",
    "                                 'NAME_FAMILY_STATUS_DemographicParityRatio',\n",
    "                                 'AGE_DemographicParityRatio',\n",
    "                                 'CODE_GENDER_AverageOddsDifference',\n",
    "                                 'NAME_FAMILY_STATUS_AverageOddsDifference',\n",
    "                                 'AGE_AverageOddsDifference']]\n",
    "# cma_subset['class'] =[0 if cma_subset.loc[idx]['NAME_FAMILY_STATUS_AverageOddsDifference']>0 else 1 for idx in cma_subset.index]\n",
    "cma_subset['class'] =[0 if cma_subset.loc[idx]['AGE_AverageOddsDifference']>0 else 1 for idx in cma_subset.index]\n",
    "# cma_subset['class'] =[0 if cma_subset.loc[idx]['NAME_FAMILY_STATUS_DemographicParityRatio']>0 else 1 for idx in cma_subset.index]\n",
    "\n",
    "matplotlib.rcParams.update({'font.size': 22})\n",
    "fig, axes = plt.subplots(1, 1, figsize=(12, 5), layout=\"constrained\")\n",
    "fig.suptitle('personalized-Labels')\n",
    "# Make the plot\n",
    "ax = parallel_coordinates(cma_subset, 'class', color=['tab:orange','tab:green'],ax=axes,lw=1)\n",
    "ax.plot([0,1,2,3,4,5],[0,0,0,0,0,0], color='black',lw=3)\n",
    "axes.set_ylabel('Perc. Ch. % \\n From Baseline')\n",
    "axes.xaxis.set_ticklabels(['Gender \\n DPR (↑)', 'Marit. Status \\n DPR (↑)','Age \\n DPR (↑)',\n",
    "                           'Gender \\n AOD (↓)', 'Marit. Status \\n AOD (↓)','Age \\n AOD (↓)'])\n",
    "axes.get_legend().remove()\n",
    "##\n",
    "file_name = 'parallelCoordGraph_personalized-Labels_Unfair_CMA_ageAOD.jpg'\n",
    "fig.savefig(folder+\"data\\\\results\\\\personalized\\\\Labels_Unfair\\\\figures\\\\\"+file_name, dpi=300)\n",
    "plt.show()"
   ]
  },
  {
   "cell_type": "code",
   "execution_count": null,
   "id": "792e7f4e-7549-4eb0-928b-9d48c5860eb6",
   "metadata": {},
   "outputs": [],
   "source": [
    "import seaborn as sns\n",
    "df_cma_subset = cma_subset.loc[:,~cma_subset.columns.isin(['class'])]\n",
    "df_cma_subset = df_cma_subset.rename(columns={'CODE_GENDER_DemographicParityRatio':'Gender \\n DPR (↑)',\n",
    "                              'NAME_FAMILY_STATUS_DemographicParityRatio':'Marit. Status \\n DPR (↑)',\n",
    "                              'AGE_DemographicParityRatio':'Age \\n DPR (↑)',\n",
    "                              'CODE_GENDER_AverageOddsDifference':'Gender \\n AOD (↓)',\n",
    "                              'NAME_FAMILY_STATUS_AverageOddsDifference':'Marit. Status \\n AOD (↓)',\n",
    "                              'AGE_AverageOddsDifference':'Age \\n AOD (↓)'})\n",
    "\n",
    "sns.pairplot(df_cma_subset,  corner=True)"
   ]
  },
  {
   "cell_type": "markdown",
   "id": "bbf79cd7-affb-4eea-a01b-62bf5c7885b5",
   "metadata": {},
   "source": [
    "### Line (Raw and CMA) plots"
   ]
  },
  {
   "cell_type": "markdown",
   "id": "aea364d1-a455-47f8-bf10-59ebb2124604",
   "metadata": {},
   "source": [
    "#### Joint plots for all participants"
   ]
  },
  {
   "cell_type": "code",
   "execution_count": null,
   "id": "ee281d5d-e256-4f7b-ae1b-ed654ab97a0d",
   "metadata": {
    "scrolled": true,
    "tags": []
   },
   "outputs": [],
   "source": [
    "title = 'personalized-Labels_Unfair_all'\n",
    "image_type = '.jpeg'\n",
    "filename = 'all_participants'\n",
    "joint_plot_all_participants(title, \n",
    "                            folder+\"data\\\\results\\\\personalized\\\\Labels_Unfair\\\\figures\\\\\", \n",
    "                            filename, \n",
    "                            image_type, \n",
    "                            ['CODE_GENDER','NAME_FAMILY_STATUS','AGE'], \n",
    "                            group_fair, group_fair_codes, \n",
    "                            fs, \n",
    "                            df_group, df_acc, \n",
    "                            colors, True, True)"
   ]
  },
  {
   "cell_type": "markdown",
   "id": "8055c62e-5db2-4f66-9891-56938eefde2d",
   "metadata": {},
   "source": [
    "#### Plots per participant"
   ]
  },
  {
   "cell_type": "code",
   "execution_count": null,
   "id": "e0fa8e6a-6bd4-43ef-adb9-163142915ec8",
   "metadata": {
    "scrolled": true
   },
   "outputs": [],
   "source": [
    "title = 'personalized-Labels_Unfair_{}'\n",
    "image_type = '.jpeg'\n",
    "plots_per_participant(title, \n",
    "                      folder+\"data\\\\results\\\\personalized\\\\Labels_Unfair\\\\figures\\\\\", \n",
    "                      image_type, \n",
    "                      ['CODE_GENDER','NAME_FAMILY_STATUS','AGE'], \n",
    "                      group_fair, group_fair_codes, \n",
    "                      fs, \n",
    "                      df_group, df_acc, \n",
    "                      colors, True)"
   ]
  },
  {
   "cell_type": "markdown",
   "id": "39ea0a0f-83f7-4d23-94fd-e3c8fe3982cf",
   "metadata": {},
   "source": [
    "#### Line graphs for DPR and AOD and 3 protected attributes for participant 608aa18a3c2dfd212a1a77a9 (personalized-Labels_Unfair)"
   ]
  },
  {
   "cell_type": "code",
   "execution_count": null,
   "id": "bea24644-664c-4fbd-a2d6-ab754580f014",
   "metadata": {},
   "outputs": [],
   "source": [
    "group_f = ['DemographicParityRatio','AverageOddsDifference']\n",
    "group_fair_cod = ['DPR','AOD']\n",
    "indiv_f = []\n",
    "title = 'personalized-Labels_Unfair_{}'\n",
    "folder = ''\n",
    "image_type = '.pdf'\n",
    "line_graphs_of_participant(title, \n",
    "                           folder+\"data\\\\results\\\\personalized\\\\Labels_Unfair\\\\figures\\\\\", \n",
    "                           image_type, \n",
    "                      ['CODE_GENDER','NAME_FAMILY_STATUS','AGE'], \n",
    "                      group_f, group_fair_cod, \n",
    "                      fs, \n",
    "                      df_group, df_acc, \n",
    "                      colors, True, '608aa18a3c2dfd212a1a77a9')"
   ]
  },
  {
   "cell_type": "markdown",
   "id": "6d1e7d1a-3fc4-4e09-9565-e6221e74ec97",
   "metadata": {},
   "source": [
    "## Labels+Weights ('checked'+'unfair')"
   ]
  },
  {
   "cell_type": "code",
   "execution_count": null,
   "id": "684db604-7761-4793-8b5e-7ea8d8323299",
   "metadata": {},
   "outputs": [],
   "source": [
    "df_group = pd.read_csv(folder+'data\\\\results\\\\personalized\\\\Labels+Weights\\\\group_fairness_personalized-Labels+Weights_with_cma.csv', delimiter=',')\n",
    "df_indiv = pd.read_csv(folder+'data\\\\results\\\\personalized\\\\Labels+Weights\\\\individual_fairness_personalized-Labels+Weights_with_cma.csv', delimiter=',')\n",
    "df_acc = pd.read_csv(folder+'data\\\\results\\\\personalized\\\\Labels+Weights\\\\accuracy_personalized-Labels+Weights_with_cma.csv', delimiter=',')\n",
    "\n",
    "perc_change_df,cma_perc_change_df_lw = get_percentage_change_IML(df_group, \n",
    "                                                                 group_fair, \n",
    "                                                                 df_indiv, \n",
    "                                                                 indiv_fair, \n",
    "                                                                 sensitive_attrs, \n",
    "                                                                 fs)\n",
    "# perc_change_df.to_csv(folder+\"data\\\\results\\\\personalized\\\\Labels+Weights\\\\perc_change_personalized-Labels+Weights_raw.csv\", index=False)\n",
    "# cma_perc_change_df_lw.to_csv(folder+\"data\\\\results\\\\personalized\\\\Labels+Weights\\\\perc_change_personalized-Labels+Weights_cma.csv\", index=False)\n",
    "\n",
    "p_ids = perc_change_df['participant_id'].tolist()"
   ]
  },
  {
   "cell_type": "markdown",
   "id": "121621a6-cd61-474e-8ec0-5ba2b5dc70fc",
   "metadata": {
    "jp-MarkdownHeadingCollapsed": true
   },
   "source": [
    "### Cluster participants based on perc. change of group fairness measured at last iteration of CMA"
   ]
  },
  {
   "cell_type": "code",
   "execution_count": null,
   "id": "7052169e-754a-4412-b8cd-c7977b3da3c4",
   "metadata": {},
   "outputs": [],
   "source": [
    "## df to array - keep only group fairness for clustering\n",
    "clustered_data = []\n",
    "for i in cma_perc_change_df_lw.index:\n",
    "    clustered_data.append(cma_perc_change_df_lw.loc[i].tolist()[0:6])\n",
    "metric = 'mean'"
   ]
  },
  {
   "cell_type": "code",
   "execution_count": null,
   "id": "642f32f6-90c9-4563-a014-06a3ffb257d7",
   "metadata": {},
   "outputs": [],
   "source": [
    "## Search for optimal number of clusters\n",
    "# candidate values for our number of cluster\n",
    "parameters = [2, 3, 4, 5, 6, 7, 8, 9, 10, 15, 20, 25, 30, 35, 40, 45]\n",
    "silhouette_scores, best_score, best_grid = k_means_optimize_parameter(clustered_data, parameters, metric)\n",
    "plot_silhouette_scores(silhouette_scores, parameters)"
   ]
  },
  {
   "cell_type": "code",
   "execution_count": null,
   "id": "0ce412cf-8f6f-448d-9da4-57955c839196",
   "metadata": {},
   "outputs": [],
   "source": [
    "from sklearn import datasets\n",
    "from sklearn.cluster import KMeans\n",
    "import matplotlib.pyplot as plt\n",
    "from yellowbrick.cluster import SilhouetteVisualizer\n",
    "  \n",
    "fig, ax = plt.subplots(3, 2, figsize=(15,8))\n",
    "for i in [2, 3, 4, 5, 6, 7]:\n",
    "    '''\n",
    "    Create KMeans instance for different number of clusters\n",
    "    '''\n",
    "    km = KMeans(n_clusters=i, init='k-means++', random_state=13, n_init='auto')\n",
    "    q, mod = divmod(i, 2)\n",
    "    '''\n",
    "    Create SilhouetteVisualizer instance with KMeans instance\n",
    "    Fit the visualizer\n",
    "    '''\n",
    "    visualizer = SilhouetteVisualizer(km, colors='yellowbrick', ax=ax[q-1][mod])\n",
    "    visualizer.fit(np.array(clustered_data)) "
   ]
  },
  {
   "cell_type": "code",
   "execution_count": null,
   "id": "45e2dd94-8039-4be4-a804-56fbb2813f1d",
   "metadata": {},
   "outputs": [],
   "source": [
    "from sklearn.cluster import KMeans\n",
    "from sklearn.datasets import make_blobs\n",
    "\n",
    "from yellowbrick.cluster import KElbowVisualizer\n",
    "# Instantiate the clustering model and visualizer\n",
    "model = KMeans()\n",
    "visualizer = KElbowVisualizer(model, k=(2,15))\n",
    "\n",
    "visualizer.fit(np.array(clustered_data))        # Fit the data to the visualizer\n",
    "visualizer.show()        # Finalize and render the figure"
   ]
  },
  {
   "cell_type": "code",
   "execution_count": null,
   "id": "bfe54ebd-b3d9-4978-bfa3-888166bd04ca",
   "metadata": {
    "scrolled": true
   },
   "outputs": [],
   "source": [
    "nc = 2\n",
    "cluster_ids, cluster_centroids, array_of_vectors_pca = k_means_pca(clustered_data, nc, metric, n_components=2)\n",
    "colors = ['r','g','b','orange','purple', 'y','cyan','magenta','tab:blue']\n",
    "plot_clusters(array_of_vectors_pca, cluster_ids, colors)\n",
    "##\n",
    "cluster_p_id_dict = {}\n",
    "for i, cl_id in enumerate(cluster_ids):\n",
    "    color = 'cluster_'+str(cl_id)\n",
    "    if color not in cluster_p_id_dict:\n",
    "        cluster_p_id_dict[color] = []\n",
    "    cluster_p_id_dict[color].append((i, p_ids[i]))\n",
    "cluster_p_id_dict"
   ]
  },
  {
   "cell_type": "code",
   "execution_count": null,
   "id": "e8c163ae-592c-4e8e-8c74-3cc62ca8a71a",
   "metadata": {},
   "outputs": [],
   "source": [
    "clustered_data_df = cma_perc_change_df_lw.copy(deep=True)\n",
    "# clustered_data_df.drop(columns=['consistency_10','theil_index'],inplace=True)\n",
    "clustered_data_df['cluster_id'] = cluster_ids\n",
    "# for i,centroid in enumerate(cluster_centroids):\n",
    "#     centroid = centroid.tolist()\n",
    "#     centroid.append('centroid')\n",
    "#     centroid.append(i)\n",
    "#     clustered_data_df.loc[len(clustered_data_df)-1+i] = centroid\n",
    "# clustered_data_df.to_csv(folder+\"data\\\\results\\\\personalized\\\\Labels+Weights\\\\clustering\\\\perc_change_personalized-Labels+Weights_clustering_cma_group.csv\", index=False)\n",
    "# # clustered_data_df.to_csv(folder+\"data\\\\results\\\\personalized\\\\Labels+Weights\\\\clustering\\\\perc_change_personalized-Labels+Weights_Fair+Unfair_clustering_cma_group+indiv.csv\", index=False)"
   ]
  },
  {
   "cell_type": "code",
   "execution_count": null,
   "id": "1b71fef9-935c-48ca-a9f1-8b91fba76fb3",
   "metadata": {},
   "outputs": [],
   "source": [
    "for cl in cluster_p_id_dict:\n",
    "    print(cl,len(cluster_p_id_dict[cl]))"
   ]
  },
  {
   "cell_type": "markdown",
   "id": "3786b5dd-0f11-475f-8ba0-442f0a061d3c",
   "metadata": {},
   "source": [
    "#### Line plots per cluster"
   ]
  },
  {
   "cell_type": "code",
   "execution_count": null,
   "id": "904af109-ca50-4945-928e-1e2b1316a176",
   "metadata": {
    "scrolled": true
   },
   "outputs": [],
   "source": [
    "for cl in cluster_p_id_dict:\n",
    "    title = 'personalized-Labels+Weights_CMA_{}'.format(cl)\n",
    "    filename = cl\n",
    "    image_type = '.jpeg'\n",
    "    cl_participants = [p_id[1] for p_id in cluster_p_id_dict[cl]]\n",
    "    cl_participants.append(np.nan)\n",
    "    print(cl, cl_participants)\n",
    "    joint_plot_all_participants(title, \n",
    "                                folder+\"data\\\\results\\\\personalized\\\\Labels+Weights\\\\clustering\\\\\", \n",
    "                                filename, \n",
    "                                image_type, \n",
    "                                ['CODE_GENDER','NAME_FAMILY_STATUS','AGE'], \n",
    "                                group_fair, group_fair_codes, \n",
    "                                fs, \n",
    "                                df_group.loc[df_group['participant_id'].isin(cl_participants)], \n",
    "                                df_acc.loc[df_acc['participant_id'].isin(cl_participants)], \n",
    "                                colors, True, True)"
   ]
  },
  {
   "cell_type": "markdown",
   "id": "a8cbcfe6-a858-48f4-b07d-fec507997e3c",
   "metadata": {},
   "source": [
    "#### Perc. change graphs per cluster"
   ]
  },
  {
   "cell_type": "code",
   "execution_count": null,
   "id": "a2d3c99c-9f23-47c1-93a8-34ee882dd05c",
   "metadata": {},
   "outputs": [],
   "source": [
    "## plot all fairness metrics\n",
    "perc_ch_df = cma_perc_change_df_lw\n",
    "cluster_df = clustered_data_df\n",
    "title = 'personalized-Labels+Weights Cluster {}'\n",
    "file_name = 'percChange_Graphs_personalized-Labels+Weights_Clustering_CMA_Group_cl{}.jpg'\n",
    "##\n",
    "attrs  = ['CODE_GENDER','NAME_FAMILY_STATUS','AGE']\n",
    "attrs_codes = ['Gender','Marit. Stat.','Age']\n",
    "group_f = ['DemographicParityRatio','AverageOddsDifference']\n",
    "group_fair_cod = ['DPR (↑)','AOD (↓)']\n",
    "\n",
    "perc_change_plots_per_cluster(perc_ch_df, \n",
    "                              cluster_df, \n",
    "                              title, \n",
    "                              file_name, \n",
    "                              folder+\"data\\\\results\\\\personalized\\\\Labels+Weights\\\\clustering\\\\\", \n",
    "                              attrs, attrs_codes, group_f, group_fair_cod)"
   ]
  },
  {
   "cell_type": "markdown",
   "id": "7103487d-cf6f-4549-aab1-c2bd54bbbba1",
   "metadata": {},
   "source": [
    "#### Parallel Coordinate Graph"
   ]
  },
  {
   "cell_type": "code",
   "execution_count": null,
   "id": "0fc9a78d-3734-45a6-bcc9-cbc63e31973b",
   "metadata": {},
   "outputs": [],
   "source": [
    "cma_subset = cma_perc_change_df_lw[['CODE_GENDER_DemographicParityRatio',\n",
    "                                    'NAME_FAMILY_STATUS_DemographicParityRatio',\n",
    "                                    'AGE_DemographicParityRatio',\n",
    "                                    'CODE_GENDER_AverageOddsDifference',\n",
    "                                    'NAME_FAMILY_STATUS_AverageOddsDifference',\n",
    "                                    'AGE_AverageOddsDifference']]\n",
    "cma_subset['class'] = ['cluster '+str(cid) for cid in cluster_ids]"
   ]
  },
  {
   "cell_type": "code",
   "execution_count": null,
   "id": "75714f2e-ae8a-4bcf-9f0b-b6d4bd6ea303",
   "metadata": {},
   "outputs": [],
   "source": [
    "import pandas\n",
    "import matplotlib.pyplot as plt\n",
    "from pandas.plotting import parallel_coordinates\n",
    "\n",
    "matplotlib.rcParams.update({'font.size': 12})\n",
    "fig, axes = plt.subplots(1, 1, figsize=(9, 5), layout=\"constrained\")\n",
    "fig.suptitle('personalized-Labels+Weights')\n",
    "# Make the plot\n",
    "ax = parallel_coordinates(cma_subset, 'class', color=['tab:orange','tab:green','tab:blue','tab:red'],ax=axes,lw=0.5)\n",
    "ax.plot([0,1,2,3,4,5],[0,0,0,0,0,0], color='black',lw=3)\n",
    "axes.set_ylabel('Perc. Ch. %')\n",
    "axes.xaxis.set_ticklabels(['Gender \\n DPR (↑)', \n",
    "                           'Marit. Status \\n DPR (↑)',\n",
    "                           'Age \\n DPR (↑)',\n",
    "                           'Gender \\n AOD (↓)', \n",
    "                           'Marit. Status \\n AOD (↓)',\n",
    "                           'Age \\n AOD (↓)'])\n",
    "axes.legend(loc='upper left') \n",
    "##\n",
    "file_name = 'parallelCoordGraph_personalized-Labels+Weights_Clustering_CMA.jpg'\n",
    "fig.savefig(folder+\"data\\\\results\\\\personalized\\\\Labels+Weights\\\\clustering\\\\\"+file_name, dpi=300)\n",
    "plt.show()"
   ]
  },
  {
   "cell_type": "code",
   "execution_count": null,
   "id": "47e5c5ba-5409-4c85-8c14-2dc649a2cd3e",
   "metadata": {},
   "outputs": [],
   "source": [
    "fig, ax2 = plt.subplots(1, 1, figsize=(9, 9), layout=\"constrained\")\n",
    "fig.suptitle('personalized-Labels+Weights')\n",
    "pd.plotting.scatter_matrix(cma_subset, ax=ax2)"
   ]
  },
  {
   "cell_type": "markdown",
   "id": "99c3b959-bfdc-4147-bba9-ed41ca03fbd3",
   "metadata": {},
   "source": [
    "### Perc. change plot of all participants"
   ]
  },
  {
   "cell_type": "code",
   "execution_count": null,
   "id": "5aec8386-dd5a-4238-ba08-5ec7ef597bdc",
   "metadata": {},
   "outputs": [],
   "source": [
    "## plot perc. change plot for all fairness metrics\n",
    "perc_ch_df = cma_perc_change_df_lw\n",
    "title = 'IML-Labels+Weights_Fair+Unfair'\n",
    "file_name = 'percChange_Graphs_IML-Labels+Weights.jpg'\n",
    "attrs  = ['CODE_GENDER','NAME_FAMILY_STATUS','AGE']\n",
    "attrs_codes = ['Gender','Marit. Stat.','Age']\n",
    "group_f = ['DemographicParityRatio','AverageOddsDifference']\n",
    "group_fair_cod = ['DPR (↑)','AOD (↓)']\n",
    "\n",
    "perc_change_plots(perc_ch_df, \n",
    "                  title, \n",
    "                  file_name, \n",
    "                  folder+\"data\\\\results\\\\personalized\\\\Labels+Weights\\\\figures\\\\\", \n",
    "                  attrs, attrs_codes, \n",
    "                  group_f, group_fair_cod)"
   ]
  },
  {
   "cell_type": "markdown",
   "id": "385b248e-6331-45c6-b64d-f3ff9e30c097",
   "metadata": {},
   "source": [
    "#### Parallel Coordinate"
   ]
  },
  {
   "cell_type": "code",
   "execution_count": null,
   "id": "5c99bbe1-16f6-4759-bb71-e18fbdeca695",
   "metadata": {},
   "outputs": [],
   "source": [
    "import pandas\n",
    "import matplotlib.pyplot as plt\n",
    "from pandas.plotting import parallel_coordinates\n",
    "\n",
    "cma_subset = cma_perc_change_df_lw[['CODE_GENDER_DemographicParityRatio',\n",
    "                                 'NAME_FAMILY_STATUS_DemographicParityRatio',\n",
    "                                 'AGE_DemographicParityRatio',\n",
    "                                 'CODE_GENDER_AverageOddsDifference',\n",
    "                                 'NAME_FAMILY_STATUS_AverageOddsDifference',\n",
    "                                 'AGE_AverageOddsDifference']]\n",
    "cma_subset['class'] = [0]*len(cma_perc_change_df_lw)\n",
    "\n",
    "matplotlib.rcParams.update({'font.size': 22})\n",
    "fig, axes = plt.subplots(1, 1, figsize=(12, 5), layout=\"constrained\")\n",
    "fig.suptitle('personalized-Labels+Weights')\n",
    "# Make the plot\n",
    "ax = parallel_coordinates(cma_subset, 'class', color=['tab:blue'],ax=axes,lw=1)\n",
    "ax.plot([0,1,2,3,4,5],[0,0,0,0,0,0], color='black',lw=3)\n",
    "axes.set_ylim(-48,30)\n",
    "axes.set_ylabel('Perc. Ch. % \\n From Baseline')\n",
    "axes.xaxis.set_ticklabels(['Gender \\n DPR (↑)', 'Marit. Status \\n DPR (↑)','Age \\n DPR (↑)','Gender \\n AOD (↓)', 'Marit. Status \\n AOD (↓)','Age \\n AOD (↓)'])\n",
    "axes.get_legend().remove()\n",
    "##\n",
    "file_name = 'parallelCoordGraph_personalized-Labels_Weights_CMA.jpg'\n",
    "fig.savefig(folder+\"data\\\\results\\\\personalized\\\\Labels+Weights\\\\figures\\\\\"+file_name, dpi=300)\n",
    "plt.show()"
   ]
  },
  {
   "cell_type": "code",
   "execution_count": null,
   "id": "ae423384-b645-4a06-8ca2-18d7170ecfb7",
   "metadata": {},
   "outputs": [],
   "source": [
    "cma_perc_change_df_lw.columns"
   ]
  },
  {
   "cell_type": "code",
   "execution_count": null,
   "id": "09562580-e362-4b7f-adff-deff621cc0ab",
   "metadata": {
    "scrolled": true
   },
   "outputs": [],
   "source": [
    "import pandas\n",
    "import matplotlib.pyplot as plt\n",
    "from pandas.plotting import parallel_coordinates\n",
    "\n",
    "cma_subset = cma_perc_change_df_lw[['CODE_GENDER_DemographicParityRatio',\n",
    "                                 'NAME_FAMILY_STATUS_DemographicParityRatio',\n",
    "                                 'AGE_DemographicParityRatio',\n",
    "                                 'CODE_GENDER_AverageOddsDifference',\n",
    "                                 'NAME_FAMILY_STATUS_AverageOddsDifference',\n",
    "                                 'AGE_AverageOddsDifference']]\n",
    "# cma_subset['class'] =[0 if cma_subset.loc[idx]['NAME_FAMILY_STATUS_AverageOddsDifference']>0 else 1 for idx in cma_subset.index]\n",
    "cma_subset['class'] =[0 if cma_subset.loc[idx]['AGE_AverageOddsDifference']>0 else 1 for idx in cma_subset.index]\n",
    "# cma_subset['class'] =[0 if cma_subset.loc[idx]['NAME_FAMILY_STATUS_DemographicParityRatio']>0 else 1 for idx in cma_subset.index]\n",
    "\n",
    "matplotlib.rcParams.update({'font.size': 22})\n",
    "fig, axes = plt.subplots(1, 1, figsize=(12, 5), layout=\"constrained\")\n",
    "fig.suptitle('personalized-Labels+Weights')\n",
    "# Make the plot\n",
    "ax = parallel_coordinates(cma_subset, 'class', color=['tab:orange','tab:green'],ax=axes,lw=1)\n",
    "ax.plot([0,1,2,3,4,5],[0,0,0,0,0,0], color='black',lw=3)\n",
    "axes.set_ylabel('Perc. Ch. % \\n From Baseline')\n",
    "axes.xaxis.set_ticklabels(['Gender \\n DPR (↑)', 'Marit. Status \\n DPR (↑)','Age \\n DPR (↑)',\n",
    "                           'Gender \\n AOD (↓)', 'Marit. Status \\n AOD (↓)','Age \\n AOD (↓)'])\n",
    "axes.get_legend().remove()\n",
    "##\n",
    "file_name = 'parallelCoordGraph_personalized-Labels+Weights_CMA_ageAOD.jpg'\n",
    "fig.savefig(folder+\"data\\\\results\\\\personalized\\\\Labels+Weights\\\\figures\\\\\"+file_name, dpi=300)\n",
    "plt.show()"
   ]
  },
  {
   "cell_type": "code",
   "execution_count": null,
   "id": "1fbb3e5f-d77e-4e88-844a-ddbbeaefe29c",
   "metadata": {},
   "outputs": [],
   "source": [
    "import seaborn as sns\n",
    "df_cma_subset = cma_subset.loc[:,~cma_subset.columns.isin(['class'])]\n",
    "df_cma_subset = df_cma_subset.rename(columns={'CODE_GENDER_DemographicParityRatio':'Gender \\n DPR (↑)',\n",
    "                              'NAME_FAMILY_STATUS_DemographicParityRatio':'Marit. Status \\n DPR (↑)',\n",
    "                              'AGE_DemographicParityRatio':'Age \\n DPR (↑)',\n",
    "                              'CODE_GENDER_AverageOddsDifference':'Gender \\n AOD (↓)',\n",
    "                              'NAME_FAMILY_STATUS_AverageOddsDifference':'Marit. Status \\n AOD (↓)',\n",
    "                              'AGE_AverageOddsDifference':'Age \\n AOD (↓)'})\n",
    "\n",
    "sns.pairplot(df_cma_subset,  corner=True)"
   ]
  },
  {
   "cell_type": "markdown",
   "id": "ed3bb3d5-0c6f-4b2f-b431-6982d20e36b6",
   "metadata": {},
   "source": [
    "### Line (Raw and CMA) plots"
   ]
  },
  {
   "cell_type": "markdown",
   "id": "f41ca9cf-4bb9-470f-bcac-363eaf0fd527",
   "metadata": {},
   "source": [
    "#### Joint plots for all participants"
   ]
  },
  {
   "cell_type": "code",
   "execution_count": null,
   "id": "3e7b459e-e797-4bef-bf59-25306b0d8bf9",
   "metadata": {
    "tags": []
   },
   "outputs": [],
   "source": [
    "title = 'personalized-Labels+Weights_Fair+Unfair_all'\n",
    "image_type = '.jpeg'\n",
    "filename = 'all_participants'\n",
    "joint_plot_all_participants(title, \n",
    "                            folder+\"data\\\\results\\\\personalized\\\\Labels+Weights\\\\figures\\\\\", \n",
    "                            filename, \n",
    "                            image_type, \n",
    "                            ['CODE_GENDER','NAME_FAMILY_STATUS','AGE'], \n",
    "                            group_fair, group_fair_codes, \n",
    "                            fs, \n",
    "                            df_group, df_acc, \n",
    "                            colors, True, True)"
   ]
  },
  {
   "cell_type": "markdown",
   "id": "039e12cb-ae95-4a40-ae5e-76d45e454962",
   "metadata": {},
   "source": [
    "#### Plots per participant"
   ]
  },
  {
   "cell_type": "code",
   "execution_count": null,
   "id": "ffe5baf9-55a0-432e-baaf-39f2715aae3e",
   "metadata": {
    "scrolled": true
   },
   "outputs": [],
   "source": [
    "title = 'personalized-Labels+Weights_{}'\n",
    "image_type = '.jpeg'\n",
    "plots_per_participant(title, \n",
    "                      folder+\"data\\\\results\\\\personalized\\\\Labels+Weights\\\\figures\\\\\", \n",
    "                      image_type, \n",
    "                      ['CODE_GENDER','NAME_FAMILY_STATUS','AGE'], \n",
    "                      group_fair, group_fair_codes, \n",
    "                      fs, \n",
    "                      df_group, df_acc, \n",
    "                      colors, True)"
   ]
  },
  {
   "cell_type": "markdown",
   "id": "abd24ec1-3438-4e7f-98b1-c67bff516ef7",
   "metadata": {},
   "source": [
    "# Analysis of data from participants who reported different notions of fairness in pre-questionnaire"
   ]
  },
  {
   "cell_type": "code",
   "execution_count": null,
   "id": "b9c4f97d-65f3-4794-a6ab-157d2e8c2b86",
   "metadata": {},
   "outputs": [],
   "source": [
    "questionnaires = pd.read_csv(folder+'data\\\\processed_data\\\\QuestionnairesResponses.csv', delimiter=',')"
   ]
  },
  {
   "cell_type": "code",
   "execution_count": null,
   "id": "7a259457-1e0d-4237-a6ed-2781f8aca882",
   "metadata": {},
   "outputs": [],
   "source": [
    "consist_p_ids = questionnaires[questionnaires['PreQ3']==\"Similar people will be treated in the same way\"]['Participant_ID'].tolist()\n",
    "counterf_p_ids = questionnaires[questionnaires['PreQ3']==\"People will be treated the same whether they are protected by law (e.g. gender, age, etc.) or not\"]['Participant_ID'].tolist()"
   ]
  },
  {
   "cell_type": "markdown",
   "id": "ce3a250e-70ad-436f-bf81-e8775f0a43c6",
   "metadata": {},
   "source": [
    "### personalized_Labels"
   ]
  },
  {
   "cell_type": "markdown",
   "id": "764e8f9a-152e-4dec-adf2-73b6b92616e2",
   "metadata": {},
   "source": [
    "#### Parallel Coordinate Consistency (\"Similar people will be treated in the same way\")"
   ]
  },
  {
   "cell_type": "code",
   "execution_count": null,
   "id": "2de3554d-24a9-4975-a26a-bc4e0f266582",
   "metadata": {},
   "outputs": [],
   "source": [
    "import pandas\n",
    "import matplotlib.pyplot as plt\n",
    "from pandas.plotting import parallel_coordinates\n",
    "cma_subset = cma_perc_change_df_l.loc[cma_perc_change_df_l['participant_id'].isin(consist_p_ids)]\n",
    "cma_subset = cma_subset[['CODE_GENDER_DemographicParityRatio',\n",
    "                                    'NAME_FAMILY_STATUS_DemographicParityRatio',\n",
    "                                    'AGE_DemographicParityRatio',\n",
    "                                    'CODE_GENDER_AverageOddsDifference',\n",
    "                                    'NAME_FAMILY_STATUS_AverageOddsDifference',\n",
    "                                    'AGE_AverageOddsDifference',\n",
    "                                   'consistency']]\n",
    "cma_subset['class'] = [0]*len(cma_subset)\n",
    "\n",
    "matplotlib.rcParams.update({'font.size': 22})\n",
    "fig, axes = plt.subplots(1, 1, figsize=(12, 5), layout=\"constrained\")\n",
    "fig.suptitle('personalized-Labels')\n",
    "# Make the plot\n",
    "ax = parallel_coordinates(cma_subset, 'class', color=['tab:blue'],ax=axes,lw=1)\n",
    "ax.plot([0,1,2,3,4,5,6],[0,0,0,0,0,0,0], color='black',lw=3)\n",
    "axes.set_ylabel('Perc. Ch. % \\n From Baseline')\n",
    "axes.xaxis.set_ticklabels(['Gender \\n DPR (↑)', \n",
    "                           'Marit. Status \\n DPR (↑)',\n",
    "                           'Age \\n DPR (↑)',\n",
    "                           'Gender \\n AOD (↓)', \n",
    "                           'Marit. Status \\n AOD (↓)',\n",
    "                           'Age \\n AOD (↓)',\n",
    "                          'Consist. (↑)'])\n",
    "axes.get_legend().remove()\n",
    "##\n",
    "file_name = 'parallelCoordGraph_consistency_personalized-Labels_CMA.jpg'\n",
    "fig.savefig(folder+\"data\\\\results\\\\personalized\\\\Labels\\\\figures\\\\\"+file_name, dpi=300)\n",
    "plt.show()"
   ]
  },
  {
   "cell_type": "markdown",
   "id": "9aa8d57d-12f4-4ba3-91da-6bbf5ed1e935",
   "metadata": {},
   "source": [
    "#### Parallel Coordinate Counterfactual (\"People will be treated the same whether they are protected by law (e.g. gender, age, etc.) or not\")"
   ]
  },
  {
   "cell_type": "code",
   "execution_count": null,
   "id": "ebc33f4b-f65a-4657-8275-5e2a237ea873",
   "metadata": {},
   "outputs": [],
   "source": [
    "import pandas\n",
    "import matplotlib.pyplot as plt\n",
    "from pandas.plotting import parallel_coordinates\n",
    "\n",
    "cma_subset = cma_perc_change_df_l.loc[cma_perc_change_df_l['participant_id'].isin(counterf_p_ids)]\n",
    "cma_subset = cma_subset[['CODE_GENDER_DemographicParityRatio',\n",
    "                                    'NAME_FAMILY_STATUS_DemographicParityRatio',\n",
    "                                    'AGE_DemographicParityRatio',\n",
    "                                    'CODE_GENDER_AverageOddsDifference',\n",
    "                                    'NAME_FAMILY_STATUS_AverageOddsDifference',\n",
    "                                    'AGE_AverageOddsDifference',\n",
    "                                   'counterfactual_CODE_GENDER',\n",
    "                                   'counterfactual_AGE',\n",
    "                                   'counterfactual_NAME_FAMILY_STATUS']]\n",
    "cma_subset['class'] = [0]*len(cma_subset)\n",
    "\n",
    "matplotlib.rcParams.update({'font.size': 22})\n",
    "fig, axes = plt.subplots(1, 1, figsize=(20, 5), layout=\"constrained\")\n",
    "fig.suptitle('personalized-Labels')\n",
    "# Make the plot\n",
    "ax = parallel_coordinates(cma_subset, 'class', color=['tab:blue'],ax=axes,lw=1)\n",
    "ax.plot([0,1,2,3,4,5,6,7,8],[0,0,0,0,0,0,0,0,0], color='black',lw=3)\n",
    "axes.set_ylabel('Perc. Ch. % \\n From Baseline')\n",
    "axes.xaxis.set_ticklabels(['Gender \\n DPR (↑)', \n",
    "                           'Marit. Status \\n DPR (↑)',\n",
    "                           'Age \\n DPR (↑)',\n",
    "                           'Gender \\n AOD (↓)', \n",
    "                           'Marit. Status \\n AOD (↓)',\n",
    "                           'Age \\n AOD (↓)',\n",
    "                          'Gender \\n Counterf. (↑)',\n",
    "                          'Age \\n Counterf. (↑)',\n",
    "                          'Marit. Status \\n Counterf. (↑)'])\n",
    "axes.get_legend().remove()\n",
    "##\n",
    "file_name = 'parallelCoordGraph_counterfactual_personalized-Labels_CMA.jpg'\n",
    "fig.savefig(folder+\"data\\\\results\\\\personalized\\\\Labels\\\\figures\\\\\"+file_name, dpi=300)\n",
    "plt.show()"
   ]
  },
  {
   "cell_type": "markdown",
   "id": "a55c0cfd-5051-4fbf-b75e-a6e75653199a",
   "metadata": {},
   "source": [
    "### IML_Labels_Unfair"
   ]
  },
  {
   "cell_type": "markdown",
   "id": "9a9cb6be-a919-40f1-a60f-b1a4d89e43aa",
   "metadata": {},
   "source": [
    "#### Parallel Coordinate Consistency (\"Similar people will be treated in the same way\")"
   ]
  },
  {
   "cell_type": "code",
   "execution_count": null,
   "id": "59c0d6ed-a576-40d9-9273-220563e9ecd1",
   "metadata": {},
   "outputs": [],
   "source": [
    "import pandas\n",
    "import matplotlib.pyplot as plt\n",
    "from pandas.plotting import parallel_coordinates\n",
    "cma_subset = cma_perc_change_df_lu.loc[cma_perc_change_df_lu['participant_id'].isin(consist_p_ids)]\n",
    "cma_subset = cma_subset[['CODE_GENDER_DemographicParityRatio',\n",
    "                                    'NAME_FAMILY_STATUS_DemographicParityRatio',\n",
    "                                    'AGE_DemographicParityRatio',\n",
    "                                    'CODE_GENDER_AverageOddsDifference',\n",
    "                                    'NAME_FAMILY_STATUS_AverageOddsDifference',\n",
    "                                    'AGE_AverageOddsDifference',\n",
    "                                   'consistency']]\n",
    "cma_subset['class'] = [0]*len(cma_subset)\n",
    "\n",
    "matplotlib.rcParams.update({'font.size': 22})\n",
    "fig, axes = plt.subplots(1, 1, figsize=(12, 5), layout=\"constrained\")\n",
    "fig.suptitle('personalized-Labels_Unfair')\n",
    "# Make the plot\n",
    "ax = parallel_coordinates(cma_subset, 'class', color=['tab:blue'],ax=axes,lw=1)\n",
    "ax.plot([0,1,2,3,4,5,6],[0,0,0,0,0,0,0], color='black',lw=3)\n",
    "axes.set_ylabel('Perc. Ch. % \\n From Baseline')\n",
    "axes.xaxis.set_ticklabels(['Gender \\n DPR (↑)', \n",
    "                           'Marit. Status \\n DPR (↑)',\n",
    "                           'Age \\n DPR (↑)',\n",
    "                           'Gender \\n AOD (↓)', \n",
    "                           'Marit. Status \\n AOD (↓)',\n",
    "                           'Age \\n AOD (↓)',\n",
    "                          'Consist. (↑)'])\n",
    "axes.get_legend().remove()\n",
    "##\n",
    "file_name = 'parallelCoordGraph_consistency_personalized-Labels_Unfair_CMA.jpg'\n",
    "fig.savefig(folder+\"data\\\\results\\\\personalized\\\\Labels_Unfair\\\\figures\\\\\"+file_name, dpi=300)\n",
    "plt.show()"
   ]
  },
  {
   "cell_type": "markdown",
   "id": "34553b6e-d47d-4925-86ba-aa30eaa97b43",
   "metadata": {},
   "source": [
    "#### Parallel Coordinate Counterfactual (\"People will be treated the same whether they are protected by law (e.g. gender, age, etc.) or not\")"
   ]
  },
  {
   "cell_type": "code",
   "execution_count": null,
   "id": "4be998bc-7526-4a21-8727-f4f9d18d5666",
   "metadata": {},
   "outputs": [],
   "source": [
    "import pandas\n",
    "import matplotlib.pyplot as plt\n",
    "from pandas.plotting import parallel_coordinates\n",
    "\n",
    "cma_subset = cma_perc_change_df_lu.loc[cma_perc_change_df_lu['participant_id'].isin(counterf_p_ids)]\n",
    "cma_subset = cma_subset[['CODE_GENDER_DemographicParityRatio',\n",
    "                                    'NAME_FAMILY_STATUS_DemographicParityRatio',\n",
    "                                    'AGE_DemographicParityRatio',\n",
    "                                    'CODE_GENDER_AverageOddsDifference',\n",
    "                                    'NAME_FAMILY_STATUS_AverageOddsDifference',\n",
    "                                    'AGE_AverageOddsDifference',\n",
    "                                   'counterfactual_CODE_GENDER',\n",
    "                                   'counterfactual_AGE',\n",
    "                                   'counterfactual_NAME_FAMILY_STATUS']]\n",
    "cma_subset['class'] = [0]*len(cma_subset)\n",
    "\n",
    "matplotlib.rcParams.update({'font.size': 22})\n",
    "fig, axes = plt.subplots(1, 1, figsize=(20, 5), layout=\"constrained\")\n",
    "fig.suptitle('personalized-Labels_Unfair')\n",
    "# Make the plot\n",
    "ax = parallel_coordinates(cma_subset, 'class', color=['tab:blue'],ax=axes,lw=1)\n",
    "ax.plot([0,1,2,3,4,5,6,7,8],[0,0,0,0,0,0,0,0,0], color='black',lw=3)\n",
    "axes.set_ylabel('Perc. Ch. % \\n From Baseline')\n",
    "axes.xaxis.set_ticklabels(['Gender \\n DPR (↑)', \n",
    "                           'Marit. Status \\n DPR (↑)',\n",
    "                           'Age \\n DPR (↑)',\n",
    "                           'Gender \\n AOD (↓)', \n",
    "                           'Marit. Status \\n AOD (↓)',\n",
    "                           'Age \\n AOD (↓)',\n",
    "                          'Gender \\n Counterf. (↑)',\n",
    "                          'Age \\n Counterf. (↑)',\n",
    "                          'Marit. Status \\n Counterf. (↑)'])\n",
    "axes.get_legend().remove()\n",
    "##\n",
    "file_name = 'parallelCoordGraph_counterfactual_personalized-Labels_Unfair_CMA.jpg'\n",
    "fig.savefig(folder+\"data\\\\results\\\\personalized\\\\Labels_Unfair\\\\figures\\\\\"+file_name, dpi=300)\n",
    "plt.show()"
   ]
  },
  {
   "cell_type": "markdown",
   "id": "f0b847d5-a96e-475e-b99f-2bd8fb5afcbe",
   "metadata": {},
   "source": [
    "### personalized_Labels+Weights"
   ]
  },
  {
   "cell_type": "markdown",
   "id": "ee68b5a6-7bd6-4013-b618-eb020b81639b",
   "metadata": {},
   "source": [
    "#### Parallel Coordinate Consistency (\"Similar people will be treated in the same way\")"
   ]
  },
  {
   "cell_type": "code",
   "execution_count": null,
   "id": "d4f1e0e8-0c80-4793-9185-07bf39c36794",
   "metadata": {},
   "outputs": [],
   "source": [
    "import pandas\n",
    "import matplotlib.pyplot as plt\n",
    "from pandas.plotting import parallel_coordinates\n",
    "cma_subset = cma_perc_change_df_lw.loc[cma_perc_change_df_lw['participant_id'].isin(consist_p_ids)]\n",
    "cma_subset = cma_subset[['CODE_GENDER_DemographicParityRatio',\n",
    "                                    'NAME_FAMILY_STATUS_DemographicParityRatio',\n",
    "                                    'AGE_DemographicParityRatio',\n",
    "                                    'CODE_GENDER_AverageOddsDifference',\n",
    "                                    'NAME_FAMILY_STATUS_AverageOddsDifference',\n",
    "                                    'AGE_AverageOddsDifference',\n",
    "                                   'consistency']]\n",
    "cma_subset['class'] = [0]*len(cma_subset)\n",
    "\n",
    "matplotlib.rcParams.update({'font.size': 22})\n",
    "fig, axes = plt.subplots(1, 1, figsize=(12, 5), layout=\"constrained\")\n",
    "fig.suptitle('personalized-Labels+Weights')\n",
    "# Make the plot\n",
    "ax = parallel_coordinates(cma_subset, 'class', color=['tab:blue'],ax=axes,lw=1)\n",
    "ax.plot([0,1,2,3,4,5,6],[0,0,0,0,0,0,0], color='black',lw=3)\n",
    "axes.set_ylabel('Perc. Ch. % \\n From Baseline')\n",
    "axes.xaxis.set_ticklabels(['Gender \\n DPR (↑)', \n",
    "                           'Marit. Status \\n DPR (↑)',\n",
    "                           'Age \\n DPR (↑)',\n",
    "                           'Gender \\n AOD (↓)', \n",
    "                           'Marit. Status \\n AOD (↓)',\n",
    "                           'Age \\n AOD (↓)',\n",
    "                          'Consist. (↑)'])\n",
    "axes.get_legend().remove()\n",
    "##\n",
    "file_name = 'parallelCoordGraph_consistency_personalized-Labels+Weights_CMA.jpg'\n",
    "fig.savefig(folder+\"data\\\\results\\\\personalized\\\\Labels+Weights\\\\figures\\\\\"+file_name, dpi=300)\n",
    "plt.show()"
   ]
  },
  {
   "cell_type": "markdown",
   "id": "b9303d89-0a75-4ded-be68-0060481b7846",
   "metadata": {},
   "source": [
    "#### Parallel Coordinate Counterfactual (\"People will be treated the same whether they are protected by law (e.g. gender, age, etc.) or not\")"
   ]
  },
  {
   "cell_type": "code",
   "execution_count": null,
   "id": "716cb17f-3355-4040-bade-e788f42109dc",
   "metadata": {},
   "outputs": [],
   "source": [
    "import pandas\n",
    "import matplotlib.pyplot as plt\n",
    "from pandas.plotting import parallel_coordinates\n",
    "\n",
    "cma_subset = cma_perc_change_df_lw.loc[cma_perc_change_df_lw['participant_id'].isin(counterf_p_ids)]\n",
    "cma_subset = cma_subset[['CODE_GENDER_DemographicParityRatio',\n",
    "                                    'NAME_FAMILY_STATUS_DemographicParityRatio',\n",
    "                                    'AGE_DemographicParityRatio',\n",
    "                                    'CODE_GENDER_AverageOddsDifference',\n",
    "                                    'NAME_FAMILY_STATUS_AverageOddsDifference',\n",
    "                                    'AGE_AverageOddsDifference',\n",
    "                                   'counterfactual_CODE_GENDER',\n",
    "                                   'counterfactual_AGE',\n",
    "                                   'counterfactual_NAME_FAMILY_STATUS']]\n",
    "cma_subset['class'] = [0]*len(cma_subset)\n",
    "\n",
    "matplotlib.rcParams.update({'font.size': 22})\n",
    "fig, axes = plt.subplots(1, 1, figsize=(20, 5), layout=\"constrained\")\n",
    "fig.suptitle('personalized-Labels+Weights')\n",
    "# Make the plot\n",
    "ax = parallel_coordinates(cma_subset, 'class', color=['tab:blue'],ax=axes,lw=1)\n",
    "ax.plot([0,1,2,3,4,5,6,7,8],[0,0,0,0,0,0,0,0,0], color='black',lw=3)\n",
    "axes.set_ylabel('Perc. Ch. % \\n From Baseline')\n",
    "axes.xaxis.set_ticklabels(['Gender \\n DPR (↑)', \n",
    "                           'Marit. Status \\n DPR (↑)',\n",
    "                           'Age \\n DPR (↑)',\n",
    "                           'Gender \\n AOD (↓)', \n",
    "                           'Marit. Status \\n AOD (↓)',\n",
    "                           'Age \\n AOD (↓)',\n",
    "                          'Gender \\n Counterf. (↑)',\n",
    "                          'Age \\n Counterf. (↑)',\n",
    "                          'Marit. Status \\n Counterf. (↑)'])\n",
    "axes.get_legend().remove()\n",
    "##\n",
    "file_name = 'parallelCoordGraph_counterfactual_personalized-Labels+Weights_CMA.jpg'\n",
    "fig.savefig(folder+\"data\\\\results\\\\personalized\\\\Labels+Weights\\\\figures\\\\\"+file_name, dpi=300)\n",
    "plt.show()"
   ]
  },
  {
   "cell_type": "code",
   "execution_count": null,
   "id": "9d0ad1f5-5f7d-47c1-96fb-aa7fa329ce69",
   "metadata": {},
   "outputs": [],
   "source": []
  }
 ],
 "metadata": {
  "kernelspec": {
   "display_name": "Python 3 (ipykernel)",
   "language": "python",
   "name": "python3"
  },
  "language_info": {
   "codemirror_mode": {
    "name": "ipython",
    "version": 3
   },
   "file_extension": ".py",
   "mimetype": "text/x-python",
   "name": "python",
   "nbconvert_exporter": "python",
   "pygments_lexer": "ipython3",
   "version": "3.11.4"
  }
 },
 "nbformat": 4,
 "nbformat_minor": 5
}
