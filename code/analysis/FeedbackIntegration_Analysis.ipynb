{
 "cells": [
  {
   "cell_type": "code",
   "execution_count": null,
   "id": "2555bbca-685e-4a7f-b65a-d1b9d300a83d",
   "metadata": {},
   "outputs": [],
   "source": [
    "import numpy as np\n",
    "import pandas as pd\n",
    "import json\n",
    "\n",
    "########################SET folder to path of code directory in the project folder#####################\n",
    "## SET PATH to code directory in the project folder\n",
    "code_path = \"C:\\\\Users\\\\evdoxiataka\\\\codes\\\\effi_user_study_2\\\\code\\\\\"\n",
    "import sys  \n",
    "sys.path.insert(1, code_path)\n",
    "\n",
    "########################SET folder to project directory path#####################\n",
    "folder= \"C:\\\\Users\\\\evdoxiataka\\\\codes\\\\effi_user_study_2\\\\\"\n",
    "\n",
    "from utils.utils import *\n",
    "from utils.visualization import *\n",
    "\n",
    "import matplotlib\n",
    "import matplotlib.pyplot as plt\n",
    "\n",
    "import warnings\n",
    "from pandas.errors import SettingWithCopyWarning\n",
    "warnings.simplefilter(action=\"ignore\", category=SettingWithCopyWarning)\n",
    "\n",
    "sensitive_attrs = [\"CODE_GENDER\",\"NAME_FAMILY_STATUS\",\"AGE\"]\n",
    "all_attributes = list(attributes_names_mapping.keys())\n",
    "all_attributes.remove(\"CODE_GENDER\")\n",
    "all_attributes.remove(\"NAME_FAMILY_STATUS\")\n",
    "all_attributes.remove(\"AGE\")\n",
    "sensitive_attrs = sensitive_attrs+all_attributes\n",
    "fs = 0.5\n",
    "\n",
    "##\n",
    "colors = ['r','g','b','orange','purple', 'y','cyan','magenta','tab:blue']\n",
    "\n",
    "##\n",
    "group_fair = ['DemographicParityRatio','AverageOddsDifference']\n",
    "group_fair_codes = ['DPR','AOD']\n",
    "indiv_fair = ['consistency',\n",
    "'counterfactual_CODE_GENDER',\n",
    "'counterfactual_AGE',\n",
    "'counterfactual_NAME_FAMILY_STATUS']"
   ]
  },
  {
   "cell_type": "markdown",
   "id": "0ea14234-f4ca-405d-b39c-9ebc3be0b333",
   "metadata": {
    "jp-MarkdownHeadingCollapsed": true
   },
   "source": [
    "# Global Model"
   ]
  },
  {
   "cell_type": "markdown",
   "id": "abd3cee4-13eb-4d2d-ad96-3b6f54e3ca2b",
   "metadata": {},
   "source": [
    "## Labels_Unfair ('unfair') "
   ]
  },
  {
   "cell_type": "code",
   "execution_count": null,
   "id": "3a45d1a6-95dc-4f2f-9d39-f43513d8533f",
   "metadata": {},
   "outputs": [],
   "source": [
    "df_group_oneoff_ap = pd.read_csv(folder+'data\\\\results\\\\global\\\\Labels_Unfair\\\\group_fairness_global_Labels_Unfair.csv', delimiter=',')\n",
    "df_indiv = pd.read_csv(folder+'data\\\\results\\\\global\\\\Labels_Unfair\\\\individual_fairness_global_Labels_Unfair.csv', delimiter=',')\n",
    "df_acc_oneoff_ap = pd.read_csv(folder+'data\\\\results\\\\global\\\\Labels_Unfair\\\\accuracy_global_Labels_Unfair.csv', delimiter=',')\n",
    "\n",
    "perc_change_df = get_percentage_change_oneoff(df_group_oneoff_ap, group_fair, \n",
    "                                              df_indiv, indiv_fair, \n",
    "                                              df_acc_oneoff_ap, \n",
    "                                              sensitive_attrs, fs)\n",
    "##\n",
    "perc_change_df.to_csv(folder+\"data\\\\results\\\\global\\\\Labels_Unfair\\\\perc_change_global_Labels_Unfair.csv\", index=False)\n",
    "# perc_change_df"
   ]
  },
  {
   "cell_type": "markdown",
   "id": "6a28d6e6-4fab-4351-b730-ae8536e346da",
   "metadata": {},
   "source": [
    "## Labels_Unfair+Weights ('unfair')"
   ]
  },
  {
   "cell_type": "code",
   "execution_count": null,
   "id": "22d6b1fb-d518-43ac-b0d8-100de82166a6",
   "metadata": {},
   "outputs": [],
   "source": [
    "df_group_oneoff_ap = pd.read_csv(folder+'data\\\\results\\\\global\\\\Labels_Unfair+Weights\\\\group_fairness_global_Labels_Unfair+Weights.csv', delimiter=',')\n",
    "df_indiv = pd.read_csv(folder+'data\\\\results\\\\global\\\\Labels_Unfair+Weights\\\\individual_fairness_global_Labels_Unfair+Weights.csv', delimiter=',')\n",
    "df_acc_oneoff_ap = pd.read_csv(folder+'data\\\\results\\\\global\\\\Labels_Unfair+Weights\\\\accuracy_global_Labels_Unfair+Weights.csv', delimiter=',')\n",
    "\n",
    "perc_change_df = get_percentage_change_oneoff(df_group_oneoff_ap, group_fair, \n",
    "                                              df_indiv, indiv_fair, \n",
    "                                              df_acc_oneoff_ap, \n",
    "                                              sensitive_attrs, fs)\n",
    "##\n",
    "perc_change_df.to_csv(folder+\"data\\\\results\\\\global\\\\Labels_Unfair+Weights\\\\perc_change_global_Labels_Unfair+Weights.csv\", index=False)\n",
    "# perc_change_df"
   ]
  },
  {
   "cell_type": "markdown",
   "id": "a0c58ab3-2c6f-4c1c-b107-1b8fa9edf607",
   "metadata": {},
   "source": [
    "# Comparison to User Study 1"
   ]
  },
  {
   "cell_type": "code",
   "execution_count": null,
   "id": "3b28869f-6c8c-4745-8348-fba34451fdba",
   "metadata": {},
   "outputs": [],
   "source": [
    "labels_us1 = [-1.54,-2.18,-4.74,17.15,14.54,6.61]\n",
    "labels_unfair_us2 = [-2,4.69,-7.5,16.75,-4.53,13.27]\n",
    "labels_unfair_us1= [1.57,5.5,0.2,-9.56,-15.52,-4.67]\n",
    "labels_weights_us2 = [-2.5,19.17,-6.51,6.39,-31.19,-19.21]\n",
    "labels_weights_us1 = [0.06,-3.9,-5.77,-1.03,14.2,5.31]\n",
    "\n",
    "import pandas\n",
    "import matplotlib\n",
    "import matplotlib.pyplot as plt\n",
    "from pandas.plotting import parallel_coordinates\n",
    "\n",
    "matplotlib.rcParams.update({'font.size': 22})\n",
    "fig, axes = plt.subplots(1, 1, figsize=(20, 6), layout=\"constrained\")\n",
    "fig.suptitle('IML (user study 2) vs. non-IML (user study 1) feedback: \\n Global models')\n",
    "# Make the plot\n",
    "axes.plot([0,1,2,3,4,5],labels_this, color='blue',label='Labels')\n",
    "axes.plot([0,1,2,3,4,5],labels_taka, color='orange',label='Labels Taka et. al.')\n",
    "axes.plot([0,1,2,3,4,5],labels_unfair_this, color='blue',linestyle='dashed',label='Labels_Unfair')\n",
    "axes.plot([0,1,2,3,4,5],labels_unfair_taka, color='orange',linestyle='dashed',label='Labels_Unfair Taka et. al.')\n",
    "axes.plot([0,1,2,3,4,5],labels_weights_this, color='blue',linestyle='dashdot',label='Labels+Weights')\n",
    "axes.plot([0,1,2,3,4,5],labels_weights_taka, color='orange',linestyle='dashdot',label='Labels+Weights Taka et. al.')\n",
    "axes.plot([0,1,2,3,4,5],[0,0,0,0,0,0], color='black',lw=3)\n",
    "# axes.set_ylim(-48,30)\n",
    "axes.set_ylabel('Perc. Ch. % \\n From Baseline')\n",
    "axes.xaxis.set_ticklabels(['','Gender \\n DPR (↑)', 'Marit. Status \\n DPR (↑)','Age \\n DPR (↑)','Gender \\n AOD (↓)', 'Marit. Status \\n AOD (↓)','Age \\n AOD (↓)'])\n",
    "# axes.legend()\n",
    "axes.legend(bbox_to_anchor=(1., 1.05))\n",
    "# axes.get_legend().remove()\n",
    "##\n",
    "file_name = 'global_comparisontoTaka.jpg'\n",
    "fig.savefig(folder+\"data\\\\results\\\\global\\\\\"+file_name, dpi=300)\n",
    "plt.show()"
   ]
  },
  {
   "cell_type": "markdown",
   "id": "2c34c635-e79a-4b38-a5d0-642a97b0135a",
   "metadata": {},
   "source": [
    "# Personalized Models"
   ]
  },
  {
   "cell_type": "markdown",
   "id": "84a3032a-f215-4fa3-beaf-8b75a6f2d7f0",
   "metadata": {},
   "source": [
    "## Labels_Unfair"
   ]
  },
  {
   "cell_type": "code",
   "execution_count": null,
   "id": "02c104af-d7da-4bbc-aad7-7464abe07902",
   "metadata": {},
   "outputs": [],
   "source": [
    "df_group = pd.read_csv(folder+'data\\\\results\\\\personalized\\\\Labels_Unfair\\\\group_fairness_personalized-Labels_Unfair_with_cma.csv', delimiter=',')\n",
    "df_indiv = pd.read_csv(folder+'data\\\\results\\\\personalized\\\\Labels_Unfair\\\\individual_fairness_personalized-Labels_Unfair_with_cma.csv', delimiter=',')\n",
    "df_acc = pd.read_csv(folder+'data\\\\results\\\\personalized\\\\Labels_Unfair\\\\accuracy_personalized-Labels_Unfair_with_cma.csv', delimiter=',')\n",
    "\n",
    "perc_change_df,cma_perc_change_df_lu = get_percentage_change_IML(df_group, \n",
    "                                                                 group_fair, \n",
    "                                                                 df_indiv, \n",
    "                                                                 indiv_fair, \n",
    "                                                                 sensitive_attrs, \n",
    "                                                                 fs)\n",
    "# perc_change_df.to_csv(folder+\"data\\\\results\\\\personalized\\\\Labels_Unfair\\\\perc_change_personalized-Labels_Unfair_raw.csv\", index=False)\n",
    "cma_perc_change_df_lu.to_csv(folder+\"data\\\\results\\\\personalized\\\\Labels_Unfair\\\\perc_change_personalized-Labels_Unfair_cma.csv\", index=False)\n",
    "\n",
    "p_ids = perc_change_df['participant_id'].tolist()"
   ]
  },
  {
   "cell_type": "markdown",
   "id": "3adf7366-50ee-471e-ab38-0167338d67d6",
   "metadata": {},
   "source": [
    "### Mean perc change of all personalized models"
   ]
  },
  {
   "cell_type": "code",
   "execution_count": null,
   "id": "cc95769c-7fb6-4212-a168-3649d6b828a8",
   "metadata": {},
   "outputs": [],
   "source": [
    "## get last cma point for each participant and then mean across participants\n",
    "subdata=df_group[df_group['participant_id'].isin(df_group['participant_id'].unique()[1:].tolist())]\n",
    "subdata=subdata[['Feature','iteration','participant_id','CMA_DemographicParityRatio','CMA_AverageOddsDifference']]\n",
    "subdata=subdata[subdata['Feature'].isin(['AGE','CODE_GENDER','NAME_FAMILY_STATUS'])]\n",
    "parts = subdata['participant_id'].unique().tolist()\n",
    "df_part_data = pd.DataFrame()\n",
    "for part in parts:\n",
    "    part_data = subdata[subdata['participant_id']==part]\n",
    "    last_iter = part_data['iteration'].unique().tolist()[-1]\n",
    "    part_data_last_it = part_data[part_data['iteration']==last_iter]\n",
    "    df_part_data = pd.concat([df_part_data,part_data_last_it])\n",
    "df_part_data['CMA_counterfactual'] = [None]*len(df_part_data)\n",
    "for idx in df_part_data.index:\n",
    "    feat = df_part_data.loc[idx]['Feature']\n",
    "    p_id = df_part_data.loc[idx]['participant_id']\n",
    "    it = df_part_data.loc[idx]['iteration']\n",
    "    sub_data = df_indiv[df_indiv['participant_id']==p_id]\n",
    "    sub_data = sub_data[sub_data['iteration']==it]\n",
    "    cf = sub_data['CMA_counterfactual_'+feat]\n",
    "    df_part_data.at[idx,'CMA_counterfactual']=cf.tolist()[0]\n",
    "print(df_part_data.groupby('Feature')[['CMA_DemographicParityRatio','CMA_AverageOddsDifference','CMA_counterfactual']].mean())\n",
    "\n",
    "## baseline\n",
    "baseline = df_group[df_group['participant_id'].isnull()]\n",
    "baseline = baseline[baseline['Feature'].isin(['AGE','CODE_GENDER','NAME_FAMILY_STATUS'])]\n",
    "baseline = baseline[['Feature','DemographicParityRatio','AverageOddsDifference']]\n",
    "\n",
    "baseline_cf = df_indiv[df_indiv['participant_id'].isnull()]\n",
    "baseline['CMA_counterfactual'] = [baseline_cf['counterfactual_AGE'].tolist()[0],\n",
    "                                  baseline_cf['counterfactual_CODE_GENDER'].tolist()[0],\n",
    "                                  baseline_cf['counterfactual_NAME_FAMILY_STATUS'].tolist()[0]]\n",
    "##\n",
    "pc_dpr_gender = ((df_part_data[df_part_data['Feature']=='CODE_GENDER']['CMA_DemographicParityRatio'].mean() - baseline[baseline['Feature']=='CODE_GENDER']['DemographicParityRatio'].tolist()[0])/baseline[baseline['Feature']=='CODE_GENDER']['DemographicParityRatio'].tolist()[0])*100\n",
    "pc_dpr_maritstat = ((df_part_data[df_part_data['Feature']=='NAME_FAMILY_STATUS']['CMA_DemographicParityRatio'].mean() - baseline[baseline['Feature']=='NAME_FAMILY_STATUS']['DemographicParityRatio'].tolist()[0])/baseline[baseline['Feature']=='NAME_FAMILY_STATUS']['DemographicParityRatio'].tolist()[0])*100\n",
    "pc_dpr_age = ((df_part_data[df_part_data['Feature']=='AGE']['CMA_DemographicParityRatio'].mean() - baseline[baseline['Feature']=='AGE']['DemographicParityRatio'].tolist()[0])/baseline[baseline['Feature']=='AGE']['DemographicParityRatio'].tolist()[0])*100\n",
    "\n",
    "pc_aod_gender = ((df_part_data[df_part_data['Feature']=='CODE_GENDER']['CMA_AverageOddsDifference'].mean() - baseline[baseline['Feature']=='CODE_GENDER']['AverageOddsDifference'].tolist()[0])/baseline[baseline['Feature']=='CODE_GENDER']['AverageOddsDifference'].tolist()[0])*100\n",
    "pc_aod_maritstat = ((df_part_data[df_part_data['Feature']=='NAME_FAMILY_STATUS']['CMA_AverageOddsDifference'].mean() - baseline[baseline['Feature']=='NAME_FAMILY_STATUS']['AverageOddsDifference'].tolist()[0])/baseline[baseline['Feature']=='NAME_FAMILY_STATUS']['AverageOddsDifference'].tolist()[0])*100\n",
    "pc_aod_age = ((df_part_data[df_part_data['Feature']=='AGE']['CMA_AverageOddsDifference'].mean() - baseline[baseline['Feature']=='AGE']['AverageOddsDifference'].tolist()[0])/baseline[baseline['Feature']=='AGE']['AverageOddsDifference'].tolist()[0])*100\n",
    "\n",
    "pc_cf_gender = ((df_part_data[df_part_data['Feature']=='CODE_GENDER']['CMA_counterfactual'].mean() - baseline[baseline['Feature']=='CODE_GENDER']['CMA_counterfactual'].tolist()[0])/baseline[baseline['Feature']=='CODE_GENDER']['CMA_counterfactual'].tolist()[0])*100\n",
    "pc_cf_maritstat = ((df_part_data[df_part_data['Feature']=='NAME_FAMILY_STATUS']['CMA_counterfactual'].mean() - baseline[baseline['Feature']=='NAME_FAMILY_STATUS']['CMA_counterfactual'].tolist()[0])/baseline[baseline['Feature']=='NAME_FAMILY_STATUS']['CMA_counterfactual'].tolist()[0])*100\n",
    "pc_cf_age = ((df_part_data[df_part_data['Feature']=='AGE']['CMA_counterfactual'].mean() - baseline[baseline['Feature']=='AGE']['CMA_counterfactual'].tolist()[0])/baseline[baseline['Feature']=='AGE']['CMA_counterfactual'].tolist()[0])*100\n",
    "\n",
    "print('DPR GENDER', pc_dpr_gender, 'DPR Marit Stat', pc_dpr_maritstat, 'DPR AGE', pc_dpr_age, \n",
    "      'AOD GENDER', pc_aod_gender, 'AOD Marit Stat', pc_aod_maritstat, 'AOD AGE', pc_aod_age,\n",
    "     'CF GENDER', pc_cf_gender, 'CF Marit Stat', pc_cf_maritstat, 'CF AGE', pc_cf_age)"
   ]
  },
  {
   "cell_type": "markdown",
   "id": "a1492a59-6f30-462e-ab48-987a7c9594ef",
   "metadata": {
    "jp-MarkdownHeadingCollapsed": true
   },
   "source": [
    "### Cluster participants based on perc. change of group fairness measured at last iteration of CMA"
   ]
  },
  {
   "cell_type": "code",
   "execution_count": null,
   "id": "6c095068-fe41-4b63-919b-b9a8c19bf9d5",
   "metadata": {},
   "outputs": [],
   "source": [
    "## df to array - keep only group fairness for clustering\n",
    "clustered_data = []\n",
    "for i in cma_perc_change_df_lu.index:\n",
    "    clustered_data.append(cma_perc_change_df_lu.loc[i].tolist()[0:6])\n",
    "metric = 'mean'"
   ]
  },
  {
   "cell_type": "code",
   "execution_count": null,
   "id": "29ecdab4-c03a-4951-b082-b84ca4f6f0a9",
   "metadata": {},
   "outputs": [],
   "source": [
    "## Search for optimal number of clusters\n",
    "# candidate values for our number of cluster\n",
    "parameters = [2, 3, 4, 5, 6, 7, 8, 9, 10, 15, 20, 25, 30, 35, 40, 45]\n",
    "silhouette_scores, best_score, best_grid = k_means_optimize_parameter(clustered_data, parameters, metric)\n",
    "plot_silhouette_scores(silhouette_scores, parameters)"
   ]
  },
  {
   "cell_type": "code",
   "execution_count": null,
   "id": "7f679007-ae0e-4622-a7e6-c8002cb3e00b",
   "metadata": {},
   "outputs": [],
   "source": [
    "from sklearn import datasets\n",
    "from sklearn.cluster import KMeans\n",
    "import matplotlib.pyplot as plt\n",
    "from yellowbrick.cluster import SilhouetteVisualizer\n",
    "  \n",
    "fig, ax = plt.subplots(3, 2, figsize=(15,8))\n",
    "for i in [2, 3, 4, 5, 6, 7]:\n",
    "    '''\n",
    "    Create KMeans instance for different number of clusters\n",
    "    '''\n",
    "    km = KMeans(n_clusters=i, init='k-means++', random_state=13, n_init='auto')\n",
    "    q, mod = divmod(i, 2)\n",
    "    '''\n",
    "    Create SilhouetteVisualizer instance with KMeans instance\n",
    "    Fit the visualizer\n",
    "    '''\n",
    "    visualizer = SilhouetteVisualizer(km, colors='yellowbrick', ax=ax[q-1][mod])\n",
    "    visualizer.fit(np.array(clustered_data)) "
   ]
  },
  {
   "cell_type": "code",
   "execution_count": null,
   "id": "af36c0ac-99cf-44f4-a0d5-dda4e60f5749",
   "metadata": {},
   "outputs": [],
   "source": [
    "from sklearn.cluster import KMeans\n",
    "from sklearn.datasets import make_blobs\n",
    "\n",
    "from yellowbrick.cluster import KElbowVisualizer\n",
    "# Instantiate the clustering model and visualizer\n",
    "model = KMeans()\n",
    "visualizer = KElbowVisualizer(model, k=(2,15))\n",
    "\n",
    "visualizer.fit(np.array(clustered_data))        # Fit the data to the visualizer\n",
    "visualizer.show()        # Finalize and render the figure"
   ]
  },
  {
   "cell_type": "code",
   "execution_count": null,
   "id": "f0070540-1b86-476b-80eb-8c047ed136b2",
   "metadata": {
    "scrolled": true
   },
   "outputs": [],
   "source": [
    "nc = 2\n",
    "cluster_ids, cluster_centroids, array_of_vectors_pca = k_means_pca(clustered_data, nc, metric, n_components=2)\n",
    "colors = ['r','g','b','orange','purple', 'y','cyan','magenta','tab:blue']\n",
    "plot_clusters(array_of_vectors_pca, cluster_ids, colors)\n",
    "##\n",
    "cluster_p_id_dict = {}\n",
    "for i, cl_id in enumerate(cluster_ids):\n",
    "    color = 'cluster_'+str(cl_id)\n",
    "    if color not in cluster_p_id_dict:\n",
    "        cluster_p_id_dict[color] = []\n",
    "    cluster_p_id_dict[color].append((i, p_ids[i]))\n",
    "cluster_p_id_dict"
   ]
  },
  {
   "cell_type": "code",
   "execution_count": null,
   "id": "a4a0a5d5-8b90-4546-bd16-3bbed1e3df65",
   "metadata": {
    "scrolled": true
   },
   "outputs": [],
   "source": [
    "clustered_data_df = cma_perc_change_df_lu.copy(deep=True)\n",
    "# clustered_data_df.drop(columns=['consistency_10','theil_index'],inplace=True)\n",
    "clustered_data_df['cluster_id'] = cluster_ids\n",
    "# for i,centroid in enumerate(cluster_centroids):\n",
    "#     centroid = centroid.tolist()\n",
    "#     centroid.append('centroid')\n",
    "#     centroid.append(i)\n",
    "#     clustered_data_df.loc[58+i] = centroid\n",
    "# clustered_data_df.to_csv(folder+\"data\\\\results\\\\personalized\\\\Labels_Unfair\\\\clustering\\\\\"+\"perc_change_personalized-Labels_Unfair_clustering_cma_group.csv\", index=False)"
   ]
  },
  {
   "cell_type": "code",
   "execution_count": null,
   "id": "dd2299e4-f86d-431f-8e43-b77eebbaa72f",
   "metadata": {},
   "outputs": [],
   "source": [
    "for cl in cluster_p_id_dict:\n",
    "    print(cl,len(cluster_p_id_dict[cl]))"
   ]
  },
  {
   "cell_type": "markdown",
   "id": "5f4a286e-e65e-4aff-a09b-b8ba2daa5852",
   "metadata": {},
   "source": [
    "#### Line plots per cluster"
   ]
  },
  {
   "cell_type": "code",
   "execution_count": null,
   "id": "f0bec372-2f8f-4f4f-9dd5-f7b4d1703bf2",
   "metadata": {
    "scrolled": true
   },
   "outputs": [],
   "source": [
    "for cl in cluster_p_id_dict:\n",
    "    title = 'personalized-Labels_Unfair_Clustering_CMA_Group_{}'.format(cl)\n",
    "    filename = 'lineGraphs_personalized-Labels_Unfair_Clustering_CMA_Group_{}'.format(cl)\n",
    "    image_type = '.jpeg'\n",
    "    colors = ['r','g','b','orange','purple', 'y','cyan','magenta','tab:blue']\n",
    "    cl_participants = [p_id[1] for p_id in cluster_p_id_dict[cl]]\n",
    "    cl_participants.append(np.nan)\n",
    "    print(cl, cl_participants)\n",
    "    joint_plot_all_participants(title, \n",
    "                                folder+\"data\\\\results\\\\personalized\\\\Labels_Unfair\\\\clustering\\\\\", \n",
    "                                filename, \n",
    "                                image_type, \n",
    "                                ['CODE_GENDER','NAME_FAMILY_STATUS','AGE'], \n",
    "                                group_fair, group_fair_codes, \n",
    "                                fs, \n",
    "                                df_group.loc[df_group['participant_id'].isin(cl_participants)],  \n",
    "                                df_acc.loc[df_acc['participant_id'].isin(cl_participants)], \n",
    "                                colors, True, True)"
   ]
  },
  {
   "cell_type": "markdown",
   "id": "1172f19a-c64c-44be-bf0a-283a530de72b",
   "metadata": {},
   "source": [
    "#### Perc. change graphs per cluster"
   ]
  },
  {
   "cell_type": "code",
   "execution_count": null,
   "id": "2f0defcf-4e7c-45af-b4e4-3f9383b718d7",
   "metadata": {
    "scrolled": true
   },
   "outputs": [],
   "source": [
    "## plot all fairness metrics\n",
    "perc_ch_df = cma_perc_change_df_lu\n",
    "cluster_df = clustered_data_df\n",
    "title = 'personalized-Labels_Unfair Cluster {}'\n",
    "file_name = 'percChange_Graphs_personalized-Labels_Unfair_Clustering_CMA_Group_cl{}.jpg'\n",
    "##\n",
    "attrs  = ['CODE_GENDER','NAME_FAMILY_STATUS','AGE']\n",
    "attrs_codes = ['Gender','Marit. Stat.','Age']\n",
    "group_f = ['DemographicParityRatio', 'AverageOddsDifference']\n",
    "group_fair_cod = ['DPR (↑)','AOD (↓)']\n",
    "\n",
    "perc_change_plots_per_cluster(perc_ch_df, \n",
    "                              cluster_df, \n",
    "                              title, \n",
    "                              file_name, \n",
    "                              folder+\"data\\\\results\\\\personalized\\\\Labels_Unfair\\\\clustering\\\\\", \n",
    "                              attrs, attrs_codes, \n",
    "                              group_f, group_fair_cod)"
   ]
  },
  {
   "cell_type": "markdown",
   "id": "23a5133f-9683-4d95-a7ec-e20357341b95",
   "metadata": {},
   "source": [
    "#### Parallel Coordinate Graph"
   ]
  },
  {
   "cell_type": "code",
   "execution_count": null,
   "id": "6744c5b3-7526-4b93-8d71-dcfaebd14585",
   "metadata": {},
   "outputs": [],
   "source": [
    "cma_subset = cma_perc_change_df_lu[['CODE_GENDER_DemographicParityRatio',\n",
    "                                    'NAME_FAMILY_STATUS_DemographicParityRatio',\n",
    "                                    'AGE_DemographicParityRatio',\n",
    "                                    'CODE_GENDER_AverageOddsDifference',\n",
    "                                    'NAME_FAMILY_STATUS_AverageOddsDifference',\n",
    "                                    'AGE_AverageOddsDifference']]\n",
    "cma_subset['class'] = ['cluster '+str(cid) for cid in cluster_ids]"
   ]
  },
  {
   "cell_type": "code",
   "execution_count": null,
   "id": "06f80e5b-4966-4649-8f3d-a7e8393a32ff",
   "metadata": {},
   "outputs": [],
   "source": [
    "import pandas\n",
    "import matplotlib.pyplot as plt\n",
    "from pandas.plotting import parallel_coordinates\n",
    "\n",
    "fig, axes = plt.subplots(1, 1, figsize=(9, 5), layout=\"constrained\")\n",
    "fig.suptitle('personalized-Labels_Unfair')\n",
    "# Make the plot\n",
    "ax = parallel_coordinates(cma_subset, 'class', \n",
    "                          color=['tab:orange','tab:green','tab:blue','tab:red','tab:purple','tab:gray'],\n",
    "                          ax=axes,lw=0.5)\n",
    "ax.plot([0,1,2,3,4,5],[0,0,0,0,0,0], color='black',lw=3)\n",
    "axes.set_ylabel('Perc. Ch. %')\n",
    "axes.xaxis.set_ticklabels(['Gender \\n DPR (↑)', 'Marit. Status \\n DPR (↑)','Age \\n DPR (↑)','Gender \\n AOD (↓)', 'Marit. Status \\n AOD (↓)','Age \\n AOD (↓)'])\n",
    "axes.legend(loc='upper left') \n",
    "##\n",
    "file_name = 'parallelCoordGraph_personalized-Labels_Unfair_Clustering_CMA.jpg'\n",
    "fig.savefig(folder+\"data\\\\results\\\\personalized\\\\Labels_Unfair\\\\clustering\\\\\"+file_name, dpi=300)\n",
    "plt.show()"
   ]
  },
  {
   "cell_type": "markdown",
   "id": "b8f40dbc-6b25-4a80-ac2b-35771ae5f88a",
   "metadata": {},
   "source": [
    "### Perc. change plot of all participants"
   ]
  },
  {
   "cell_type": "code",
   "execution_count": null,
   "id": "9e0c30ee-e5a5-43f6-9493-6fbc0e858f81",
   "metadata": {},
   "outputs": [],
   "source": [
    "## plot perc. change plot for DPR and AOD\n",
    "parts = cma_perc_change_df_lu[cma_perc_change_df_lu['NAME_FAMILY_STATUS_DemographicParityRatio']>0]['participant_id'].tolist()\n",
    "colors = ['orange' if cma_perc_change_df_lu.loc[idx]['participant_id'] in parts else 'green' for idx in cma_perc_change_df_lu.index]\n",
    "perc_ch_df = cma_perc_change_df_lu.copy()\n",
    "perc_ch_df['color'] = colors\n",
    "title = 'Personalized-Labels_Unfair'\n",
    "file_name = 'percChange_Graphs_personalized-Labels_Unfair.jpg'\n",
    "attrs  = ['CODE_GENDER','NAME_FAMILY_STATUS','AGE']\n",
    "attrs_codes = ['Gender','Marit. Stat.','Age']\n",
    "group_f = ['DemographicParityRatio','AverageOddsDifference','counterfactual']\n",
    "group_fair_cod = ['DPR (↑)','AOD (↓)', 'CF (↑)']\n",
    "\n",
    "perc_change_plots(perc_ch_df, \n",
    "                  title, \n",
    "                  file_name, \n",
    "                  folder+\"data\\\\results\\\\personalized\\\\Labels_Unfair\\\\figures\\\\\", \n",
    "                  attrs, attrs_codes, \n",
    "                  group_f, group_fair_cod)"
   ]
  },
  {
   "cell_type": "markdown",
   "id": "7c947013-9919-4e57-9c73-80520c79e308",
   "metadata": {},
   "source": [
    "#### Parallel Coordinate"
   ]
  },
  {
   "cell_type": "code",
   "execution_count": null,
   "id": "25bb2544-e712-4203-b80e-e3e30047f17b",
   "metadata": {},
   "outputs": [],
   "source": [
    "import pandas\n",
    "import matplotlib.pyplot as plt\n",
    "from pandas.plotting import parallel_coordinates\n",
    "\n",
    "cma_subset = cma_perc_change_df_lu[['CODE_GENDER_DemographicParityRatio','NAME_FAMILY_STATUS_DemographicParityRatio','AGE_DemographicParityRatio','CODE_GENDER_AverageOddsDifference','NAME_FAMILY_STATUS_AverageOddsDifference','AGE_AverageOddsDifference']]\n",
    "# cma_subset['class'] = [0]*len(cma_perc_change_df_lu)\n",
    "parts = cma_perc_change_df_lu[cma_perc_change_df_lu['NAME_FAMILY_STATUS_DemographicParityRatio']>0]['participant_id'].tolist()\n",
    "cma_subset['class']  = [0 if cma_perc_change_df_lu.loc[idx]['participant_id'] in parts else 'green' for idx in cma_perc_change_df_lu.index]\n",
    "\n",
    "matplotlib.rcParams.update({'font.size': 22})\n",
    "fig, axes = plt.subplots(1, 1, figsize=(12, 5), layout=\"constrained\")\n",
    "fig.suptitle('Personalized-Labels_Unfair')\n",
    "# Make the plot\n",
    "ax = parallel_coordinates(cma_subset, 'class', color=['green','orange'],ax=axes,lw=1)\n",
    "ax.plot([0,1,2,3,4,5],[0,0,0,0,0,0], color='black',lw=3)\n",
    "axes.set_ylim(-48,30)\n",
    "axes.set_ylabel('Perc. Ch. % \\n From Baseline')\n",
    "axes.xaxis.set_ticklabels(['Gender \\n DPR (↑)', 'Marit. Status \\n DPR (↑)','Age \\n DPR (↑)','Gender \\n AOD (↓)', 'Marit. Status \\n AOD (↓)','Age \\n AOD (↓)'])\n",
    "axes.get_legend().remove()\n",
    "##\n",
    "file_name = 'parallelCoordGraph_personalized-Labels_Unfair_CMA.jpg'\n",
    "fig.savefig(folder+\"data\\\\results\\\\personalized\\\\Labels_Unfair\\\\figures\\\\\"+file_name, dpi=300)\n",
    "plt.show()"
   ]
  },
  {
   "cell_type": "code",
   "execution_count": null,
   "id": "792e7f4e-7549-4eb0-928b-9d48c5860eb6",
   "metadata": {},
   "outputs": [],
   "source": [
    "import seaborn as sns\n",
    "df_cma_subset = cma_subset.loc[:,~cma_subset.columns.isin(['class'])]\n",
    "df_cma_subset = df_cma_subset.rename(columns={'CODE_GENDER_DemographicParityRatio':'Gender \\n DPR (↑)',\n",
    "                              'NAME_FAMILY_STATUS_DemographicParityRatio':'Marit. Status \\n DPR (↑)',\n",
    "                              'AGE_DemographicParityRatio':'Age \\n DPR (↑)',\n",
    "                              'CODE_GENDER_AverageOddsDifference':'Gender \\n AOD (↓)',\n",
    "                              'NAME_FAMILY_STATUS_AverageOddsDifference':'Marit. Status \\n AOD (↓)',\n",
    "                              'AGE_AverageOddsDifference':'Age \\n AOD (↓)'})\n",
    "\n",
    "sns.pairplot(df_cma_subset,  corner=True)"
   ]
  },
  {
   "cell_type": "markdown",
   "id": "bbf79cd7-affb-4eea-a01b-62bf5c7885b5",
   "metadata": {},
   "source": [
    "### Line (Raw and CMA) plots"
   ]
  },
  {
   "cell_type": "markdown",
   "id": "aea364d1-a455-47f8-bf10-59ebb2124604",
   "metadata": {},
   "source": [
    "#### Joint plots for all participants"
   ]
  },
  {
   "cell_type": "code",
   "execution_count": null,
   "id": "ee281d5d-e256-4f7b-ae1b-ed654ab97a0d",
   "metadata": {
    "scrolled": true,
    "tags": []
   },
   "outputs": [],
   "source": [
    "title = 'Personalized-Labels_Unfair_all'\n",
    "image_type = '.jpeg'\n",
    "filename = 'all_participants'\n",
    "joint_plot_all_participants(title, \n",
    "                            folder+\"data\\\\results\\\\personalized\\\\Labels_Unfair\\\\figures\\\\\", \n",
    "                            filename, \n",
    "                            image_type, \n",
    "                            ['CODE_GENDER','NAME_FAMILY_STATUS','AGE'], \n",
    "                            group_fair, group_fair_codes, \n",
    "                            fs, \n",
    "                            df_group, df_acc, \n",
    "                            colors, True, True)"
   ]
  },
  {
   "cell_type": "markdown",
   "id": "8055c62e-5db2-4f66-9891-56938eefde2d",
   "metadata": {},
   "source": [
    "#### Plots per participant"
   ]
  },
  {
   "cell_type": "code",
   "execution_count": null,
   "id": "e0fa8e6a-6bd4-43ef-adb9-163142915ec8",
   "metadata": {
    "scrolled": true
   },
   "outputs": [],
   "source": [
    "title = 'Personalized-Labels_Unfair_{}'\n",
    "image_type = '.jpeg'\n",
    "plots_per_participant(title, \n",
    "                      folder+\"data\\\\results\\\\personalized\\\\Labels_Unfair\\\\figures\\\\\", \n",
    "                      image_type, \n",
    "                      ['CODE_GENDER','NAME_FAMILY_STATUS','AGE'], \n",
    "                      group_fair, group_fair_codes, \n",
    "                      fs, \n",
    "                      df_group, df_acc, \n",
    "                      colors, True)"
   ]
  },
  {
   "cell_type": "markdown",
   "id": "39ea0a0f-83f7-4d23-94fd-e3c8fe3982cf",
   "metadata": {},
   "source": [
    "#### Line graphs for DPR and AOD and 3 protected attributes for participant 608aa18a3c2dfd212a1a77a9 (personalized-Labels_Unfair)"
   ]
  },
  {
   "cell_type": "code",
   "execution_count": null,
   "id": "bea24644-664c-4fbd-a2d6-ab754580f014",
   "metadata": {},
   "outputs": [],
   "source": [
    "group_f = ['DemographicParityRatio','AverageOddsDifference']\n",
    "group_fair_cod = ['DPR','AOD']\n",
    "indiv_f = []\n",
    "title = 'Personalized-Labels_Unfair_{}'\n",
    "folder = ''\n",
    "image_type = '.pdf'\n",
    "line_graphs_of_participant(title, \n",
    "                           folder+\"data\\\\results\\\\personalized\\\\Labels_Unfair\\\\figures\\\\\", \n",
    "                           image_type, \n",
    "                      ['CODE_GENDER','NAME_FAMILY_STATUS','AGE'], \n",
    "                      group_f, group_fair_cod, \n",
    "                      fs, \n",
    "                      df_group, df_acc, \n",
    "                      colors, True, '608aa18a3c2dfd212a1a77a9')"
   ]
  },
  {
   "cell_type": "markdown",
   "id": "8bec0f90-ee7a-44e9-94e2-be92a788e683",
   "metadata": {},
   "source": [
    "## Labels_Unfair+Weights ('unfair')"
   ]
  },
  {
   "cell_type": "code",
   "execution_count": null,
   "id": "d349a41d-1c2f-4b59-bc22-df1e549c9fcb",
   "metadata": {},
   "outputs": [],
   "source": [
    "df_group = pd.read_csv(folder+'data\\\\results\\\\personalized\\\\Labels_Unfair+Weights\\\\group_fairness_personalized-Labels_Unfair+Weights_with_cma.csv', delimiter=',')\n",
    "df_indiv = pd.read_csv(folder+'data\\\\results\\\\personalized\\\\Labels_Unfair+Weights\\\\individual_fairness_personalized-Labels_Unfair+Weights_with_cma.csv', delimiter=',')\n",
    "df_acc = pd.read_csv(folder+'data\\\\results\\\\personalized\\\\Labels_Unfair+Weights\\\\accuracy_personalized-Labels_Unfair+Weights_with_cma.csv', delimiter=',')\n",
    "\n",
    "perc_change_df,cma_perc_change_df_lw = get_percentage_change_IML(df_group, \n",
    "                                                                 group_fair, \n",
    "                                                                 df_indiv, \n",
    "                                                                 indiv_fair, \n",
    "                                                                 sensitive_attrs, \n",
    "                                                                 fs)\n",
    "# perc_change_df.to_csv(folder+\"data\\\\results\\\\personalized\\\\Labels_Unfair+Weights\\\\perc_change_personalized-Labels_Unfair+Weights_raw.csv\", index=False)\n",
    "# cma_perc_change_df_lw.to_csv(folder+\"data\\\\results\\\\personalized\\\\Labels_Unfair+Weights\\\\perc_change_personalized-Labels_Unfair+Weights_cma.csv\", index=False)\n",
    "\n",
    "p_ids = perc_change_df['participant_id'].tolist()"
   ]
  },
  {
   "cell_type": "markdown",
   "id": "47cdbd70-1113-451b-9b88-42dcc762df6b",
   "metadata": {
    "jp-MarkdownHeadingCollapsed": true
   },
   "source": [
    "### Mean perc change of all personalized models"
   ]
  },
  {
   "cell_type": "code",
   "execution_count": null,
   "id": "dee8bbe5-e841-4514-a94f-851336530d81",
   "metadata": {},
   "outputs": [],
   "source": [
    "## get last cma point for each participant and then mean across participants\n",
    "subdata=df_group[df_group['participant_id'].isin(df_group['participant_id'].unique()[1:].tolist())]\n",
    "subdata=subdata[['Feature','iteration','participant_id','CMA_DemographicParityRatio','CMA_AverageOddsDifference']]\n",
    "subdata=subdata[subdata['Feature'].isin(['AGE','CODE_GENDER','NAME_FAMILY_STATUS'])]\n",
    "parts = subdata['participant_id'].unique().tolist()\n",
    "df_part_data = pd.DataFrame()\n",
    "for part in parts:\n",
    "    part_data = subdata[subdata['participant_id']==part]\n",
    "    last_iter = part_data['iteration'].unique().tolist()[-1]\n",
    "    part_data_last_it = part_data[part_data['iteration']==last_iter]\n",
    "    df_part_data = pd.concat([df_part_data,part_data_last_it])\n",
    "df_part_data['CMA_counterfactual'] = [None]*len(df_part_data)\n",
    "for idx in df_part_data.index:\n",
    "    feat = df_part_data.loc[idx]['Feature']\n",
    "    p_id = df_part_data.loc[idx]['participant_id']\n",
    "    it = df_part_data.loc[idx]['iteration']\n",
    "    sub_data = df_indiv[df_indiv['participant_id']==p_id]\n",
    "    sub_data = sub_data[sub_data['iteration']==it]\n",
    "    cf = sub_data['CMA_counterfactual_'+feat]\n",
    "    df_part_data.at[idx,'CMA_counterfactual']=cf.tolist()[0]\n",
    "print(df_part_data.groupby('Feature')[['CMA_DemographicParityRatio','CMA_AverageOddsDifference','CMA_counterfactual']].mean())\n",
    "\n",
    "## baseline\n",
    "baseline = df_group[df_group['participant_id'].isnull()]\n",
    "baseline = baseline[baseline['Feature'].isin(['AGE','CODE_GENDER','NAME_FAMILY_STATUS'])]\n",
    "baseline = baseline[['Feature','DemographicParityRatio','AverageOddsDifference']]\n",
    "\n",
    "baseline_cf = df_indiv[df_indiv['participant_id'].isnull()]\n",
    "baseline['CMA_counterfactual'] = [baseline_cf['counterfactual_AGE'].tolist()[0],\n",
    "                                  baseline_cf['counterfactual_CODE_GENDER'].tolist()[0],\n",
    "                                  baseline_cf['counterfactual_NAME_FAMILY_STATUS'].tolist()[0]]\n",
    "##\n",
    "pc_dpr_gender = ((df_part_data[df_part_data['Feature']=='CODE_GENDER']['CMA_DemographicParityRatio'].mean() - baseline[baseline['Feature']=='CODE_GENDER']['DemographicParityRatio'].tolist()[0])/baseline[baseline['Feature']=='CODE_GENDER']['DemographicParityRatio'].tolist()[0])*100\n",
    "pc_dpr_maritstat = ((df_part_data[df_part_data['Feature']=='NAME_FAMILY_STATUS']['CMA_DemographicParityRatio'].mean() - baseline[baseline['Feature']=='NAME_FAMILY_STATUS']['DemographicParityRatio'].tolist()[0])/baseline[baseline['Feature']=='NAME_FAMILY_STATUS']['DemographicParityRatio'].tolist()[0])*100\n",
    "pc_dpr_age = ((df_part_data[df_part_data['Feature']=='AGE']['CMA_DemographicParityRatio'].mean() - baseline[baseline['Feature']=='AGE']['DemographicParityRatio'].tolist()[0])/baseline[baseline['Feature']=='AGE']['DemographicParityRatio'].tolist()[0])*100\n",
    "\n",
    "pc_aod_gender = ((df_part_data[df_part_data['Feature']=='CODE_GENDER']['CMA_AverageOddsDifference'].mean() - baseline[baseline['Feature']=='CODE_GENDER']['AverageOddsDifference'].tolist()[0])/baseline[baseline['Feature']=='CODE_GENDER']['AverageOddsDifference'].tolist()[0])*100\n",
    "pc_aod_maritstat = ((df_part_data[df_part_data['Feature']=='NAME_FAMILY_STATUS']['CMA_AverageOddsDifference'].mean() - baseline[baseline['Feature']=='NAME_FAMILY_STATUS']['AverageOddsDifference'].tolist()[0])/baseline[baseline['Feature']=='NAME_FAMILY_STATUS']['AverageOddsDifference'].tolist()[0])*100\n",
    "pc_aod_age = ((df_part_data[df_part_data['Feature']=='AGE']['CMA_AverageOddsDifference'].mean() - baseline[baseline['Feature']=='AGE']['AverageOddsDifference'].tolist()[0])/baseline[baseline['Feature']=='AGE']['AverageOddsDifference'].tolist()[0])*100\n",
    "\n",
    "pc_cf_gender = ((df_part_data[df_part_data['Feature']=='CODE_GENDER']['CMA_counterfactual'].mean() - baseline[baseline['Feature']=='CODE_GENDER']['CMA_counterfactual'].tolist()[0])/baseline[baseline['Feature']=='CODE_GENDER']['CMA_counterfactual'].tolist()[0])*100\n",
    "pc_cf_maritstat = ((df_part_data[df_part_data['Feature']=='NAME_FAMILY_STATUS']['CMA_counterfactual'].mean() - baseline[baseline['Feature']=='NAME_FAMILY_STATUS']['CMA_counterfactual'].tolist()[0])/baseline[baseline['Feature']=='NAME_FAMILY_STATUS']['CMA_counterfactual'].tolist()[0])*100\n",
    "pc_cf_age = ((df_part_data[df_part_data['Feature']=='AGE']['CMA_counterfactual'].mean() - baseline[baseline['Feature']=='AGE']['CMA_counterfactual'].tolist()[0])/baseline[baseline['Feature']=='AGE']['CMA_counterfactual'].tolist()[0])*100\n",
    "\n",
    "print('DPR GENDER', pc_dpr_gender, 'DPR Marit Stat', pc_dpr_maritstat, 'DPR AGE', pc_dpr_age, \n",
    "      'AOD GENDER', pc_aod_gender, 'AOD Marit Stat', pc_aod_maritstat, 'AOD AGE', pc_aod_age,\n",
    "     'CF GENDER', pc_cf_gender, 'CF Marit Stat', pc_cf_maritstat, 'CF AGE', pc_cf_age)"
   ]
  },
  {
   "cell_type": "markdown",
   "id": "e08dc51c-928e-4400-8a84-7a78d0ac0222",
   "metadata": {
    "jp-MarkdownHeadingCollapsed": true
   },
   "source": [
    "### Cluster participants based on perc. change of group fairness measured at last iteration of CMA"
   ]
  },
  {
   "cell_type": "code",
   "execution_count": null,
   "id": "055d7954-a43d-4065-830a-74a530d39370",
   "metadata": {},
   "outputs": [],
   "source": [
    "## df to array - keep only group fairness for clustering\n",
    "clustered_data = []\n",
    "for i in cma_perc_change_df_lw.index:\n",
    "    clustered_data.append(cma_perc_change_df_lw.loc[i].tolist()[0:6])\n",
    "metric = 'mean'"
   ]
  },
  {
   "cell_type": "code",
   "execution_count": null,
   "id": "ed2af1b5-ed84-4961-b352-c1c70cd52549",
   "metadata": {},
   "outputs": [],
   "source": [
    "## Search for optimal number of clusters\n",
    "# candidate values for our number of cluster\n",
    "parameters = [2, 3, 4, 5, 6, 7, 8, 9, 10, 15, 20, 25, 30, 35, 40, 45]\n",
    "silhouette_scores, best_score, best_grid = k_means_optimize_parameter(clustered_data, parameters, metric)\n",
    "plot_silhouette_scores(silhouette_scores, parameters)"
   ]
  },
  {
   "cell_type": "code",
   "execution_count": null,
   "id": "e680014f-e973-45ac-a684-a41ef344127e",
   "metadata": {},
   "outputs": [],
   "source": [
    "from sklearn import datasets\n",
    "from sklearn.cluster import KMeans\n",
    "import matplotlib.pyplot as plt\n",
    "from yellowbrick.cluster import SilhouetteVisualizer\n",
    "  \n",
    "fig, ax = plt.subplots(3, 2, figsize=(15,8))\n",
    "for i in [2, 3, 4, 5, 6, 7]:\n",
    "    '''\n",
    "    Create KMeans instance for different number of clusters\n",
    "    '''\n",
    "    km = KMeans(n_clusters=i, init='k-means++', random_state=13, n_init='auto')\n",
    "    q, mod = divmod(i, 2)\n",
    "    '''\n",
    "    Create SilhouetteVisualizer instance with KMeans instance\n",
    "    Fit the visualizer\n",
    "    '''\n",
    "    visualizer = SilhouetteVisualizer(km, colors='yellowbrick', ax=ax[q-1][mod])\n",
    "    visualizer.fit(np.array(clustered_data)) "
   ]
  },
  {
   "cell_type": "code",
   "execution_count": null,
   "id": "025a14cd-49be-43c7-8b89-c0b877917d4b",
   "metadata": {},
   "outputs": [],
   "source": [
    "from sklearn.cluster import KMeans\n",
    "from sklearn.datasets import make_blobs\n",
    "\n",
    "from yellowbrick.cluster import KElbowVisualizer\n",
    "# Instantiate the clustering model and visualizer\n",
    "model = KMeans()\n",
    "visualizer = KElbowVisualizer(model, k=(2,15))\n",
    "\n",
    "visualizer.fit(np.array(clustered_data))        # Fit the data to the visualizer\n",
    "visualizer.show()        # Finalize and render the figure"
   ]
  },
  {
   "cell_type": "code",
   "execution_count": null,
   "id": "6dabde0e-5aae-4269-8ed2-fc7e4e6b80ca",
   "metadata": {
    "scrolled": true
   },
   "outputs": [],
   "source": [
    "nc = 2\n",
    "cluster_ids, cluster_centroids, array_of_vectors_pca = k_means_pca(clustered_data, nc, metric, n_components=2)\n",
    "colors = ['r','g','b','orange','purple', 'y','cyan','magenta','tab:blue']\n",
    "plot_clusters(array_of_vectors_pca, cluster_ids, colors)\n",
    "##\n",
    "cluster_p_id_dict = {}\n",
    "for i, cl_id in enumerate(cluster_ids):\n",
    "    color = 'cluster_'+str(cl_id)\n",
    "    if color not in cluster_p_id_dict:\n",
    "        cluster_p_id_dict[color] = []\n",
    "    cluster_p_id_dict[color].append((i, p_ids[i]))\n",
    "cluster_p_id_dict"
   ]
  },
  {
   "cell_type": "code",
   "execution_count": null,
   "id": "104ec325-f021-459d-8f88-d8fc47a2a544",
   "metadata": {},
   "outputs": [],
   "source": [
    "clustered_data_df = cma_perc_change_df_lw.copy(deep=True)\n",
    "# clustered_data_df.drop(columns=['consistency_10','theil_index'],inplace=True)\n",
    "clustered_data_df['cluster_id'] = cluster_ids\n",
    "# for i,centroid in enumerate(cluster_centroids):\n",
    "#     centroid = centroid.tolist()\n",
    "#     centroid.append('centroid')\n",
    "#     centroid.append(i)\n",
    "#     clustered_data_df.loc[len(clustered_data_df)-1+i] = centroid\n",
    "# clustered_data_df.to_csv(folder+\"data\\\\results\\\\personalized\\\\Labels+Weights\\\\clustering\\\\perc_change_personalized-Labels+Weights_clustering_cma_group.csv\", index=False)\n",
    "# # clustered_data_df.to_csv(folder+\"data\\\\results\\\\personalized\\\\Labels+Weights\\\\clustering\\\\perc_change_personalized-Labels+Weights_Fair+Unfair_clustering_cma_group+indiv.csv\", index=False)"
   ]
  },
  {
   "cell_type": "code",
   "execution_count": null,
   "id": "a6e2d4ef-fba5-4e4e-809a-9a26ebe0b523",
   "metadata": {},
   "outputs": [],
   "source": [
    "for cl in cluster_p_id_dict:\n",
    "    print(cl,len(cluster_p_id_dict[cl]))"
   ]
  },
  {
   "cell_type": "markdown",
   "id": "0eac2b3d-705a-400e-84ec-126f33d7ecec",
   "metadata": {},
   "source": [
    "#### Line plots per cluster"
   ]
  },
  {
   "cell_type": "code",
   "execution_count": null,
   "id": "c7c38465-5e9a-422c-8c7f-c5f3238662da",
   "metadata": {
    "scrolled": true
   },
   "outputs": [],
   "source": [
    "for cl in cluster_p_id_dict:\n",
    "    title = 'personalized-Labels+Weights_CMA_{}'.format(cl)\n",
    "    filename = cl\n",
    "    image_type = '.jpeg'\n",
    "    cl_participants = [p_id[1] for p_id in cluster_p_id_dict[cl]]\n",
    "    cl_participants.append(np.nan)\n",
    "    print(cl, cl_participants)\n",
    "    joint_plot_all_participants(title, \n",
    "                                folder+\"data\\\\results\\\\personalized\\\\Labels+Weights\\\\clustering\\\\\", \n",
    "                                filename, \n",
    "                                image_type, \n",
    "                                ['CODE_GENDER','NAME_FAMILY_STATUS','AGE'], \n",
    "                                group_fair, group_fair_codes, \n",
    "                                fs, \n",
    "                                df_group.loc[df_group['participant_id'].isin(cl_participants)], \n",
    "                                df_acc.loc[df_acc['participant_id'].isin(cl_participants)], \n",
    "                                colors, True, True)"
   ]
  },
  {
   "cell_type": "markdown",
   "id": "7a41ec5e-b37a-4981-aa2b-04c774942d37",
   "metadata": {},
   "source": [
    "#### Perc. change graphs per cluster"
   ]
  },
  {
   "cell_type": "code",
   "execution_count": null,
   "id": "9f38a3ff-3b50-4c6c-a71b-20fa9be61705",
   "metadata": {},
   "outputs": [],
   "source": [
    "## plot all fairness metrics\n",
    "perc_ch_df = cma_perc_change_df_lw\n",
    "cluster_df = clustered_data_df\n",
    "title = 'personalized-Labels+Weights Cluster {}'\n",
    "file_name = 'percChange_Graphs_personalized-Labels+Weights_Clustering_CMA_Group_cl{}.jpg'\n",
    "##\n",
    "attrs  = ['CODE_GENDER','NAME_FAMILY_STATUS','AGE']\n",
    "attrs_codes = ['Gender','Marit. Stat.','Age']\n",
    "group_f = ['DemographicParityRatio','AverageOddsDifference']\n",
    "group_fair_cod = ['DPR (↑)','AOD (↓)']\n",
    "\n",
    "perc_change_plots_per_cluster(perc_ch_df, \n",
    "                              cluster_df, \n",
    "                              title, \n",
    "                              file_name, \n",
    "                              folder+\"data\\\\results\\\\personalized\\\\Labels+Weights\\\\clustering\\\\\", \n",
    "                              attrs, attrs_codes, group_f, group_fair_cod)"
   ]
  },
  {
   "cell_type": "markdown",
   "id": "726c64ec-7545-4259-9cc2-7eb610823ee8",
   "metadata": {},
   "source": [
    "#### Parallel Coordinate Graph"
   ]
  },
  {
   "cell_type": "code",
   "execution_count": null,
   "id": "5f6979b3-3625-46ed-90f6-f833858ff809",
   "metadata": {},
   "outputs": [],
   "source": [
    "cma_subset = cma_perc_change_df_lw[['CODE_GENDER_DemographicParityRatio',\n",
    "                                    'NAME_FAMILY_STATUS_DemographicParityRatio',\n",
    "                                    'AGE_DemographicParityRatio',\n",
    "                                    'CODE_GENDER_AverageOddsDifference',\n",
    "                                    'NAME_FAMILY_STATUS_AverageOddsDifference',\n",
    "                                    'AGE_AverageOddsDifference']]\n",
    "cma_subset['class'] = ['cluster '+str(cid) for cid in cluster_ids]"
   ]
  },
  {
   "cell_type": "code",
   "execution_count": null,
   "id": "b4a8b64b-37d0-43a8-b6a9-044a2976743b",
   "metadata": {},
   "outputs": [],
   "source": [
    "import pandas\n",
    "import matplotlib.pyplot as plt\n",
    "from pandas.plotting import parallel_coordinates\n",
    "\n",
    "matplotlib.rcParams.update({'font.size': 12})\n",
    "fig, axes = plt.subplots(1, 1, figsize=(9, 5), layout=\"constrained\")\n",
    "fig.suptitle('personalized-Labels+Weights')\n",
    "# Make the plot\n",
    "ax = parallel_coordinates(cma_subset, 'class', color=['tab:orange','tab:green','tab:blue','tab:red'],ax=axes,lw=0.5)\n",
    "ax.plot([0,1,2,3,4,5],[0,0,0,0,0,0], color='black',lw=3)\n",
    "axes.set_ylabel('Perc. Ch. %')\n",
    "axes.xaxis.set_ticklabels(['Gender \\n DPR (↑)', \n",
    "                           'Marit. Status \\n DPR (↑)',\n",
    "                           'Age \\n DPR (↑)',\n",
    "                           'Gender \\n AOD (↓)', \n",
    "                           'Marit. Status \\n AOD (↓)',\n",
    "                           'Age \\n AOD (↓)'])\n",
    "axes.legend(loc='upper left') \n",
    "##\n",
    "file_name = 'parallelCoordGraph_personalized-Labels+Weights_Clustering_CMA.jpg'\n",
    "fig.savefig(folder+\"data\\\\results\\\\personalized\\\\Labels+Weights\\\\clustering\\\\\"+file_name, dpi=300)\n",
    "plt.show()"
   ]
  },
  {
   "cell_type": "code",
   "execution_count": null,
   "id": "afe55a01-295c-47b2-8f6d-99e318193d7a",
   "metadata": {},
   "outputs": [],
   "source": [
    "fig, ax2 = plt.subplots(1, 1, figsize=(9, 9), layout=\"constrained\")\n",
    "fig.suptitle('personalized-Labels+Weights')\n",
    "pd.plotting.scatter_matrix(cma_subset, ax=ax2)"
   ]
  },
  {
   "cell_type": "markdown",
   "id": "f688efde-3431-4c6f-81af-f9349a3a47a7",
   "metadata": {},
   "source": [
    "### Perc. change plot of all participants"
   ]
  },
  {
   "cell_type": "code",
   "execution_count": null,
   "id": "311a1c57-262b-4d52-a754-5de2438656e4",
   "metadata": {},
   "outputs": [],
   "source": [
    "## plot perc. change plot for all fairness metrics\n",
    "parts = cma_perc_change_df_lw[cma_perc_change_df_lw['NAME_FAMILY_STATUS_DemographicParityRatio']>0]['participant_id'].tolist()\n",
    "# colors = ['orange' if cma_perc_change_df_lw.loc[idx]['participant_id'] in parts else 'green' for idx in cma_perc_change_df_lw.index]\n",
    "perc_ch_df = cma_perc_change_df_lw.copy()\n",
    "# perc_ch_df['color'] = colors\n",
    "perc_ch_df['color'] = ['orange']*len(perc_ch_df)\n",
    "title = 'Personalized-Labels_Unfair+Weights'\n",
    "file_name = 'percChange_Graphs_personalized-Labels_Unfair+Weights.jpg'\n",
    "attrs  = ['CODE_GENDER','NAME_FAMILY_STATUS','AGE']\n",
    "attrs_codes = ['Gender','Marit. Stat.','Age']\n",
    "group_f = ['DemographicParityRatio','AverageOddsDifference','counterfactual']\n",
    "group_fair_cod = ['DPR (↑)','AOD (↓)','CF (↑)']\n",
    "\n",
    "perc_change_plots(perc_ch_df, \n",
    "                  title, \n",
    "                  file_name, \n",
    "                  folder+\"data\\\\results\\\\personalized\\\\Labels_Unfair+Weights\\\\figures\\\\\", \n",
    "                  attrs, attrs_codes, \n",
    "                  group_f, group_fair_cod)"
   ]
  },
  {
   "cell_type": "markdown",
   "id": "2702ae87-03ba-44ae-a953-4f27957a4d4d",
   "metadata": {},
   "source": [
    "#### Parallel Coordinate"
   ]
  },
  {
   "cell_type": "code",
   "execution_count": null,
   "id": "5789418e-4a14-4f00-87fb-29bd74bc4351",
   "metadata": {},
   "outputs": [],
   "source": [
    "import pandas\n",
    "import matplotlib.pyplot as plt\n",
    "from pandas.plotting import parallel_coordinates\n",
    "\n",
    "cma_subset = cma_perc_change_df_lw[['CODE_GENDER_DemographicParityRatio',\n",
    "                                 'NAME_FAMILY_STATUS_DemographicParityRatio',\n",
    "                                 'AGE_DemographicParityRatio',\n",
    "                                 'CODE_GENDER_AverageOddsDifference',\n",
    "                                 'NAME_FAMILY_STATUS_AverageOddsDifference',\n",
    "                                 'AGE_AverageOddsDifference']]\n",
    "# cma_subset['class'] = [0]*len(cma_perc_change_df_lw)\n",
    "parts = cma_perc_change_df_lw[cma_perc_change_df_lw['NAME_FAMILY_STATUS_DemographicParityRatio']>0]['participant_id'].tolist()\n",
    "cma_subset['class']  = [0 if cma_perc_change_df_lw.loc[idx]['participant_id'] in parts else 'green' for idx in cma_perc_change_df_lw.index]\n",
    "\n",
    "matplotlib.rcParams.update({'font.size': 22})\n",
    "fig, axes = plt.subplots(1, 1, figsize=(12, 5), layout=\"constrained\")\n",
    "fig.suptitle('Personalized-Labels_Unfair+Weights')\n",
    "# Make the plot\n",
    "ax = parallel_coordinates(cma_subset, 'class', color=['green','orange'],ax=axes,lw=1)\n",
    "ax.plot([0,1,2,3,4,5],[0,0,0,0,0,0], color='black',lw=3)\n",
    "axes.set_ylim(-48,30)\n",
    "axes.set_ylabel('Perc. Ch. % \\n From Baseline')\n",
    "axes.xaxis.set_ticklabels(['Gender \\n DPR (↑)', 'Marit. Status \\n DPR (↑)','Age \\n DPR (↑)','Gender \\n AOD (↓)', 'Marit. Status \\n AOD (↓)','Age \\n AOD (↓)'])\n",
    "axes.get_legend().remove()\n",
    "##\n",
    "file_name = 'parallelCoordGraph_personalized-Labels_Unfair+Weights_CMA.jpg'\n",
    "fig.savefig(folder+\"data\\\\results\\\\personalized\\\\Labels_Unfair+Weights\\\\figures\\\\\"+file_name, dpi=300)\n",
    "plt.show()"
   ]
  },
  {
   "cell_type": "code",
   "execution_count": null,
   "id": "0f3aab07-ca0d-4381-a47d-757ca4401012",
   "metadata": {
    "scrolled": true
   },
   "outputs": [],
   "source": [
    "import pandas\n",
    "import matplotlib.pyplot as plt\n",
    "from pandas.plotting import parallel_coordinates\n",
    "\n",
    "cma_subset = cma_perc_change_df_lw[['CODE_GENDER_DemographicParityRatio',\n",
    "                                 'NAME_FAMILY_STATUS_DemographicParityRatio',\n",
    "                                 'AGE_DemographicParityRatio',\n",
    "                                 'CODE_GENDER_AverageOddsDifference',\n",
    "                                 'NAME_FAMILY_STATUS_AverageOddsDifference',\n",
    "                                 'AGE_AverageOddsDifference']]\n",
    "# cma_subset['class'] =[0 if cma_subset.loc[idx]['NAME_FAMILY_STATUS_AverageOddsDifference']>0 else 1 for idx in cma_subset.index]\n",
    "cma_subset['class'] =[0 if cma_subset.loc[idx]['AGE_AverageOddsDifference']>0 else 1 for idx in cma_subset.index]\n",
    "# cma_subset['class'] =[0 if cma_subset.loc[idx]['NAME_FAMILY_STATUS_DemographicParityRatio']>0 else 1 for idx in cma_subset.index]\n",
    "\n",
    "matplotlib.rcParams.update({'font.size': 22})\n",
    "fig, axes = plt.subplots(1, 1, figsize=(12, 5), layout=\"constrained\")\n",
    "fig.suptitle('Personalized-Labels_Unfair+Weights')\n",
    "# Make the plot\n",
    "ax = parallel_coordinates(cma_subset, 'class', color=['tab:orange','tab:green'],ax=axes,lw=1)\n",
    "ax.plot([0,1,2,3,4,5],[0,0,0,0,0,0], color='black',lw=3)\n",
    "axes.set_ylabel('Perc. Ch. % \\n From Baseline')\n",
    "axes.xaxis.set_ticklabels(['Gender \\n DPR (↑)', 'Marit. Status \\n DPR (↑)','Age \\n DPR (↑)',\n",
    "                           'Gender \\n AOD (↓)', 'Marit. Status \\n AOD (↓)','Age \\n AOD (↓)'])\n",
    "axes.get_legend().remove()\n",
    "##\n",
    "file_name = 'parallelCoordGraph_personalized-Labels_Unfair+Weights_CMA_ageAOD.jpg'\n",
    "fig.savefig(folder+\"data\\\\results\\\\personalized\\\\Labels_Unfair+Weights\\\\figures\\\\\"+file_name, dpi=300)\n",
    "plt.show()"
   ]
  },
  {
   "cell_type": "code",
   "execution_count": null,
   "id": "c35aedbc-de70-4e75-a26a-b41cc8ff560e",
   "metadata": {},
   "outputs": [],
   "source": [
    "import seaborn as sns\n",
    "df_cma_subset = cma_subset.loc[:,~cma_subset.columns.isin(['class'])]\n",
    "df_cma_subset = df_cma_subset.rename(columns={'CODE_GENDER_DemographicParityRatio':'Gender \\n DPR (↑)',\n",
    "                              'NAME_FAMILY_STATUS_DemographicParityRatio':'Marit. Status \\n DPR (↑)',\n",
    "                              'AGE_DemographicParityRatio':'Age \\n DPR (↑)',\n",
    "                              'CODE_GENDER_AverageOddsDifference':'Gender \\n AOD (↓)',\n",
    "                              'NAME_FAMILY_STATUS_AverageOddsDifference':'Marit. Status \\n AOD (↓)',\n",
    "                              'AGE_AverageOddsDifference':'Age \\n AOD (↓)'})\n",
    "\n",
    "sns.pairplot(df_cma_subset,  corner=True)"
   ]
  },
  {
   "cell_type": "markdown",
   "id": "ac69c3aa-4075-41cc-92fa-67a4791eb7cf",
   "metadata": {
    "jp-MarkdownHeadingCollapsed": true
   },
   "source": [
    "### Line (Raw and CMA) plots"
   ]
  },
  {
   "cell_type": "markdown",
   "id": "4e689e0f-006c-4d54-8406-bed880f69320",
   "metadata": {},
   "source": [
    "#### Joint plots for all participants"
   ]
  },
  {
   "cell_type": "code",
   "execution_count": null,
   "id": "3c6ffa9a-01e6-4770-a151-fc0b6cb43c1b",
   "metadata": {
    "tags": []
   },
   "outputs": [],
   "source": [
    "title = 'Personalized-Labels_Unfair+Weights_Fair+Unfair_all'\n",
    "image_type = '.jpeg'\n",
    "filename = 'all_participants'\n",
    "joint_plot_all_participants(title, \n",
    "                            folder+\"data\\\\results\\\\personalized\\\\Labels_Unfair+Weights\\\\figures\\\\\", \n",
    "                            filename, \n",
    "                            image_type, \n",
    "                            ['CODE_GENDER','NAME_FAMILY_STATUS','AGE'], \n",
    "                            group_fair, group_fair_codes, \n",
    "                            fs, \n",
    "                            df_group, df_acc, \n",
    "                            colors, True, True)"
   ]
  },
  {
   "cell_type": "markdown",
   "id": "07f7a920-a784-4054-a548-956098b72433",
   "metadata": {},
   "source": [
    "#### Plots per participant"
   ]
  },
  {
   "cell_type": "code",
   "execution_count": null,
   "id": "e34f0e32-fe7e-440a-b95d-611793bdb445",
   "metadata": {
    "scrolled": true
   },
   "outputs": [],
   "source": [
    "title = 'Personalized-Labels_Unfair+Weights_{}'\n",
    "image_type = '.jpeg'\n",
    "plots_per_participant(title, \n",
    "                      folder+\"data\\\\results\\\\personalized\\\\Labels_Unfair+Weights\\\\figures\\\\\", \n",
    "                      image_type, \n",
    "                      ['CODE_GENDER','NAME_FAMILY_STATUS','AGE'], \n",
    "                      group_fair, group_fair_codes, \n",
    "                      fs, \n",
    "                      df_group, df_acc, \n",
    "                      colors, True)"
   ]
  },
  {
   "cell_type": "markdown",
   "id": "abd24ec1-3438-4e7f-98b1-c67bff516ef7",
   "metadata": {},
   "source": [
    "# Analysis of data from participants who reported different notions of fairness in pre-questionnaire"
   ]
  },
  {
   "cell_type": "code",
   "execution_count": null,
   "id": "b9c4f97d-65f3-4794-a6ab-157d2e8c2b86",
   "metadata": {},
   "outputs": [],
   "source": [
    "questionnaires = pd.read_csv(folder+'data\\\\processed_data\\\\QuestionnairesResponses.csv', delimiter=',')"
   ]
  },
  {
   "cell_type": "code",
   "execution_count": null,
   "id": "7a259457-1e0d-4237-a6ed-2781f8aca882",
   "metadata": {},
   "outputs": [],
   "source": [
    "consist_p_ids = questionnaires[questionnaires['PreQ3']==\"Similar people will be treated in the same way\"]['Participant_ID'].tolist()\n",
    "counterf_p_ids = questionnaires[questionnaires['PreQ3']==\"People will be treated the same whether they are protected by law (e.g. gender, age, etc.) or not\"]['Participant_ID'].tolist()"
   ]
  },
  {
   "cell_type": "markdown",
   "id": "a55c0cfd-5051-4fbf-b75e-a6e75653199a",
   "metadata": {},
   "source": [
    "### Personalized_Labels_Unfair"
   ]
  },
  {
   "cell_type": "markdown",
   "id": "9a9cb6be-a919-40f1-a60f-b1a4d89e43aa",
   "metadata": {},
   "source": [
    "#### Parallel Coordinate Consistency (\"Similar people will be treated in the same way\")"
   ]
  },
  {
   "cell_type": "code",
   "execution_count": null,
   "id": "59c0d6ed-a576-40d9-9273-220563e9ecd1",
   "metadata": {},
   "outputs": [],
   "source": [
    "import pandas\n",
    "import matplotlib.pyplot as plt\n",
    "from pandas.plotting import parallel_coordinates\n",
    "cma_subset = cma_perc_change_df_lu.loc[cma_perc_change_df_lu['participant_id'].isin(consist_p_ids)]\n",
    "cma_subset = cma_subset[['CODE_GENDER_DemographicParityRatio',\n",
    "                                    'NAME_FAMILY_STATUS_DemographicParityRatio',\n",
    "                                    'AGE_DemographicParityRatio',\n",
    "                                    'CODE_GENDER_AverageOddsDifference',\n",
    "                                    'NAME_FAMILY_STATUS_AverageOddsDifference',\n",
    "                                    'AGE_AverageOddsDifference',\n",
    "                                   'consistency']]\n",
    "cma_subset['class'] = [0]*len(cma_subset)\n",
    "\n",
    "matplotlib.rcParams.update({'font.size': 22})\n",
    "fig, axes = plt.subplots(1, 1, figsize=(12, 5), layout=\"constrained\")\n",
    "fig.suptitle('Personalized-Labels_Unfair')\n",
    "# Make the plot\n",
    "ax = parallel_coordinates(cma_subset, 'class', color=['orange'],ax=axes,lw=1)\n",
    "ax.plot([0,1,2,3,4,5,6],[0,0,0,0,0,0,0], color='black',lw=3)\n",
    "axes.set_ylabel('Perc. Ch. % \\n From Baseline')\n",
    "axes.xaxis.set_ticklabels(['Gender \\n DPR (↑)', \n",
    "                           'Marit. Status \\n DPR (↑)',\n",
    "                           'Age \\n DPR (↑)',\n",
    "                           'Gender \\n AOD (↓)', \n",
    "                           'Marit. Status \\n AOD (↓)',\n",
    "                           'Age \\n AOD (↓)',\n",
    "                          'Consist. (↑)'])\n",
    "axes.get_legend().remove()\n",
    "##\n",
    "file_name = 'parallelCoordGraph_consistency_personalized-Labels_Unfair_CMA.jpg'\n",
    "fig.savefig(folder+\"data\\\\results\\\\personalized\\\\Labels_Unfair\\\\figures\\\\\"+file_name, dpi=300)\n",
    "plt.show()"
   ]
  },
  {
   "cell_type": "markdown",
   "id": "34553b6e-d47d-4925-86ba-aa30eaa97b43",
   "metadata": {},
   "source": [
    "#### Parallel Coordinate Counterfactual (\"People will be treated the same whether they are protected by law (e.g. gender, age, etc.) or not\")"
   ]
  },
  {
   "cell_type": "code",
   "execution_count": null,
   "id": "4be998bc-7526-4a21-8727-f4f9d18d5666",
   "metadata": {},
   "outputs": [],
   "source": [
    "import pandas\n",
    "import matplotlib.pyplot as plt\n",
    "from pandas.plotting import parallel_coordinates\n",
    "\n",
    "cma_subset = cma_perc_change_df_lu.loc[cma_perc_change_df_lu['participant_id'].isin(counterf_p_ids)]\n",
    "cma_subset = cma_subset[['CODE_GENDER_DemographicParityRatio',\n",
    "                                    'NAME_FAMILY_STATUS_DemographicParityRatio',\n",
    "                                    'AGE_DemographicParityRatio',\n",
    "                                    'CODE_GENDER_AverageOddsDifference',\n",
    "                                    'NAME_FAMILY_STATUS_AverageOddsDifference',\n",
    "                                    'AGE_AverageOddsDifference',\n",
    "                                   'counterfactual_CODE_GENDER',\n",
    "                                   'counterfactual_AGE',\n",
    "                                   'counterfactual_NAME_FAMILY_STATUS']]\n",
    "cma_subset['class'] = [0]*len(cma_subset)\n",
    "\n",
    "matplotlib.rcParams.update({'font.size': 22})\n",
    "fig, axes = plt.subplots(1, 1, figsize=(20, 5), layout=\"constrained\")\n",
    "fig.suptitle('Personalized-Labels_Unfair')\n",
    "# Make the plot\n",
    "ax = parallel_coordinates(cma_subset, 'class', color=['orange'],ax=axes,lw=1)\n",
    "ax.plot([0,1,2,3,4,5,6,7,8],[0,0,0,0,0,0,0,0,0], color='black',lw=3)\n",
    "axes.set_ylabel('Perc. Ch. % \\n From Baseline')\n",
    "axes.xaxis.set_ticklabels(['Gender \\n DPR (↑)', \n",
    "                           'Marit. Status \\n DPR (↑)',\n",
    "                           'Age \\n DPR (↑)',\n",
    "                           'Gender \\n AOD (↓)', \n",
    "                           'Marit. Status \\n AOD (↓)',\n",
    "                           'Age \\n AOD (↓)',\n",
    "                          'Gender \\n Counterf. (↑)',\n",
    "                          'Age \\n Counterf. (↑)',\n",
    "                          'Marit. Status \\n Counterf. (↑)'])\n",
    "axes.get_legend().remove()\n",
    "##\n",
    "file_name = 'parallelCoordGraph_counterfactual_personalized-Labels_Unfair_CMA.jpg'\n",
    "fig.savefig(folder+\"data\\\\results\\\\personalized\\\\Labels_Unfair\\\\figures\\\\\"+file_name, dpi=300)\n",
    "plt.show()"
   ]
  },
  {
   "cell_type": "markdown",
   "id": "f0b847d5-a96e-475e-b99f-2bd8fb5afcbe",
   "metadata": {},
   "source": [
    "### Personalized_Labels_Unfair+Weights"
   ]
  },
  {
   "cell_type": "markdown",
   "id": "ee68b5a6-7bd6-4013-b618-eb020b81639b",
   "metadata": {},
   "source": [
    "#### Parallel Coordinate Consistency (\"Similar people will be treated in the same way\")"
   ]
  },
  {
   "cell_type": "code",
   "execution_count": null,
   "id": "d4f1e0e8-0c80-4793-9185-07bf39c36794",
   "metadata": {},
   "outputs": [],
   "source": [
    "import pandas\n",
    "import matplotlib.pyplot as plt\n",
    "from pandas.plotting import parallel_coordinates\n",
    "\n",
    "cma_subset = cma_perc_change_df_lw.loc[cma_perc_change_df_lw['participant_id'].isin(consist_p_ids)]\n",
    "cma_subset = cma_subset[['CODE_GENDER_DemographicParityRatio',\n",
    "                                    'NAME_FAMILY_STATUS_DemographicParityRatio',\n",
    "                                    'AGE_DemographicParityRatio',\n",
    "                                    'CODE_GENDER_AverageOddsDifference',\n",
    "                                    'NAME_FAMILY_STATUS_AverageOddsDifference',\n",
    "                                    'AGE_AverageOddsDifference',\n",
    "                                   'consistency']]\n",
    "cma_subset['class'] = [0]*len(cma_subset)\n",
    "\n",
    "matplotlib.rcParams.update({'font.size': 22})\n",
    "fig, axes = plt.subplots(1, 1, figsize=(12, 5), layout=\"constrained\")\n",
    "fig.suptitle('Personalized-Labels_Unfair+Weights')\n",
    "# Make the plot\n",
    "ax = parallel_coordinates(cma_subset, 'class', color=['orange'],ax=axes,lw=1)\n",
    "ax.plot([0,1,2,3,4,5,6],[0,0,0,0,0,0,0], color='black',lw=3)\n",
    "axes.set_ylabel('Perc. Ch. % \\n From Baseline')\n",
    "axes.xaxis.set_ticklabels(['Gender \\n DPR (↑)', \n",
    "                           'Marit. Status \\n DPR (↑)',\n",
    "                           'Age \\n DPR (↑)',\n",
    "                           'Gender \\n AOD (↓)', \n",
    "                           'Marit. Status \\n AOD (↓)',\n",
    "                           'Age \\n AOD (↓)',\n",
    "                          'Consist. (↑)'])\n",
    "axes.get_legend().remove()\n",
    "##\n",
    "file_name = 'parallelCoordGraph_consistency_personalized-Labels_Unfair+Weights_CMA.jpg'\n",
    "fig.savefig(folder+\"data\\\\results\\\\personalized\\\\Labels_Unfair+Weights\\\\figures\\\\\"+file_name, dpi=300)\n",
    "plt.show()"
   ]
  },
  {
   "cell_type": "markdown",
   "id": "b9303d89-0a75-4ded-be68-0060481b7846",
   "metadata": {},
   "source": [
    "#### Parallel Coordinate Counterfactual (\"People will be treated the same whether they are protected by law (e.g. gender, age, etc.) or not\")"
   ]
  },
  {
   "cell_type": "code",
   "execution_count": null,
   "id": "716cb17f-3355-4040-bade-e788f42109dc",
   "metadata": {},
   "outputs": [],
   "source": [
    "import pandas\n",
    "import matplotlib.pyplot as plt\n",
    "from pandas.plotting import parallel_coordinates\n",
    "\n",
    "cma_subset = cma_perc_change_df_lw.loc[cma_perc_change_df_lw['participant_id'].isin(counterf_p_ids)]\n",
    "cma_subset = cma_subset[['CODE_GENDER_DemographicParityRatio',\n",
    "                                    'NAME_FAMILY_STATUS_DemographicParityRatio',\n",
    "                                    'AGE_DemographicParityRatio',\n",
    "                                    'CODE_GENDER_AverageOddsDifference',\n",
    "                                    'NAME_FAMILY_STATUS_AverageOddsDifference',\n",
    "                                    'AGE_AverageOddsDifference',\n",
    "                                   'counterfactual_CODE_GENDER',\n",
    "                                   'counterfactual_AGE',\n",
    "                                   'counterfactual_NAME_FAMILY_STATUS']]\n",
    "cma_subset['class'] = [0]*len(cma_subset)\n",
    "\n",
    "matplotlib.rcParams.update({'font.size': 22})\n",
    "fig, axes = plt.subplots(1, 1, figsize=(20, 5), layout=\"constrained\")\n",
    "fig.suptitle('Personalized-Labels_Unfair+Weights')\n",
    "# Make the plot\n",
    "ax = parallel_coordinates(cma_subset, 'class', color=['orange'],ax=axes,lw=1)\n",
    "ax.plot([0,1,2,3,4,5,6,7,8],[0,0,0,0,0,0,0,0,0], color='black',lw=3)\n",
    "axes.set_ylabel('Perc. Ch. % \\n From Baseline')\n",
    "axes.xaxis.set_ticklabels(['Gender \\n DPR (↑)', \n",
    "                           'Marit. Status \\n DPR (↑)',\n",
    "                           'Age \\n DPR (↑)',\n",
    "                           'Gender \\n AOD (↓)', \n",
    "                           'Marit. Status \\n AOD (↓)',\n",
    "                           'Age \\n AOD (↓)',\n",
    "                          'Gender \\n Counterf. (↑)',\n",
    "                          'Age \\n Counterf. (↑)',\n",
    "                          'Marit. Status \\n Counterf. (↑)'])\n",
    "axes.get_legend().remove()\n",
    "##\n",
    "file_name = 'parallelCoordGraph_counterfactual_personalized-Labels_Unfair+Weights_CMA.jpg'\n",
    "fig.savefig(folder+\"data\\\\results\\\\personalized\\\\Labels_Unfair+Weights\\\\figures\\\\\"+file_name, dpi=300)\n",
    "plt.show()"
   ]
  },
  {
   "cell_type": "code",
   "execution_count": null,
   "id": "9d0ad1f5-5f7d-47c1-96fb-aa7fa329ce69",
   "metadata": {},
   "outputs": [],
   "source": []
  }
 ],
 "metadata": {
  "kernelspec": {
   "display_name": "Python 3 (ipykernel)",
   "language": "python",
   "name": "python3"
  },
  "language_info": {
   "codemirror_mode": {
    "name": "ipython",
    "version": 3
   },
   "file_extension": ".py",
   "mimetype": "text/x-python",
   "name": "python",
   "nbconvert_exporter": "python",
   "pygments_lexer": "ipython3",
   "version": "3.12.3"
  }
 },
 "nbformat": 4,
 "nbformat_minor": 5
}
