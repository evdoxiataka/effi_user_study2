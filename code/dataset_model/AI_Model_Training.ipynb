{
 "cells": [
  {
   "cell_type": "code",
   "execution_count": null,
   "id": "c50ee43c-6d1f-4c31-a994-8b0cbfdd21d8",
   "metadata": {},
   "outputs": [],
   "source": [
    "import numpy as np\n",
    "import pandas as pd\n",
    "import json\n",
    "import math\n",
    "\n",
    "########################SET folder to path of code directory in the project folder#####################\n",
    "## SET PATH to code directory in the project folder\n",
    "code_path = \"\"\n",
    "import sys  \n",
    "sys.path.insert(1, code_path)\n",
    "\n",
    "########################SET folder to project directory path#####################\n",
    "folder= \"\"\n",
    "\n",
    "from utils.utils import manipulate_categ_values, binning, reweighing, attributes_names_mapping\n",
    "from utils.fairness_metrics import DPR_AOD_fairness\n",
    "\n",
    "import xgboost as xgb\n",
    "\n",
    "from sklearn.model_selection import StratifiedShuffleSplit,train_test_split\n",
    "\n",
    "import warnings\n",
    "from pandas.errors import SettingWithCopyWarning\n",
    "warnings.simplefilter(action=\"ignore\", category=SettingWithCopyWarning)"
   ]
  },
  {
   "cell_type": "markdown",
   "id": "f381d4ee-c38a-4c04-afc5-104ab7824031",
   "metadata": {},
   "source": [
    "## Split Dataset"
   ]
  },
  {
   "cell_type": "code",
   "execution_count": null,
   "id": "e9b1bf5f-9954-4ca2-80b8-ae407513b79f",
   "metadata": {},
   "outputs": [],
   "source": [
    "## FIRST\n",
    "## load training and test set\n",
    "train_df_train = pd.read_csv(folder+'data\\\\processed_data\\\\train_df_train.csv', delimiter=',')\n",
    "train_df_test = pd.read_csv(folder+'data\\\\processed_data\\\\train_df_test.csv', delimiter=',')\n",
    "\n",
    "train_df_all = pd.concat([train_df_train, train_df_test], ignore_index=True)\n",
    "y_train_df_all = train_df_all['TARGET'].tolist()\n",
    "\n",
    "sss = StratifiedShuffleSplit(n_splits=1, train_size=10000, test_size=1100, random_state=13)\n",
    "for i, (train_index, test_index) in enumerate(sss.split(np.zeros(len(train_df_all)), y_train_df_all)):\n",
    "    pass\n",
    "    # print(f\"Fold {i}:\")\n",
    "    # print(f\"  Train: index={train_index}\")\n",
    "    # print(f\"  Test:  index={test_index}\")\n",
    "\n",
    "train_df = train_df_all.iloc[train_index.tolist()]\n",
    "\n",
    "## Resplit test\n",
    "test_df_all = train_df_all.iloc[test_index.tolist()]\n",
    "y_test_df_all = test_df_all['TARGET'].tolist()\n",
    "sss = StratifiedShuffleSplit(n_splits=1, train_size=1000, test_size=100, random_state=13)\n",
    "for i, (val_index, test_2_index) in enumerate(sss.split(np.zeros(len(test_df_all)), y_test_df_all)):\n",
    "    pass\n",
    "    # print(f\"Fold {i}:\")\n",
    "    # print(f\"  Train: index={val_index}\")\n",
    "    # print(f\"  Test:  index={test_2_index}\")\n",
    "\n",
    "validation_df = test_df_all.iloc[val_index.tolist()]\n",
    "test_df = test_df_all.iloc[test_2_index.tolist()]\n",
    "\n",
    "##\n",
    "train_df.to_csv(folder+'data\\\\processed_data\\\\train.csv',index='ignore') \n",
    "validation_df.to_csv(folder+'data\\\\processed_data\\\\validation.csv') \n",
    "test_df.to_csv(folder+'data\\\\processed_data\\\\test.csv') "
   ]
  },
  {
   "cell_type": "code",
   "execution_count": null,
   "id": "18b2e822-bdf9-43c9-aeee-4424e0f528d0",
   "metadata": {},
   "outputs": [],
   "source": [
    "np.sort(train_df_all['AMT_REQ_CREDIT_BUREAU_HOUR'].unique())\n"
   ]
  },
  {
   "cell_type": "code",
   "execution_count": null,
   "id": "ece97384-a29b-494f-bf12-29a29fb3c069",
   "metadata": {},
   "outputs": [],
   "source": [
    "print(np.sort(test_df['AMT_REQ_CREDIT_BUREAU_HOUR'].unique()))\n",
    "print(np.sort(test_df['AMT_REQ_CREDIT_BUREAU_DAY'].unique()))\n",
    "print(np.sort(test_df['AMT_REQ_CREDIT_BUREAU_WEEK'].unique()))\n",
    "print(np.sort(test_df['AMT_REQ_CREDIT_BUREAU_MON'].unique()))\n",
    "print(np.sort(test_df['AMT_REQ_CREDIT_BUREAU_QRT'].unique()))\n",
    "print(np.sort(test_df['AMT_REQ_CREDIT_BUREAU_YEAR'].unique()))"
   ]
  },
  {
   "cell_type": "code",
   "execution_count": null,
   "id": "9333d6a0-9460-48f9-a2a4-189a7413198f",
   "metadata": {},
   "outputs": [],
   "source": [
    "test_df[test_df['AMT_REQ_CREDIT_BUREAU_WEEK']==1.]"
   ]
  },
  {
   "cell_type": "code",
   "execution_count": null,
   "id": "f1b4ac22-a4b9-4384-8a88-e5642e881c13",
   "metadata": {},
   "outputs": [],
   "source": [
    "test_df[test_df['AMT_REQ_CREDIT_BUREAU_HOUR']==1.]"
   ]
  },
  {
   "cell_type": "code",
   "execution_count": null,
   "id": "19ff6b45-f15a-466e-9acd-acd87d31cd75",
   "metadata": {},
   "outputs": [],
   "source": [
    "test_df[test_df['AMT_REQ_CREDIT_BUREAU_DAY']==1.]"
   ]
  },
  {
   "cell_type": "code",
   "execution_count": null,
   "id": "f1d860bc-4d27-4c6d-b75a-03091869153c",
   "metadata": {},
   "outputs": [],
   "source": [
    "test_df[test_df['AMT_REQ_CREDIT_BUREAU_MON']==1.]"
   ]
  },
  {
   "cell_type": "code",
   "execution_count": null,
   "id": "0091f1ec-d47b-44a5-99d4-e3de2bb9333b",
   "metadata": {},
   "outputs": [],
   "source": [
    "test_df[test_df['OBS_30_CNT_SOCIAL_CIRCLE']==1.]"
   ]
  },
  {
   "cell_type": "code",
   "execution_count": null,
   "id": "20a85a46-87f7-4616-a45c-5b04a9d780d7",
   "metadata": {},
   "outputs": [],
   "source": [
    "train_df_or = pd.read_csv(folder+'data\\\\processed_data\\\\train_df.csv', delimiter=',')\n",
    "\n",
    "## TEST SET\n",
    "test_df_app_ids = test_df['SK_ID_CURR'].tolist()\n",
    "test_df_or = train_df_or[train_df_or['SK_ID_CURR'].isin(test_df_app_ids)]\n",
    "test_df_or = test_df_or.reset_index().set_index('SK_ID_CURR').loc[test_df_app_ids].reset_index().set_index('index').rename_axis(None)\n",
    "manipulate_categ_values(test_df_or)\n",
    "test_df_bin = binning(test_df_or, test_df)\n",
    "\n",
    "np.sort(test_df_or['AMT_REQ_CREDIT_BUREAU_HOUR'].unique())"
   ]
  },
  {
   "cell_type": "code",
   "execution_count": null,
   "id": "2c715a41-4987-4e3f-806d-3ec26d2f5c27",
   "metadata": {},
   "outputs": [],
   "source": [
    "np.sort(test_df['AMT_REQ_CREDIT_BUREAU_HOUR'].unique())"
   ]
  },
  {
   "cell_type": "markdown",
   "id": "f84793d5-e4ba-4e99-bba9-88380f33cd3b",
   "metadata": {},
   "source": [
    "## Apply Binning"
   ]
  },
  {
   "cell_type": "code",
   "execution_count": null,
   "id": "5e1293bc-9bfe-4f05-8c90-bb29b9856469",
   "metadata": {},
   "outputs": [],
   "source": [
    "train_df_or = pd.read_csv(folder+'data\\\\processed_data\\\\train_df.csv', delimiter=',')\n",
    "\n",
    "## TEST SET\n",
    "test_df_app_ids = test_df['SK_ID_CURR'].tolist()\n",
    "test_df_or = train_df_or[train_df_or['SK_ID_CURR'].isin(test_df_app_ids)]\n",
    "test_df_or = test_df_or.reset_index().set_index('SK_ID_CURR').loc[test_df_app_ids].reset_index().set_index('index').rename_axis(None)\n",
    "manipulate_categ_values(test_df_or)\n",
    "test_df_bin = binning(test_df_or, test_df)\n",
    "\n",
    "## VALIDATION SET\n",
    "validation_df_app_ids = validation_df['SK_ID_CURR'].tolist()\n",
    "validation_df_or = train_df_or[train_df_or['SK_ID_CURR'].isin(validation_df_app_ids)]\n",
    "validation_df_or = validation_df_or.reset_index().set_index('SK_ID_CURR').loc[validation_df_app_ids].reset_index().set_index('index').rename_axis(None)\n",
    "manipulate_categ_values(validation_df_or)\n",
    "validation_df_bin = binning(validation_df_or, validation_df)\n",
    "\n",
    "##\n",
    "validation_df_bin.to_csv(folder+'data\\\\processed_data\\\\validation_bin.csv') \n",
    "test_df_bin.to_csv(folder+'data\\\\processed_data\\\\test_bin.csv') "
   ]
  },
  {
   "cell_type": "markdown",
   "id": "584d33b7-a634-4838-a0a7-c38bd1905573",
   "metadata": {},
   "source": [
    "## Training"
   ]
  },
  {
   "cell_type": "code",
   "execution_count": null,
   "id": "f6806533-d29f-4032-873d-7cb5ae922e7e",
   "metadata": {
    "scrolled": true
   },
   "outputs": [],
   "source": [
    "x_train = train_df.loc[:, ~train_df.columns.isin(['SK_ID_CURR', 'TARGET'])] \n",
    "y_train = train_df.loc[:, train_df.columns.isin(['TARGET'])] \n",
    "x_test = test_df.loc[:, ~test_df.columns.isin(['SK_ID_CURR', 'TARGET'])] \n",
    "y_test = test_df.loc[:, test_df.columns.isin(['TARGET'])] \n",
    "\n",
    "## INSTACES WEIGHTS\n",
    "instances_weights = reweighing(y_train, 0, 0.5)\n",
    "\n",
    "## TRAINING\n",
    "params = {'random_state': 15, 'eta':0.3, \"device\": \"cuda\"}\n",
    "model = xgb.train(params, xgb.DMatrix(x_train, label=y_train, weight=instances_weights))\n",
    "\n",
    "## FEATURE WEIGHTS\n",
    "ft_weights_le = model.get_score(importance_type='weight')\n",
    "total_weight = 0\n",
    "for attr in ft_weights_le:\n",
    "    total_weight= total_weight + ft_weights_le[attr]\n",
    "ft_weights = {}\n",
    "for attr in attributes_names_mapping:\n",
    "    if attr in ft_weights_le:\n",
    "        ft_weights[attr] = ft_weights_le[attr]/total_weight\n",
    "    elif attr+\"_LE\" in ft_weights_le:\n",
    "        ft_weights[attr] = ft_weights_le[attr+\"_LE\"]/total_weight\n",
    "    else:\n",
    "        ft_weights[attr] = 0\n",
    "\n",
    "## PREDICTIONS\n",
    "conf = model.predict(xgb.DMatrix(x_test))\n",
    "conf = [1. if c>1 else c for c in conf ]\n",
    "predictions = [round(value) for value in conf]\n",
    "\n",
    "## CALCULATE FAIRNESS METRICS: DPR & AOD\n",
    "test_df_binned_ = test_df_bin.copy() \n",
    "test_df_binned_.insert(loc=1, \n",
    "                       column=\"Predicted_Result\", \n",
    "                       value = predictions)\n",
    "fairness_results = DPR_AOD_fairness(attributes_names_mapping, test_df_binned_)\n",
    "\n",
    "with open(folder+'data\\\\processed_data\\\\fairness.json\", \"w\") as final:\n",
    "    json.dump(fairness_results, final)"
   ]
  },
  {
   "cell_type": "markdown",
   "id": "d289e4e6-f6b7-436a-a9eb-245dfebdbac5",
   "metadata": {},
   "source": [
    "## Applications "
   ]
  },
  {
   "cell_type": "code",
   "execution_count": null,
   "id": "4fa52fc3-684b-42e0-b2a3-3f349177f4d6",
   "metadata": {
    "scrolled": true
   },
   "outputs": [],
   "source": [
    "applications_df = pd.DataFrame()\n",
    "\n",
    "leng = len(test_df['SK_ID_CURR'])\n",
    "\n",
    "applications_df['Application_id'] = test_df['SK_ID_CURR']\n",
    "applications_df['Predicted_decision'] = ['Accepted' if pred else 'Rejected' for pred in predictions]\n",
    "applications_df['Prediction_Confidence_Accepted'] = [math.floor(conf[i]*100) if pred else math.floor((1-conf[i])*100) for i,pred in enumerate(predictions)]\n",
    "applications_df['Prediction_Confidence_Rejected'] = [100-conf for conf in applications_df['Prediction_Confidence_Accepted']]\n",
    "\n",
    "#Ft_values\n",
    "for index,attr in enumerate(list(attributes_names_mapping.keys())):\n",
    "    applications_df[\"ft_name_\" + str(index)] = [attributes_names_mapping[attr]]*leng \n",
    "    applications_df[\"ft_value_\" + str(index)] = [test_df_or[test_df_or['SK_ID_CURR'] == app_id][attr].tolist()[0] for app_id in test_df['SK_ID_CURR']]\n",
    "    applications_df[\"ft_weight_\" + str(index)] = [round(list(ft_weights.values())[index],3)]*leng\n",
    "\n",
    "applications_df.to_csv(folder+'data\\\\processed_data\\\\Applications.csv') "
   ]
  },
  {
   "cell_type": "code",
   "execution_count": null,
   "id": "21284d82-a210-4ea9-a692-e4f15e395486",
   "metadata": {},
   "outputs": [],
   "source": [
    "for att in ft_weights:\n",
    "    print(attributes_names_mapping[att], round(ft_weights[att],3))"
   ]
  },
  {
   "cell_type": "code",
   "execution_count": null,
   "id": "f1aaea73-8753-4768-9db5-475abb266c10",
   "metadata": {},
   "outputs": [],
   "source": [
    "count =0\n",
    "for pred in predictions:\n",
    "    if pred == 0:\n",
    "        count = count+1\n",
    "count"
   ]
  },
  {
   "cell_type": "code",
   "execution_count": null,
   "id": "1f0d8b94-2c2f-46bb-9d6f-62c85e1d2620",
   "metadata": {},
   "outputs": [],
   "source": [
    "count = 0\n",
    "for i in predictions:\n",
    "    if i ==1 :\n",
    "        count=count+1\n",
    "count/100"
   ]
  },
  {
   "cell_type": "code",
   "execution_count": null,
   "id": "eca7efbc-14f9-4c2d-8500-721e0ad3279a",
   "metadata": {},
   "outputs": [],
   "source": [
    "\n",
    "count =0\n",
    "for pred in y_train['TARGET'].tolist():\n",
    "    if pred == 1:\n",
    "        count = count+1\n",
    "count/len(y_train)"
   ]
  },
  {
   "cell_type": "code",
   "execution_count": null,
   "id": "18bb0eb2-686f-4e60-a5e7-9f6b402b8de5",
   "metadata": {},
   "outputs": [],
   "source": [
    "100-75.18"
   ]
  },
  {
   "cell_type": "code",
   "execution_count": null,
   "id": "c921752e-9588-4b83-9f9a-baff236f1da7",
   "metadata": {},
   "outputs": [],
   "source": [
    "instances_weights"
   ]
  },
  {
   "cell_type": "code",
   "execution_count": null,
   "id": "9d4c99ee-e6af-4bb7-b114-4fe6fc73585e",
   "metadata": {},
   "outputs": [],
   "source": [
    "y_train"
   ]
  },
  {
   "cell_type": "code",
   "execution_count": null,
   "id": "e1c7f7c0-8ac5-452a-87a2-9c0d04be86f7",
   "metadata": {},
   "outputs": [],
   "source": [
    "train_df[train_df['TARGET']==0]"
   ]
  },
  {
   "cell_type": "code",
   "execution_count": null,
   "id": "035a1d68-7c4b-4d38-b9e6-d0d4913f63d9",
   "metadata": {},
   "outputs": [],
   "source": [
    "2482/10000"
   ]
  },
  {
   "cell_type": "code",
   "execution_count": null,
   "id": "3710496d-e629-461a-82b3-f60359b268e6",
   "metadata": {},
   "outputs": [],
   "source": [
    "test_df[test_df['TARGET']==0]"
   ]
  },
  {
   "cell_type": "code",
   "execution_count": null,
   "id": "ce12dc3c-fe97-4f67-a503-d4a2d902628a",
   "metadata": {},
   "outputs": [],
   "source": [
    "25/100"
   ]
  },
  {
   "cell_type": "code",
   "execution_count": null,
   "id": "2e91af35-a96f-4e9d-b0ed-9200cbac7a45",
   "metadata": {},
   "outputs": [],
   "source": []
  }
 ],
 "metadata": {
  "kernelspec": {
   "display_name": "Python 3 (ipykernel)",
   "language": "python",
   "name": "python3"
  },
  "language_info": {
   "codemirror_mode": {
    "name": "ipython",
    "version": 3
   },
   "file_extension": ".py",
   "mimetype": "text/x-python",
   "name": "python",
   "nbconvert_exporter": "python",
   "pygments_lexer": "ipython3",
   "version": "3.11.4"
  }
 },
 "nbformat": 4,
 "nbformat_minor": 5
}
